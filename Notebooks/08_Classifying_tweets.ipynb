{
 "cells": [
  {
   "cell_type": "markdown",
   "metadata": {},
   "source": [
    "## Get data"
   ]
  },
  {
   "cell_type": "code",
   "execution_count": 225,
   "metadata": {},
   "outputs": [
    {
     "name": "stdout",
     "output_type": "stream",
     "text": [
      "zsh:1: command not found: wget\n"
     ]
    }
   ],
   "source": [
    "# Only use full for Google colab\n",
    "\n",
    "#!wget https://storage.googleapis.com/ztm_tf_course/nlp_getting_started.zip -d data\n",
    "#!unzip nlp_getting_started.zip -d data\n",
    "#! python -m spacy download en_core_web_sm  # download english model for spacy"
   ]
  },
  {
   "cell_type": "markdown",
   "metadata": {},
   "source": [
    "## Explore Data"
   ]
  },
  {
   "cell_type": "code",
   "execution_count": 24,
   "metadata": {},
   "outputs": [
    {
     "data": {
      "text/html": [
       "<div>\n",
       "<style scoped>\n",
       "    .dataframe tbody tr th:only-of-type {\n",
       "        vertical-align: middle;\n",
       "    }\n",
       "\n",
       "    .dataframe tbody tr th {\n",
       "        vertical-align: top;\n",
       "    }\n",
       "\n",
       "    .dataframe thead th {\n",
       "        text-align: right;\n",
       "    }\n",
       "</style>\n",
       "<table border=\"1\" class=\"dataframe\">\n",
       "  <thead>\n",
       "    <tr style=\"text-align: right;\">\n",
       "      <th></th>\n",
       "      <th>id</th>\n",
       "      <th>keyword</th>\n",
       "      <th>location</th>\n",
       "      <th>text</th>\n",
       "      <th>target</th>\n",
       "    </tr>\n",
       "  </thead>\n",
       "  <tbody>\n",
       "    <tr>\n",
       "      <th>0</th>\n",
       "      <td>1</td>\n",
       "      <td>NaN</td>\n",
       "      <td>NaN</td>\n",
       "      <td>Our Deeds are the Reason of this #earthquake M...</td>\n",
       "      <td>1</td>\n",
       "    </tr>\n",
       "    <tr>\n",
       "      <th>1</th>\n",
       "      <td>4</td>\n",
       "      <td>NaN</td>\n",
       "      <td>NaN</td>\n",
       "      <td>Forest fire near La Ronge Sask. Canada</td>\n",
       "      <td>1</td>\n",
       "    </tr>\n",
       "    <tr>\n",
       "      <th>2</th>\n",
       "      <td>5</td>\n",
       "      <td>NaN</td>\n",
       "      <td>NaN</td>\n",
       "      <td>All residents asked to 'shelter in place' are ...</td>\n",
       "      <td>1</td>\n",
       "    </tr>\n",
       "    <tr>\n",
       "      <th>3</th>\n",
       "      <td>6</td>\n",
       "      <td>NaN</td>\n",
       "      <td>NaN</td>\n",
       "      <td>13,000 people receive #wildfires evacuation or...</td>\n",
       "      <td>1</td>\n",
       "    </tr>\n",
       "    <tr>\n",
       "      <th>4</th>\n",
       "      <td>7</td>\n",
       "      <td>NaN</td>\n",
       "      <td>NaN</td>\n",
       "      <td>Just got sent this photo from Ruby #Alaska as ...</td>\n",
       "      <td>1</td>\n",
       "    </tr>\n",
       "  </tbody>\n",
       "</table>\n",
       "</div>"
      ],
      "text/plain": [
       "   id keyword location                                               text  \\\n",
       "0   1     NaN      NaN  Our Deeds are the Reason of this #earthquake M...   \n",
       "1   4     NaN      NaN             Forest fire near La Ronge Sask. Canada   \n",
       "2   5     NaN      NaN  All residents asked to 'shelter in place' are ...   \n",
       "3   6     NaN      NaN  13,000 people receive #wildfires evacuation or...   \n",
       "4   7     NaN      NaN  Just got sent this photo from Ruby #Alaska as ...   \n",
       "\n",
       "   target  \n",
       "0       1  \n",
       "1       1  \n",
       "2       1  \n",
       "3       1  \n",
       "4       1  "
      ]
     },
     "execution_count": 24,
     "metadata": {},
     "output_type": "execute_result"
    }
   ],
   "source": [
    "import numpy as np\n",
    "import pandas as pd\n",
    "df_train = pd.read_csv(\"../data/nlp_getting_started/train.csv\")\n",
    "df_test = pd.read_csv(\"../data/nlp_getting_started/test.csv\")\n",
    "df_train.head()"
   ]
  },
  {
   "cell_type": "code",
   "execution_count": 25,
   "metadata": {},
   "outputs": [
    {
     "data": {
      "text/html": [
       "<div>\n",
       "<style scoped>\n",
       "    .dataframe tbody tr th:only-of-type {\n",
       "        vertical-align: middle;\n",
       "    }\n",
       "\n",
       "    .dataframe tbody tr th {\n",
       "        vertical-align: top;\n",
       "    }\n",
       "\n",
       "    .dataframe thead th {\n",
       "        text-align: right;\n",
       "    }\n",
       "</style>\n",
       "<table border=\"1\" class=\"dataframe\">\n",
       "  <thead>\n",
       "    <tr style=\"text-align: right;\">\n",
       "      <th></th>\n",
       "      <th>id</th>\n",
       "      <th>keyword</th>\n",
       "      <th>location</th>\n",
       "      <th>text</th>\n",
       "    </tr>\n",
       "  </thead>\n",
       "  <tbody>\n",
       "    <tr>\n",
       "      <th>0</th>\n",
       "      <td>0</td>\n",
       "      <td>NaN</td>\n",
       "      <td>NaN</td>\n",
       "      <td>Just happened a terrible car crash</td>\n",
       "    </tr>\n",
       "    <tr>\n",
       "      <th>1</th>\n",
       "      <td>2</td>\n",
       "      <td>NaN</td>\n",
       "      <td>NaN</td>\n",
       "      <td>Heard about #earthquake is different cities, s...</td>\n",
       "    </tr>\n",
       "    <tr>\n",
       "      <th>2</th>\n",
       "      <td>3</td>\n",
       "      <td>NaN</td>\n",
       "      <td>NaN</td>\n",
       "      <td>there is a forest fire at spot pond, geese are...</td>\n",
       "    </tr>\n",
       "    <tr>\n",
       "      <th>3</th>\n",
       "      <td>9</td>\n",
       "      <td>NaN</td>\n",
       "      <td>NaN</td>\n",
       "      <td>Apocalypse lighting. #Spokane #wildfires</td>\n",
       "    </tr>\n",
       "    <tr>\n",
       "      <th>4</th>\n",
       "      <td>11</td>\n",
       "      <td>NaN</td>\n",
       "      <td>NaN</td>\n",
       "      <td>Typhoon Soudelor kills 28 in China and Taiwan</td>\n",
       "    </tr>\n",
       "  </tbody>\n",
       "</table>\n",
       "</div>"
      ],
      "text/plain": [
       "   id keyword location                                               text\n",
       "0   0     NaN      NaN                 Just happened a terrible car crash\n",
       "1   2     NaN      NaN  Heard about #earthquake is different cities, s...\n",
       "2   3     NaN      NaN  there is a forest fire at spot pond, geese are...\n",
       "3   9     NaN      NaN           Apocalypse lighting. #Spokane #wildfires\n",
       "4  11     NaN      NaN      Typhoon Soudelor kills 28 in China and Taiwan"
      ]
     },
     "execution_count": 25,
     "metadata": {},
     "output_type": "execute_result"
    }
   ],
   "source": [
    "df_test.head()"
   ]
  },
  {
   "cell_type": "code",
   "execution_count": 26,
   "metadata": {},
   "outputs": [
    {
     "name": "stdout",
     "output_type": "stream",
     "text": [
      "Percentage of samples in training set: 70.00%\n",
      "Percentage of samples in test set: 30.00%\n"
     ]
    }
   ],
   "source": [
    "# percentage of samples in training and test set\n",
    "print(f\"Percentage of samples in training set: {len(df_train)/(len(df_train)+len(df_test))*100:.2f}%\")\n",
    "print(f\"Percentage of samples in test set: {len(df_test)/(len(df_train)+len(df_test))*100:.2f}%\")"
   ]
  },
  {
   "cell_type": "code",
   "execution_count": 27,
   "metadata": {},
   "outputs": [
    {
     "data": {
      "text/html": [
       "<div>\n",
       "<style scoped>\n",
       "    .dataframe tbody tr th:only-of-type {\n",
       "        vertical-align: middle;\n",
       "    }\n",
       "\n",
       "    .dataframe tbody tr th {\n",
       "        vertical-align: top;\n",
       "    }\n",
       "\n",
       "    .dataframe thead th {\n",
       "        text-align: right;\n",
       "    }\n",
       "</style>\n",
       "<table border=\"1\" class=\"dataframe\">\n",
       "  <thead>\n",
       "    <tr style=\"text-align: right;\">\n",
       "      <th></th>\n",
       "      <th>id</th>\n",
       "      <th>keyword</th>\n",
       "      <th>location</th>\n",
       "      <th>text</th>\n",
       "      <th>target</th>\n",
       "    </tr>\n",
       "  </thead>\n",
       "  <tbody>\n",
       "    <tr>\n",
       "      <th>2644</th>\n",
       "      <td>3796</td>\n",
       "      <td>destruction</td>\n",
       "      <td>NaN</td>\n",
       "      <td>So you have a new weapon that can cause un-ima...</td>\n",
       "      <td>1</td>\n",
       "    </tr>\n",
       "    <tr>\n",
       "      <th>2227</th>\n",
       "      <td>3185</td>\n",
       "      <td>deluge</td>\n",
       "      <td>NaN</td>\n",
       "      <td>The f$&amp;amp;@ing things I do for #GISHWHES Just...</td>\n",
       "      <td>0</td>\n",
       "    </tr>\n",
       "    <tr>\n",
       "      <th>5448</th>\n",
       "      <td>7769</td>\n",
       "      <td>police</td>\n",
       "      <td>UK</td>\n",
       "      <td>DT @georgegalloway: RT @Galloway4Mayor: ÛÏThe...</td>\n",
       "      <td>1</td>\n",
       "    </tr>\n",
       "    <tr>\n",
       "      <th>132</th>\n",
       "      <td>191</td>\n",
       "      <td>aftershock</td>\n",
       "      <td>NaN</td>\n",
       "      <td>Aftershock back to school kick off was great. ...</td>\n",
       "      <td>0</td>\n",
       "    </tr>\n",
       "    <tr>\n",
       "      <th>6845</th>\n",
       "      <td>9810</td>\n",
       "      <td>trauma</td>\n",
       "      <td>Montgomery County, MD</td>\n",
       "      <td>in response to trauma Children of Addicts deve...</td>\n",
       "      <td>0</td>\n",
       "    </tr>\n",
       "  </tbody>\n",
       "</table>\n",
       "</div>"
      ],
      "text/plain": [
       "        id      keyword               location  \\\n",
       "2644  3796  destruction                    NaN   \n",
       "2227  3185       deluge                    NaN   \n",
       "5448  7769       police                     UK   \n",
       "132    191   aftershock                    NaN   \n",
       "6845  9810       trauma  Montgomery County, MD   \n",
       "\n",
       "                                                   text  target  \n",
       "2644  So you have a new weapon that can cause un-ima...       1  \n",
       "2227  The f$&amp;@ing things I do for #GISHWHES Just...       0  \n",
       "5448  DT @georgegalloway: RT @Galloway4Mayor: ÛÏThe...       1  \n",
       "132   Aftershock back to school kick off was great. ...       0  \n",
       "6845  in response to trauma Children of Addicts deve...       0  "
      ]
     },
     "execution_count": 27,
     "metadata": {},
     "output_type": "execute_result"
    }
   ],
   "source": [
    "# Shuffle training dataframe\n",
    "df_train_shuffled = df_train.sample(frac=1, random_state=42)\n",
    "df_train_shuffled.head()"
   ]
  },
  {
   "cell_type": "code",
   "execution_count": 28,
   "metadata": {},
   "outputs": [
    {
     "name": "stdout",
     "output_type": "stream",
     "text": [
      "0    4342\n",
      "1    3271\n",
      "Name: target, dtype: int64\n",
      "percentage of disaster tweets :  42.97 %\n",
      "percentage of non - disaster tweets :  57.03 %\n"
     ]
    }
   ],
   "source": [
    "# unique labels and their counts\n",
    "print(df_train_shuffled[\"target\"].value_counts())\n",
    "\n",
    "# what is the percentage of disaster tweets\n",
    "print(\"percentage of disaster tweets : \", round(len(df_train_shuffled[df_train_shuffled[\"target\"] == 1]) / len(df_train_shuffled) * 100, 2), \"%\")\n",
    "\n",
    "# what is the percentage of non-disaster tweets\n",
    "print(\"percentage of non - disaster tweets : \", round(len(df_train_shuffled[df_train_shuffled[\"target\"] == 0]) / len(df_train_shuffled) * 100, 2), \"%\")\n"
   ]
  },
  {
   "cell_type": "code",
   "execution_count": 29,
   "metadata": {},
   "outputs": [
    {
     "data": {
      "text/plain": [
       "(7613, 3263)"
      ]
     },
     "execution_count": 29,
     "metadata": {},
     "output_type": "execute_result"
    }
   ],
   "source": [
    "# count of samples in each split\n",
    "len(df_train_shuffled), len(df_test)"
   ]
  },
  {
   "cell_type": "code",
   "execution_count": 30,
   "metadata": {},
   "outputs": [
    {
     "name": "stdout",
     "output_type": "stream",
     "text": [
      "Target: 1 (real disaster)\n",
      "Text:\n",
      "??\n",
      "Warfighting Robots Could Reduce Civilian Casualties So Calling for a Ban Now Is Premature - IEEE Spectrum http://t.co/TzR58B86qz\n",
      "\n",
      "---\n",
      "\n",
      "Target: 1 (real disaster)\n",
      "Text:\n",
      "@fewmoretweets all lives matter. Just not a fan of burning down buildings and stealing from your neighbors to 'protest'\n",
      "\n",
      "---\n",
      "\n",
      "Target: 1 (real disaster)\n",
      "Text:\n",
      "WomanÛªs GPS app guides rescuers to injured biker in Marin County http://t.co/UoJy4E2Sv4\n",
      "\n",
      "---\n",
      "\n",
      "Target: 0 (not real disaster)\n",
      "Text:\n",
      "Tonight It's Going To Be Mayhem @ #4PlayThursdays. Everybody Free w/ Text. 1716 I ST NW (18+) http://t.co/sCu9QZp6nq\n",
      "\n",
      "---\n",
      "\n",
      "Target: 0 (not real disaster)\n",
      "Text:\n",
      "Why is there an ambulance right outside my work\n",
      "\n",
      "---\n",
      "\n"
     ]
    }
   ],
   "source": [
    "# Visualize random training examples with help of a custom function\n",
    "def visulize_random_train_samples():\n",
    "    import random\n",
    "    random_index = random.randint(0, len(df_train_shuffled)-5)  # create random indexes not exceeding len(df_train_shuffled)\n",
    "    for row in df_train_shuffled[[\"text\", \"target\"]][random_index:random_index+5].itertuples():\n",
    "        _, text, target = row\n",
    "        print(f\"Target: {target}\", \"(real disaster)\" if target > 0 else \"(not real disaster)\")\n",
    "        print(f\"Text:\\n{text}\\n\")\n",
    "        print(\"---\\n\")\n",
    "visulize_random_train_samples()"
   ]
  },
  {
   "cell_type": "markdown",
   "metadata": {},
   "source": [
    "## Clean the data"
   ]
  },
  {
   "cell_type": "code",
   "execution_count": 31,
   "metadata": {},
   "outputs": [],
   "source": [
    "import spacy\n",
    "from spacy.lang.en.stop_words import STOP_WORDS\n",
    "nlp = spacy.load(\"en_core_web_sm\")\n",
    "\n",
    "# Clean text data with help of spacy removing stopwords, url, punctuation, special characters, converting to lowercase and lemmatization\n",
    "def preprocess_text(text):\n",
    "    doc = nlp(text)\n",
    "    tokens = []\n",
    "    for token in doc:\n",
    "        if token.lemma_ != \"-PRON-\":\n",
    "            temp = token.lemma_.lower().strip()\n",
    "        else:\n",
    "            temp = token.lower_\n",
    "        tokens.append(temp)\n",
    "    cleaned_tokens = []\n",
    "    for token in tokens:\n",
    "        if token not in STOP_WORDS and token not in \"’s\":\n",
    "            cleaned_tokens.append(token)\n",
    "    return \" \".join(cleaned_tokens)"
   ]
  },
  {
   "cell_type": "code",
   "execution_count": 32,
   "metadata": {},
   "outputs": [],
   "source": [
    "# clean text\n",
    "df_train_shuffled[\"clean_text\"] = df_train_shuffled[\"text\"].apply(preprocess_text)\n",
    "df_test[\"clean_text\"] = df_test[\"text\"].apply(preprocess_text)\n"
   ]
  },
  {
   "cell_type": "code",
   "execution_count": 33,
   "metadata": {},
   "outputs": [
    {
     "name": "stdout",
     "output_type": "stream",
     "text": [
      "Target: 1 (real disaster)\n",
      "Text:\n",
      "@aelinrhee a group of mascara smeared girls rioting will be horrific I think\n",
      "\n",
      "---\n",
      "\n",
      "Target: 0 (not real disaster)\n",
      "Text:\n",
      "when you got an extension cord that extends from your bed to your bath tub ?? lets pray I don't electrocute myself\n",
      "\n",
      "---\n",
      "\n",
      "Target: 1 (real disaster)\n",
      "Text:\n",
      "@HowardU If 90BLKs&amp;8WHTs colluded 2 take WHT F @USAgov AUTH Hostage&amp;2 make her look BLK w/Bioterrorism&amp;use her lgl/org IDis ID still hers?\n",
      "\n",
      "---\n",
      "\n",
      "Target: 0 (not real disaster)\n",
      "Text:\n",
      "IK Only Troll His Pol Rivals Never Literally Abused Them Or Attacked Their Families. While All Of Them Literally Abuse IK. Loosers\n",
      "\n",
      "---\n",
      "\n",
      "Target: 1 (real disaster)\n",
      "Text:\n",
      "25 killed 50 injured in Madhya Pradesh twin train derailment http://t.co/DNU5HWSxo2\n",
      "\n",
      "---\n",
      "\n"
     ]
    }
   ],
   "source": [
    "visulize_random_train_samples()"
   ]
  },
  {
   "cell_type": "markdown",
   "metadata": {},
   "source": [
    "## split the data"
   ]
  },
  {
   "cell_type": "code",
   "execution_count": 34,
   "metadata": {},
   "outputs": [
    {
     "data": {
      "text/plain": [
       "(6851, 6851, 762, 762)"
      ]
     },
     "execution_count": 34,
     "metadata": {},
     "output_type": "execute_result"
    }
   ],
   "source": [
    "# split data into training and validation sets\n",
    "from sklearn.model_selection import train_test_split\n",
    "train_sentences, val_sentences, train_labels, val_labels = train_test_split(df_train_shuffled[\"text\"].to_numpy(),\n",
    "                                                                            df_train_shuffled[\"target\"].to_numpy(),\n",
    "                                                                            test_size=0.1, # use 10% of training data for validation split\n",
    "                                                                            random_state=42)\n",
    "\n",
    "# check the number of samples in training and validation sets\n",
    "len(train_sentences), len(train_labels), len(val_sentences), len(val_labels)"
   ]
  },
  {
   "cell_type": "code",
   "execution_count": 35,
   "metadata": {},
   "outputs": [
    {
     "name": "stdout",
     "output_type": "stream",
     "text": [
      "percentage of disaster tweets in training set :  42.67 %\n",
      "percentage of non-disaster tweets in training set :  57.33 %\n",
      "percentage of disaster tweets in validation set :  45.67 %\n",
      "percentage of non-disaster tweets in validation set :  54.33 %\n"
     ]
    }
   ],
   "source": [
    "# check the percentage of disaster and non-disaster tweets in training and validation sets\n",
    "print(\"percentage of disaster tweets in training set : \", round(len(train_labels[train_labels == 1]) / len(train_labels) * 100, 2), \"%\")\n",
    "print(\"percentage of non-disaster tweets in training set : \", round(len(train_labels[train_labels == 0]) / len(train_labels) * 100, 2), \"%\")\n",
    "print(\"percentage of disaster tweets in validation set : \", round(len(val_labels[val_labels == 1]) / len(val_labels) * 100, 2), \"%\")\n",
    "print(\"percentage of non-disaster tweets in validation set : \", round(len(val_labels[val_labels == 0]) / len(val_labels) * 100, 2), \"%\")"
   ]
  },
  {
   "cell_type": "code",
   "execution_count": 36,
   "metadata": {},
   "outputs": [
    {
     "data": {
      "text/plain": [
       "(array(['@mogacola @zamtriossu i screamed after hitting tweet',\n",
       "        'Imagine getting flattened by Kurt Zouma',\n",
       "        '@Gurmeetramrahim #MSGDoing111WelfareWorks Green S welfare force ke appx 65000 members har time disaster victim ki help ke liye tyar hai....',\n",
       "        \"@shakjn @C7 @Magnums im shaking in fear he's gonna hack the planet\",\n",
       "        'Somehow find you and I collide http://t.co/Ee8RpOahPk',\n",
       "        '@EvaHanderek @MarleyKnysh great times until the bus driver held us hostage in the mall parking lot lmfao',\n",
       "        'destroy the free fandom honestly',\n",
       "        'Weapons stolen from National Guard Armory in New Albany still missing #Gunsense http://t.co/lKNU8902JE',\n",
       "        '@wfaaweather Pete when will the heat wave pass? Is it really going to be mid month? Frisco Boy Scouts have a canoe trip in Okla.',\n",
       "        'Patient-reported outcomes in long-term survivors of metastatic colorectal cancer - British Journal of Surgery http://t.co/5Yl4DC1Tqt'],\n",
       "       dtype=object),\n",
       " array([0, 0, 1, 0, 0, 1, 1, 0, 1, 1]))"
      ]
     },
     "execution_count": 36,
     "metadata": {},
     "output_type": "execute_result"
    }
   ],
   "source": [
    "# check the first 10 samples in training sentences and labels\n",
    "train_sentences[:10], train_labels[:10]"
   ]
  },
  {
   "cell_type": "code",
   "execution_count": 37,
   "metadata": {},
   "outputs": [
    {
     "data": {
      "text/plain": [
       "(array(['DFR EP016 Monthly Meltdown - On Dnbheaven 2015.08.06 http://t.co/EjKRf8N8A8 #Drum and Bass #heavy #nasty http://t.co/SPHWE6wFI5',\n",
       "        'FedEx no longer to transport bioterror germs in wake of anthrax lab mishaps http://t.co/qZQc8WWwcN via @usatoday',\n",
       "        'Gunmen kill four in El Salvador bus attack: Suspected Salvadoran gang members killed four people and wounded s... http://t.co/CNtwB6ScZj',\n",
       "        '@camilacabello97 Internally and externally screaming',\n",
       "        'Radiation emergency #preparedness starts with knowing to: get inside stay inside and stay tuned http://t.co/RFFPqBAz2F via @CDCgov',\n",
       "        'Investigators rule catastrophic structural failure resulted in 2014 Virg.. Related Articles: http://t.co/Cy1LFeNyV8',\n",
       "        'How the West was burned: Thousands of wildfires ablaze in #California alone http://t.co/iCSjGZ9tE1 #climate #energy http://t.co/9FxmN0l0Bd',\n",
       "        \"Map: Typhoon Soudelor's predicted path as it approaches Taiwan; expected to make landfall over southern China by S\\x89Û_ http://t.co/JDVSGVhlIs\",\n",
       "        '\\x89Ûª93 blasts accused Yeda Yakub dies in Karachi of heart attack http://t.co/mfKqyxd8XG #Mumbai',\n",
       "        'My ears are bleeding  https://t.co/k5KnNwugwT'], dtype=object),\n",
       " array([0, 0, 1, 1, 1, 1, 1, 1, 1, 0]))"
      ]
     },
     "execution_count": 37,
     "metadata": {},
     "output_type": "execute_result"
    }
   ],
   "source": [
    "# check the first 10 samples in validation sentences and labels\n",
    "val_sentences[:10], val_labels[:10]"
   ]
  },
  {
   "cell_type": "code",
   "execution_count": 38,
   "metadata": {},
   "outputs": [
    {
     "name": "stdout",
     "output_type": "stream",
     "text": [
      "percentage of samples in training set :  62.99 %\n",
      "percentage of samples in validation set :  7.01 %\n",
      "percentage of samples in test set :  30.0 %\n"
     ]
    }
   ],
   "source": [
    "# check the percentage of samples in training, validation and test sets of the original dataframe\n",
    "\n",
    "print(\"percentage of samples in training set : \", round(len(train_sentences) / (len(df_train_shuffled)+len(df_test)) * 100, 2), \"%\")\n",
    "print(\"percentage of samples in validation set : \", round(len(val_sentences) / (len(df_train_shuffled)+len(df_test)) * 100, 2), \"%\")\n",
    "print(\"percentage of samples in test set : \", round(len(df_test) / (len(df_train_shuffled)+len(df_test)) * 100, 2), \"%\")\n"
   ]
  },
  {
   "cell_type": "markdown",
   "metadata": {},
   "source": [
    "## Tokenization / Embedding of text\n",
    "\n",
    "* Tokenization : Direct mapping of token to number\n",
    "\n",
    "* Embedding - create a feature vector for a token"
   ]
  },
  {
   "cell_type": "markdown",
   "metadata": {},
   "source": [
    "### Tokenizing"
   ]
  },
  {
   "cell_type": "code",
   "execution_count": 39,
   "metadata": {},
   "outputs": [],
   "source": [
    "# tokenize text using tensorflow layer\n",
    "import tensorflow as tf\n",
    "from tensorflow.keras.layers import TextVectorization\n",
    "\n",
    "#create TextVectorization object\n",
    "text_vectorizer = TextVectorization(max_tokens=10000, # how many words in the vocabulary (automatically add <OOV>)\n",
    "                                    standardize=\"lower_and_strip_punctuation\", # how to process text\n",
    "                                    split=\"whitespace\", # how to split tokens\n",
    "                                    ngrams=None, # create groups of n-words\n",
    "                                    output_mode=\"int\", # how to map tokens to numbers\n",
    "                                    output_sequence_length=15, # how long should the output sequence of tokens be\n",
    "                                    pad_to_max_tokens=True) # whether to pad sequences to the longest sequence or not"
   ]
  },
  {
   "cell_type": "code",
   "execution_count": 40,
   "metadata": {},
   "outputs": [],
   "source": [
    "# set text_vectorizer variables on training text\n",
    "text_vectorizer.adapt(train_sentences)"
   ]
  },
  {
   "cell_type": "code",
   "execution_count": 41,
   "metadata": {},
   "outputs": [
    {
     "data": {
      "text/plain": [
       "<tf.Tensor: shape=(1, 15), dtype=int64, numpy=\n",
       "array([[264,   3, 232,   4,  13, 698,   0,   0,   0,   0,   0,   0,   0,\n",
       "          0,   0]])>"
      ]
     },
     "execution_count": 41,
     "metadata": {},
     "output_type": "execute_result"
    }
   ],
   "source": [
    "# create a sample sentence and tokenize it\n",
    "sample_sentence = \"There's a flood in my street!\"\n",
    "text_vectorizer([sample_sentence])"
   ]
  },
  {
   "cell_type": "code",
   "execution_count": 42,
   "metadata": {},
   "outputs": [
    {
     "name": "stdout",
     "output_type": "stream",
     "text": [
      "Original text:\n",
      "I'm over here listening to Bloody Jay.  ???? https://t.co/CIyty0FgpR        \n",
      "\n",
      "Vectorized version:\n"
     ]
    },
    {
     "data": {
      "text/plain": [
       "<tf.Tensor: shape=(1, 15), dtype=int64, numpy=\n",
       "array([[  32,   60,  140, 1820,    5,  261, 3724,    1,    0,    0,    0,\n",
       "           0,    0,    0,    0]])>"
      ]
     },
     "execution_count": 42,
     "metadata": {},
     "output_type": "execute_result"
    }
   ],
   "source": [
    "import random\n",
    "random_sentence = random.choice(train_sentences)\n",
    "print(f\"Original text:\\n{random_sentence}\\\n",
    "        \\n\\nVectorized version:\")\n",
    "text_vectorizer([random_sentence])"
   ]
  },
  {
   "cell_type": "code",
   "execution_count": 43,
   "metadata": {},
   "outputs": [
    {
     "name": "stdout",
     "output_type": "stream",
     "text": [
      "Number of words in vocab: 10000\n",
      "5 most common words: ['', '[UNK]', 'the', 'a', 'in']\n",
      "5 least common words: ['pages', 'paeds', 'pads', 'padres', 'paddytomlinson1']\n"
     ]
    }
   ],
   "source": [
    "# get the unique words in the vocabulary\n",
    "words_in_vocab = text_vectorizer.get_vocabulary()\n",
    "top_5_words = words_in_vocab[:5]\n",
    "bottom_5_words = words_in_vocab[-5:]\n",
    "print(f\"Number of words in vocab: {len(words_in_vocab)}\")\n",
    "print(f\"5 most common words: {top_5_words}\")\n",
    "print(f\"5 least common words: {bottom_5_words}\")\n"
   ]
  },
  {
   "cell_type": "markdown",
   "metadata": {},
   "source": [
    "### Embedding"
   ]
  },
  {
   "cell_type": "code",
   "execution_count": 44,
   "metadata": {},
   "outputs": [
    {
     "name": "stdout",
     "output_type": "stream",
     "text": [
      "Original text:\n",
      "One Direction Is my pick for http://t.co/q2eBlOKeVE Fan Army #Directioners http://t.co/eNCmhz6y34 x1402        \n",
      "\n",
      "Embedded version:\n"
     ]
    },
    {
     "data": {
      "text/plain": [
       "<tf.Tensor: shape=(1, 15, 128), dtype=float32, numpy=\n",
       "array([[[-0.02120862,  0.00613326, -0.04619512, ...,  0.01726926,\n",
       "         -0.01459036,  0.0012012 ],\n",
       "        [-0.03645631, -0.04758221,  0.01720228, ..., -0.03580326,\n",
       "          0.01114757,  0.04708837],\n",
       "        [ 0.03662353,  0.00419394, -0.00759017, ..., -0.03756014,\n",
       "         -0.02268845, -0.00578203],\n",
       "        ...,\n",
       "        [-0.03960433,  0.04530147,  0.00514634, ...,  0.03285355,\n",
       "          0.03956326, -0.01225486],\n",
       "        [-0.03960433,  0.04530147,  0.00514634, ...,  0.03285355,\n",
       "          0.03956326, -0.01225486],\n",
       "        [-0.03960433,  0.04530147,  0.00514634, ...,  0.03285355,\n",
       "          0.03956326, -0.01225486]]], dtype=float32)>"
      ]
     },
     "execution_count": 44,
     "metadata": {},
     "output_type": "execute_result"
    }
   ],
   "source": [
    "# Creating an Embedding using an Embedding Layer\n",
    "from tensorflow.keras.layers import Embedding\n",
    "\n",
    "# create an embedding layer\n",
    "embedding = Embedding(input_dim=10000, # size of our vocabulary\n",
    "                        output_dim=128, # set the size of the embedding vector\n",
    "                        embeddings_initializer=\"uniform\", # default, initialize embedding layer\n",
    "                        input_length=15) # how long is each input sentence\n",
    "\n",
    "# get a random sentence from training set\n",
    "random_sentence = random.choice(train_sentences)\n",
    "print(f\"Original text:\\n{random_sentence}\\\n",
    "        \\n\\nEmbedded version:\")\n",
    "# embed the random sentence (turn it into numerical representation)\n",
    "sample_embed = embedding(text_vectorizer([random_sentence]))\n",
    "sample_embed\n"
   ]
  },
  {
   "cell_type": "markdown",
   "metadata": {},
   "source": [
    "## Classificaton Model ( Disaster / Not Disaster)\n",
    "\n",
    "* Model 0: Naive Bayes (baseline)\n",
    "* Model 1: Feed-forward neural network (dense model)\n",
    "* Model 2: LSTM model\n",
    "* Model 3: GRU model\n",
    "* Model 4: Bidirectional-LSTM model\n",
    "* Model 5: 1D Convolutional Neural Network\n",
    "* Model 6: TensorFlow Hub Pretrained Feature Extractor\n",
    "* Model 7: Same as model 6 with 10% of training data"
   ]
  },
  {
   "cell_type": "markdown",
   "metadata": {},
   "source": [
    "### Model 0: Naive Bayes (baseline)"
   ]
  },
  {
   "cell_type": "code",
   "execution_count": 46,
   "metadata": {},
   "outputs": [
    {
     "data": {
      "text/plain": [
       "0.7926509186351706"
      ]
     },
     "execution_count": 46,
     "metadata": {},
     "output_type": "execute_result"
    }
   ],
   "source": [
    "# Define the model 0 by using sci-kit learn API\n",
    "from sklearn.feature_extraction.text import TfidfVectorizer\n",
    "from sklearn.naive_bayes import MultinomialNB\n",
    "from sklearn.pipeline import Pipeline\n",
    "\n",
    "# create a pipeline\n",
    "model_0 = Pipeline([\n",
    "    (\"tf-idf\", TfidfVectorizer()), # convert words to numbers using tf-idf\n",
    "    (\"clf\", MultinomialNB()) # model the text\n",
    "])\n",
    "\n",
    "# fit the pipeline to the training data\n",
    "model_0.fit(train_sentences, train_labels)\n",
    "\n",
    "# evaluate the baseline model on validation set\n",
    "model_0.score(val_sentences, val_labels)\n"
   ]
  },
  {
   "cell_type": "code",
   "execution_count": 111,
   "metadata": {},
   "outputs": [
    {
     "data": {
      "text/plain": [
       "{'accuracy': 79.27, 'precision': 81.11, 'recall': 79.27, 'f1': 78.62}"
      ]
     },
     "execution_count": 111,
     "metadata": {},
     "output_type": "execute_result"
    }
   ],
   "source": [
    "y_preds = model_0.predict(val_sentences)\n",
    "\n",
    "# get accuracy, precision, recall, f1-score\n",
    "from sklearn.metrics import accuracy_score, precision_recall_fscore_support\n",
    "\n",
    "def calculate_results(y_true, y_pred):\n",
    "    \"\"\"\n",
    "    Calculates model accuracy, precision, recall and f1 score of a binary classification model.\n",
    "    \"\"\"\n",
    "    # calculate model accuracy\n",
    "    model_accuracy = accuracy_score(y_true, y_pred) \n",
    "    # calculate model precision, recall and f1 score using \"weighted\" average\n",
    "    model_precision, model_recall, model_f1, _ = precision_recall_fscore_support(y_true, y_pred, average=\"weighted\")\n",
    "    model_results = {\"accuracy\": round(model_accuracy*100, 2),\n",
    "                    \"precision\": round(model_precision*100, 2),\n",
    "                    \"recall\": round(model_recall*100, 2),\n",
    "                    \"f1\": round(model_f1*100, 2)}\n",
    "    return model_results\n",
    "\n",
    "baseline_results = calculate_results(y_true=val_labels,\n",
    "                                    y_pred=y_preds)\n",
    "baseline_results    "
   ]
  },
  {
   "cell_type": "markdown",
   "metadata": {},
   "source": [
    "### Model 1: Feed-forward neural network"
   ]
  },
  {
   "cell_type": "code",
   "execution_count": 48,
   "metadata": {},
   "outputs": [
    {
     "name": "stdout",
     "output_type": "stream",
     "text": [
      "Model: \"model_1_dense\"\n",
      "_________________________________________________________________\n",
      " Layer (type)                Output Shape              Param #   \n",
      "=================================================================\n",
      " text_vectorization_1 (TextV  (None, 15)               0         \n",
      " ectorization)                                                   \n",
      "                                                                 \n",
      " embedding (Embedding)       (None, 15, 128)           1280000   \n",
      "                                                                 \n",
      " global_average_pooling1d (G  (None, 128)              0         \n",
      " lobalAveragePooling1D)                                          \n",
      "                                                                 \n",
      " dense (Dense)               (None, 64)                8256      \n",
      "                                                                 \n",
      " dense_1 (Dense)             (None, 1)                 65        \n",
      "                                                                 \n",
      "=================================================================\n",
      "Total params: 1,288,321\n",
      "Trainable params: 1,288,321\n",
      "Non-trainable params: 0\n",
      "_________________________________________________________________\n"
     ]
    }
   ],
   "source": [
    "# define model 1 using tensorflow API feed-forward neural network (dense model)\n",
    "from tensorflow.keras import layers\n",
    "\n",
    "# create a model using the Sequential API\n",
    "model_1 = tf.keras.Sequential([\n",
    "    layers.Input(shape=(1,), dtype=tf.string), # input layer\n",
    "    text_vectorizer, # turn text into numbers\n",
    "    embedding, # turn numbers into embedding\n",
    "    layers.GlobalAveragePooling1D(), # condense the feature vector for each token to one vector\n",
    "    layers.Dense(64, activation=\"relu\"), # add a fully connected layer with 64 hidden units\n",
    "    layers.Dense(1, activation=\"sigmoid\") # add a fully connected layer with 1 hidden unit\n",
    "], name=\"model_1_dense\")\n",
    "\n",
    "# build the model\n",
    "model_1.build(input_shape=(None, 1))\n",
    "model_1.summary()"
   ]
  },
  {
   "cell_type": "code",
   "execution_count": 49,
   "metadata": {},
   "outputs": [
    {
     "name": "stdout",
     "output_type": "stream",
     "text": [
      "Saving TensorBoard log files to:  running_logs/model_1_dense/20230719-144510\n",
      "Epoch 1/5\n",
      "215/215 [==============================] - 3s 10ms/step - loss: 0.5511 - accuracy: 0.7208 - val_loss: 0.4914 - val_accuracy: 0.7769\n",
      "Epoch 2/5\n",
      "215/215 [==============================] - 2s 8ms/step - loss: 0.3369 - accuracy: 0.8599 - val_loss: 0.4619 - val_accuracy: 0.7835\n",
      "Epoch 3/5\n",
      "215/215 [==============================] - 2s 8ms/step - loss: 0.2330 - accuracy: 0.9105 - val_loss: 0.5288 - val_accuracy: 0.7861\n",
      "Epoch 4/5\n",
      "215/215 [==============================] - 2s 8ms/step - loss: 0.1697 - accuracy: 0.9378 - val_loss: 0.5980 - val_accuracy: 0.7769\n",
      "Epoch 5/5\n",
      "215/215 [==============================] - 2s 8ms/step - loss: 0.1323 - accuracy: 0.9520 - val_loss: 0.6566 - val_accuracy: 0.7756\n"
     ]
    }
   ],
   "source": [
    "from helper_functions import prepare_tb_call_back\n",
    "# compile the model\n",
    "model_1.compile(loss=\"binary_crossentropy\",\n",
    "                optimizer=tf.keras.optimizers.Adam(),\n",
    "                metrics=[\"accuracy\"])\n",
    "\n",
    "# fit the model\n",
    "model_1_history = model_1.fit(train_sentences,\n",
    "                                train_labels,\n",
    "                                epochs=5,\n",
    "                                validation_data=(val_sentences, val_labels),\n",
    "                                callbacks=[prepare_tb_call_back(\"running_logs\", \"model_1_dense\")])\n"
   ]
  },
  {
   "cell_type": "code",
   "execution_count": 50,
   "metadata": {},
   "outputs": [
    {
     "data": {
      "image/png": "[encoded data removed]",
      "text/plain": [
       "<Figure size 1000x500 with 2 Axes>"
      ]
     },
     "metadata": {},
     "output_type": "display_data"
    }
   ],
   "source": [
    "from helper_functions import plot_model_hist\n",
    "plot_model_hist(model_1_history)"
   ]
  },
  {
   "cell_type": "code",
   "execution_count": 112,
   "metadata": {},
   "outputs": [
    {
     "data": {
      "text/plain": [
       "{'accuracy': 75.98, 'precision': 76.27, 'recall': 75.98, 'f1': 75.69}"
      ]
     },
     "execution_count": 112,
     "metadata": {},
     "output_type": "execute_result"
    }
   ],
   "source": [
    "y_pred_probs = model_1.predict(val_sentences)\n",
    "y_preds = tf.squeeze(tf.round(y_pred_probs))\n",
    "\n",
    "model_1_results = calculate_results(y_true=val_labels,\n",
    "                                    y_pred=y_preds)\n",
    "model_1_results  "
   ]
  },
  {
   "cell_type": "markdown",
   "metadata": {},
   "source": [
    "### Model 2: LSTM model"
   ]
  },
  {
   "cell_type": "code",
   "execution_count": 52,
   "metadata": {},
   "outputs": [
    {
     "name": "stdout",
     "output_type": "stream",
     "text": [
      "Model: \"model_2_LSTM\"\n",
      "_________________________________________________________________\n",
      " Layer (type)                Output Shape              Param #   \n",
      "=================================================================\n",
      " text_vectorization_1 (TextV  (None, 15)               0         \n",
      " ectorization)                                                   \n",
      "                                                                 \n",
      " embedding (Embedding)       (None, 15, 128)           1280000   \n",
      "                                                                 \n",
      " lstm (LSTM)                 (None, 15, 64)            49408     \n",
      "                                                                 \n",
      " lstm_1 (LSTM)               (None, 64)                33024     \n",
      "                                                                 \n",
      " dense_2 (Dense)             (None, 64)                4160      \n",
      "                                                                 \n",
      " dense_3 (Dense)             (None, 1)                 65        \n",
      "                                                                 \n",
      "=================================================================\n",
      "Total params: 1,366,657\n",
      "Trainable params: 1,366,657\n",
      "Non-trainable params: 0\n",
      "_________________________________________________________________\n"
     ]
    }
   ],
   "source": [
    "# define model 2 using tensorflow API LSTM model\n",
    "from tensorflow.keras import layers\n",
    "\n",
    "# create a model using the Sequential API\n",
    "model_2 = tf.keras.Sequential([\n",
    "    layers.Input(shape=(1,), dtype=tf.string), # input layer\n",
    "    text_vectorizer, # turn text into numbers\n",
    "    embedding, # turn numbers into embedding\n",
    "    layers.LSTM(64, return_sequences=True), # return sequences since we are using another LSTM layer\n",
    "    layers.LSTM(64), # return a single vector\n",
    "    layers.Dense(64, activation=\"relu\"), # add a fully connected layer with 64 hidden units\n",
    "    layers.Dense(1, activation=\"sigmoid\") # add a fully connected layer with 1 hidden unit\n",
    "], name=\"model_2_LSTM\")\n",
    "\n",
    "model_2.summary()"
   ]
  },
  {
   "cell_type": "code",
   "execution_count": 53,
   "metadata": {},
   "outputs": [
    {
     "name": "stdout",
     "output_type": "stream",
     "text": [
      "Saving TensorBoard log files to:  running_logs/model_2_LSTM/20230719-144524\n",
      "Epoch 1/5\n",
      "215/215 [==============================] - 10s 28ms/step - loss: 0.1812 - accuracy: 0.9317 - val_loss: 0.7199 - val_accuracy: 0.7717\n",
      "Epoch 2/5\n",
      "215/215 [==============================] - 5s 23ms/step - loss: 0.0949 - accuracy: 0.9654 - val_loss: 0.9025 - val_accuracy: 0.7769\n",
      "Epoch 3/5\n",
      "215/215 [==============================] - 5s 23ms/step - loss: 0.0747 - accuracy: 0.9691 - val_loss: 1.0249 - val_accuracy: 0.7638\n",
      "Epoch 4/5\n",
      "215/215 [==============================] - 5s 24ms/step - loss: 0.0700 - accuracy: 0.9705 - val_loss: 1.0577 - val_accuracy: 0.7651\n",
      "Epoch 5/5\n",
      "215/215 [==============================] - 5s 23ms/step - loss: 0.0607 - accuracy: 0.9731 - val_loss: 1.1885 - val_accuracy: 0.7533\n"
     ]
    }
   ],
   "source": [
    "# compile the model\n",
    "model_2.compile(loss=\"binary_crossentropy\",\n",
    "                optimizer=tf.keras.optimizers.Adam(),\n",
    "                metrics=[\"accuracy\"])\n",
    "\n",
    "# fit the model\n",
    "model_2_history = model_2.fit(train_sentences,\n",
    "                                train_labels,\n",
    "                                epochs=5,\n",
    "                                validation_data=(val_sentences, val_labels),\n",
    "                                callbacks=[prepare_tb_call_back(\"running_logs\", \"model_2_LSTM\")])\n"
   ]
  },
  {
   "cell_type": "code",
   "execution_count": 54,
   "metadata": {},
   "outputs": [
    {
     "data": {
      "image/png": "[encoded data removed]",
      "text/plain": [
       "<Figure size 1000x500 with 2 Axes>"
      ]
     },
     "metadata": {},
     "output_type": "display_data"
    }
   ],
   "source": [
    "# plot the model history\n",
    "plot_model_hist(model_2_history)"
   ]
  },
  {
   "cell_type": "code",
   "execution_count": 113,
   "metadata": {},
   "outputs": [
    {
     "data": {
      "text/plain": [
       "{'accuracy': 75.46, 'precision': 75.41, 'recall': 75.46, 'f1': 75.4}"
      ]
     },
     "execution_count": 113,
     "metadata": {},
     "output_type": "execute_result"
    }
   ],
   "source": [
    "# make predictions\n",
    "y_pred_probs = model_2.predict(val_sentences)\n",
    "y_preds = tf.squeeze(tf.round(y_pred_probs))\n",
    "\n",
    "# calculate model results\n",
    "model_2_results = calculate_results(y_true=val_labels,\n",
    "                                    y_pred=y_preds) \n",
    "model_2_results                                    "
   ]
  },
  {
   "cell_type": "markdown",
   "metadata": {},
   "source": [
    "### Model 3: GRU model"
   ]
  },
  {
   "cell_type": "code",
   "execution_count": 56,
   "metadata": {},
   "outputs": [
    {
     "name": "stdout",
     "output_type": "stream",
     "text": [
      "Model: \"model_3_GRU\"\n",
      "_________________________________________________________________\n",
      " Layer (type)                Output Shape              Param #   \n",
      "=================================================================\n",
      " text_vectorization_1 (TextV  (None, 15)               0         \n",
      " ectorization)                                                   \n",
      "                                                                 \n",
      " embedding (Embedding)       (None, 15, 128)           1280000   \n",
      "                                                                 \n",
      " gru (GRU)                   (None, 15, 64)            37248     \n",
      "                                                                 \n",
      " gru_1 (GRU)                 (None, 64)                24960     \n",
      "                                                                 \n",
      " dense_4 (Dense)             (None, 64)                4160      \n",
      "                                                                 \n",
      " dense_5 (Dense)             (None, 1)                 65        \n",
      "                                                                 \n",
      "=================================================================\n",
      "Total params: 1,346,433\n",
      "Trainable params: 1,346,433\n",
      "Non-trainable params: 0\n",
      "_________________________________________________________________\n"
     ]
    }
   ],
   "source": [
    "# define model 3 using tensorflow API GRU model\n",
    "from tensorflow.keras import layers\n",
    "\n",
    "# create a model using the Sequential API\n",
    "model_3 = tf.keras.Sequential([\n",
    "    layers.Input(shape=(1,), dtype=tf.string), # input layer\n",
    "    text_vectorizer, # turn text into numbers\n",
    "    embedding, # turn numbers into embedding\n",
    "    layers.GRU(64, return_sequences=True), # return sequences since we are using another LSTM layer\n",
    "    layers.GRU(64), # return a single vector\n",
    "    layers.Dense(64, activation=\"relu\"), # add a fully connected layer with 64 hidden units\n",
    "    layers.Dense(1, activation=\"sigmoid\") # add a fully connected layer with 1 hidden unit\n",
    "], name=\"model_3_GRU\")\n",
    "\n",
    "model_3.summary()\n"
   ]
  },
  {
   "cell_type": "code",
   "execution_count": 57,
   "metadata": {},
   "outputs": [
    {
     "name": "stdout",
     "output_type": "stream",
     "text": [
      "Saving TensorBoard log files to:  running_logs/model_3_GRU/20230719-144556\n",
      "Epoch 1/5\n",
      "215/215 [==============================] - 9s 27ms/step - loss: 0.1514 - accuracy: 0.9514 - val_loss: 0.6665 - val_accuracy: 0.7677\n",
      "Epoch 2/5\n",
      "215/215 [==============================] - 5s 23ms/step - loss: 0.0729 - accuracy: 0.9723 - val_loss: 1.6685 - val_accuracy: 0.7677\n",
      "Epoch 3/5\n",
      "215/215 [==============================] - 5s 23ms/step - loss: 0.0584 - accuracy: 0.9747 - val_loss: 1.2971 - val_accuracy: 0.7690\n",
      "Epoch 4/5\n",
      "215/215 [==============================] - 5s 25ms/step - loss: 0.0453 - accuracy: 0.9785 - val_loss: 1.4158 - val_accuracy: 0.7756\n",
      "Epoch 5/5\n",
      "215/215 [==============================] - 5s 23ms/step - loss: 0.0451 - accuracy: 0.9794 - val_loss: 1.0427 - val_accuracy: 0.7507\n"
     ]
    }
   ],
   "source": [
    "# compile the model\n",
    "model_3.compile(loss=\"binary_crossentropy\",\n",
    "                optimizer=tf.keras.optimizers.Adam(),\n",
    "                metrics=[\"accuracy\"])\n",
    "\n",
    "# fit the model\n",
    "model_3_history = model_3.fit(train_sentences,\n",
    "                                train_labels,\n",
    "                                epochs=5,\n",
    "                                validation_data=(val_sentences, val_labels),\n",
    "                                callbacks=[prepare_tb_call_back(\"running_logs\", \"model_3_GRU\")])\n"
   ]
  },
  {
   "cell_type": "code",
   "execution_count": 58,
   "metadata": {},
   "outputs": [
    {
     "data": {
      "image/png": "[encoded data removed]",
      "text/plain": [
       "<Figure size 1000x500 with 2 Axes>"
      ]
     },
     "metadata": {},
     "output_type": "display_data"
    }
   ],
   "source": [
    "# plot the model history\n",
    "plot_model_hist(model_3_history)"
   ]
  },
  {
   "cell_type": "code",
   "execution_count": 114,
   "metadata": {},
   "outputs": [
    {
     "data": {
      "text/plain": [
       "{'accuracy': 76.77, 'precision': 76.75, 'recall': 76.77, 'f1': 76.68}"
      ]
     },
     "execution_count": 114,
     "metadata": {},
     "output_type": "execute_result"
    }
   ],
   "source": [
    "# make predictions\n",
    "y_pred_probs = model_3.predict(val_sentences)\n",
    "y_preds = tf.squeeze(tf.round(y_pred_probs))\n",
    "\n",
    "# calculate model results\n",
    "model_3_results = calculate_results(y_true=val_labels,\n",
    "                                    y_pred=y_preds)\n",
    "model_3_results                                    "
   ]
  },
  {
   "cell_type": "markdown",
   "metadata": {},
   "source": [
    "### Model 4 : Bi-directional LSTM"
   ]
  },
  {
   "cell_type": "code",
   "execution_count": 60,
   "metadata": {},
   "outputs": [
    {
     "name": "stdout",
     "output_type": "stream",
     "text": [
      "Model: \"model_4_bidirectional_LSTM\"\n",
      "_________________________________________________________________\n",
      " Layer (type)                Output Shape              Param #   \n",
      "=================================================================\n",
      " text_vectorization_1 (TextV  (None, 15)               0         \n",
      " ectorization)                                                   \n",
      "                                                                 \n",
      " embedding (Embedding)       (None, 15, 128)           1280000   \n",
      "                                                                 \n",
      " bidirectional (Bidirectiona  (None, 15, 128)          98816     \n",
      " l)                                                              \n",
      "                                                                 \n",
      " bidirectional_1 (Bidirectio  (None, 128)              98816     \n",
      " nal)                                                            \n",
      "                                                                 \n",
      " dense_6 (Dense)             (None, 64)                8256      \n",
      "                                                                 \n",
      " dense_7 (Dense)             (None, 1)                 65        \n",
      "                                                                 \n",
      "=================================================================\n",
      "Total params: 1,485,953\n",
      "Trainable params: 1,485,953\n",
      "Non-trainable params: 0\n",
      "_________________________________________________________________\n"
     ]
    }
   ],
   "source": [
    "# Define model 4 using the tensorflow API Bidirectional LSTM model\n",
    "from tensorflow.keras import layers\n",
    "\n",
    "# create a model using the Sequential API\n",
    "model_4 = tf.keras.Sequential([\n",
    "    layers.Input(shape=(1,), dtype=tf.string), # input layer\n",
    "    text_vectorizer, # turn text into numbers\n",
    "    embedding, # turn numbers into embedding\n",
    "    layers.Bidirectional(layers.LSTM(64, return_sequences=True)), # return sequences since we are using another LSTM layer\n",
    "    layers.Bidirectional(layers.LSTM(64)), # return a single vector\n",
    "    layers.Dense(64, activation=\"relu\"), # add a fully connected layer with 64 hidden units\n",
    "    layers.Dense(1, activation=\"sigmoid\") # add a fully connected layer with 1 hidden unit\n",
    "], name=\"model_4_bidirectional_LSTM\")\n",
    "\n",
    "model_4.summary()"
   ]
  },
  {
   "cell_type": "code",
   "execution_count": 61,
   "metadata": {},
   "outputs": [
    {
     "name": "stdout",
     "output_type": "stream",
     "text": [
      "Saving TensorBoard log files to:  running_logs/model_4_bidirectional_LSTM/20230719-144629\n",
      "Epoch 1/5\n",
      "215/215 [==============================] - 13s 34ms/step - loss: 0.1014 - accuracy: 0.9634 - val_loss: 0.8578 - val_accuracy: 0.7690\n",
      "Epoch 2/5\n",
      "215/215 [==============================] - 6s 29ms/step - loss: 0.0516 - accuracy: 0.9765 - val_loss: 1.4245 - val_accuracy: 0.7638\n",
      "Epoch 3/5\n",
      "215/215 [==============================] - 6s 30ms/step - loss: 0.0434 - accuracy: 0.9791 - val_loss: 1.4257 - val_accuracy: 0.7651\n",
      "Epoch 4/5\n",
      "215/215 [==============================] - 6s 29ms/step - loss: 0.0436 - accuracy: 0.9787 - val_loss: 1.6361 - val_accuracy: 0.7612\n",
      "Epoch 5/5\n",
      "215/215 [==============================] - 6s 29ms/step - loss: 0.0384 - accuracy: 0.9790 - val_loss: 2.2413 - val_accuracy: 0.7598\n"
     ]
    }
   ],
   "source": [
    "# compile the model\n",
    "model_4.compile(loss=\"binary_crossentropy\",\n",
    "                optimizer=tf.keras.optimizers.Adam(),\n",
    "                metrics=[\"accuracy\"])\n",
    "\n",
    "# fit the model\n",
    "model_4_history = model_4.fit(train_sentences,\n",
    "                                train_labels,\n",
    "                                epochs=5,\n",
    "                                validation_data=(val_sentences, val_labels),\n",
    "                                callbacks=[prepare_tb_call_back(\"running_logs\", \"model_4_bidirectional_LSTM\")])\n",
    "                "
   ]
  },
  {
   "cell_type": "code",
   "execution_count": 62,
   "metadata": {},
   "outputs": [
    {
     "data": {
      "image/png": "[encoded data removed]",
      "text/plain": [
       "<Figure size 1000x500 with 2 Axes>"
      ]
     },
     "metadata": {},
     "output_type": "display_data"
    }
   ],
   "source": [
    "# plot the model history\n",
    "plot_model_hist(model_4_history)"
   ]
  },
  {
   "cell_type": "code",
   "execution_count": 115,
   "metadata": {},
   "outputs": [
    {
     "data": {
      "text/plain": [
       "{'accuracy': 75.59, 'precision': 76.02, 'recall': 75.59, 'f1': 75.21}"
      ]
     },
     "execution_count": 115,
     "metadata": {},
     "output_type": "execute_result"
    }
   ],
   "source": [
    "# make predictions\n",
    "y_pred_probs = model_4.predict(val_sentences)\n",
    "y_preds = tf.squeeze(tf.round(y_pred_probs))\n",
    "\n",
    "# calculate model results\n",
    "model_4_results = calculate_results(y_true=val_labels,\n",
    "                                    y_pred=y_preds)\n",
    "model_4_results                                    "
   ]
  },
  {
   "cell_type": "markdown",
   "metadata": {},
   "source": [
    "### Model 5: 1D Convolutional Neural Network"
   ]
  },
  {
   "cell_type": "code",
   "execution_count": 64,
   "metadata": {},
   "outputs": [
    {
     "name": "stdout",
     "output_type": "stream",
     "text": [
      "Model: \"model_5_Conv1D\"\n",
      "_________________________________________________________________\n",
      " Layer (type)                Output Shape              Param #   \n",
      "=================================================================\n",
      " text_vectorization_1 (TextV  (None, 15)               0         \n",
      " ectorization)                                                   \n",
      "                                                                 \n",
      " embedding (Embedding)       (None, 15, 128)           1280000   \n",
      "                                                                 \n",
      " conv1d (Conv1D)             (None, 15, 64)            41024     \n",
      "                                                                 \n",
      " global_average_pooling1d_1   (None, 64)               0         \n",
      " (GlobalAveragePooling1D)                                        \n",
      "                                                                 \n",
      " dense_8 (Dense)             (None, 64)                4160      \n",
      "                                                                 \n",
      " dense_9 (Dense)             (None, 1)                 65        \n",
      "                                                                 \n",
      "=================================================================\n",
      "Total params: 1,325,249\n",
      "Trainable params: 1,325,249\n",
      "Non-trainable params: 0\n",
      "_________________________________________________________________\n"
     ]
    }
   ],
   "source": [
    "# Define model 5 using the tensorflow API 1D Conv1D model\n",
    "from tensorflow.keras import layers\n",
    "\n",
    "# create a model using the Sequential API\n",
    "model_5 = tf.keras.Sequential([\n",
    "    layers.Input(shape=(1,), dtype=tf.string), # input layer\n",
    "    text_vectorizer, # turn text into numbers\n",
    "    embedding, # turn numbers into embedding\n",
    "    layers.Conv1D(64, kernel_size=5, padding=\"same\", activation=\"relu\"), # kernel_size is the number of words to look at\n",
    "    layers.GlobalAveragePooling1D(),\n",
    "    layers.Dense(64, activation=\"relu\"), # add a fully connected layer with 64 hidden units\n",
    "    layers.Dense(1, activation=\"sigmoid\") # add a fully connected layer with 1 hidden unit\n",
    "], name=\"model_5_Conv1D\")\n",
    "\n",
    "model_5.summary()"
   ]
  },
  {
   "cell_type": "code",
   "execution_count": 65,
   "metadata": {},
   "outputs": [
    {
     "name": "stdout",
     "output_type": "stream",
     "text": [
      "Saving TensorBoard log files to:  running_logs/model_5_Conv1D/20230719-144709\n",
      "Epoch 1/5\n",
      "215/215 [==============================] - 3s 10ms/step - loss: 0.1275 - accuracy: 0.9699 - val_loss: 0.9645 - val_accuracy: 0.7559\n",
      "Epoch 2/5\n",
      "215/215 [==============================] - 2s 10ms/step - loss: 0.0542 - accuracy: 0.9777 - val_loss: 1.1318 - val_accuracy: 0.7572\n",
      "Epoch 3/5\n",
      "215/215 [==============================] - 2s 10ms/step - loss: 0.0448 - accuracy: 0.9790 - val_loss: 1.3533 - val_accuracy: 0.7638\n",
      "Epoch 4/5\n",
      "215/215 [==============================] - 2s 9ms/step - loss: 0.0385 - accuracy: 0.9813 - val_loss: 1.6834 - val_accuracy: 0.7651\n",
      "Epoch 5/5\n",
      "215/215 [==============================] - 2s 9ms/step - loss: 0.0363 - accuracy: 0.9822 - val_loss: 1.6790 - val_accuracy: 0.7612\n"
     ]
    }
   ],
   "source": [
    "# compile the model\n",
    "model_5.compile(loss=\"binary_crossentropy\",\n",
    "                optimizer=tf.keras.optimizers.Adam(),\n",
    "                metrics=[\"accuracy\"])\n",
    "\n",
    "# fit the model\n",
    "model_5_history = model_5.fit(train_sentences,\n",
    "                                train_labels,\n",
    "                                epochs=5,\n",
    "                                validation_data=(val_sentences, val_labels),\n",
    "                                callbacks=[prepare_tb_call_back(\"running_logs\", \"model_5_Conv1D\")])\n",
    "                                        "
   ]
  },
  {
   "cell_type": "code",
   "execution_count": 66,
   "metadata": {},
   "outputs": [
    {
     "data": {
      "image/png": "[encoded data removed]",
      "text/plain": [
       "<Figure size 1000x500 with 2 Axes>"
      ]
     },
     "metadata": {},
     "output_type": "display_data"
    }
   ],
   "source": [
    "# plot the model history\n",
    "plot_model_hist(model_5_history)"
   ]
  },
  {
   "cell_type": "code",
   "execution_count": 116,
   "metadata": {},
   "outputs": [
    {
     "data": {
      "text/plain": [
       "{'accuracy': 76.12, 'precision': 76.36, 'recall': 76.12, 'f1': 75.84}"
      ]
     },
     "execution_count": 116,
     "metadata": {},
     "output_type": "execute_result"
    }
   ],
   "source": [
    "# make predictions\n",
    "y_pred_probs = model_5.predict(val_sentences)\n",
    "y_preds = tf.squeeze(tf.round(y_pred_probs))\n",
    "\n",
    "# calculate model results\n",
    "model_5_results = calculate_results(y_true=val_labels,\n",
    "                                    y_pred=y_preds)\n",
    "model_5_results                                    "
   ]
  },
  {
   "cell_type": "markdown",
   "metadata": {},
   "source": [
    "### Model 6: TensorFlow Hub Pretrained Feature Extractor"
   ]
  },
  {
   "cell_type": "code",
   "execution_count": 90,
   "metadata": {},
   "outputs": [
    {
     "name": "stdout",
     "output_type": "stream",
     "text": [
      "Model: \"model_6_TB_HUB_USE\"\n",
      "_________________________________________________________________\n",
      " Layer (type)                Output Shape              Param #   \n",
      "=================================================================\n",
      " universal_sentence_encoder   (None, 512)              256797824 \n",
      " (KerasLayer)                                                    \n",
      "                                                                 \n",
      " dense_12 (Dense)            (None, 128)               65664     \n",
      "                                                                 \n",
      " dense_13 (Dense)            (None, 1)                 129       \n",
      "                                                                 \n",
      "=================================================================\n",
      "Total params: 256,863,617\n",
      "Trainable params: 65,793\n",
      "Non-trainable params: 256,797,824\n",
      "_________________________________________________________________\n"
     ]
    }
   ],
   "source": [
    "# Define model 6 using the tensorflow hub pretrained feature extractor\n",
    "import tensorflow_hub as hub\n",
    "from tensorflow.keras import layers\n",
    "# define the pretrained embedding layer\n",
    "embed = hub.KerasLayer(\"https://tfhub.dev/google/universal-sentence-encoder/4\",\n",
    "                          input_shape=[], # define input shape\n",
    "                            dtype=tf.string, # define data type of input\n",
    "                            trainable=False, # do not train the layer\n",
    "                            name=\"universal_sentence_encoder\")\n",
    "\n",
    "# create a model using the Sequential API\n",
    "model_6 = tf.keras.Sequential([\n",
    "    embed, # use the pretrained embedding layer\n",
    "    layers.Dense(128, activation=\"relu\"), # add a fully connected layer with 256 hidden units\n",
    "    layers.Dense(1, activation=\"sigmoid\") # add a fully connected layer with 1 hidden unit\n",
    "], name=\"model_6_TB_HUB_USE\")\n",
    "\n",
    "model_6.summary()"
   ]
  },
  {
   "cell_type": "code",
   "execution_count": 91,
   "metadata": {},
   "outputs": [
    {
     "name": "stdout",
     "output_type": "stream",
     "text": [
      "Saving TensorBoard log files to:  running_logs/model_6_TB_HUB_USE/20230719-145331\n",
      "Epoch 1/5\n",
      "215/215 [==============================] - 5s 9ms/step - loss: 0.4840 - accuracy: 0.7876 - val_loss: 0.4512 - val_accuracy: 0.7992\n",
      "Epoch 2/5\n",
      "215/215 [==============================] - 1s 7ms/step - loss: 0.4092 - accuracy: 0.8186 - val_loss: 0.4369 - val_accuracy: 0.8097\n",
      "Epoch 3/5\n",
      "215/215 [==============================] - 1s 7ms/step - loss: 0.3950 - accuracy: 0.8248 - val_loss: 0.4313 - val_accuracy: 0.8136\n",
      "Epoch 4/5\n",
      "215/215 [==============================] - 1s 7ms/step - loss: 0.3837 - accuracy: 0.8289 - val_loss: 0.4273 - val_accuracy: 0.8150\n",
      "Epoch 5/5\n",
      "215/215 [==============================] - 1s 7ms/step - loss: 0.3749 - accuracy: 0.8356 - val_loss: 0.4258 - val_accuracy: 0.8176\n"
     ]
    }
   ],
   "source": [
    "# compile the model\n",
    "model_6.compile(loss=\"binary_crossentropy\",\n",
    "                optimizer=tf.keras.optimizers.Adam(),\n",
    "                metrics=[\"accuracy\"])\n",
    "\n",
    "# fit the model\n",
    "model_6_history = model_6.fit(train_sentences,\n",
    "                                train_labels,\n",
    "                                epochs=5,\n",
    "                                validation_data=(val_sentences, val_labels),\n",
    "                                callbacks=[prepare_tb_call_back(\"running_logs\", \"model_6_TB_HUB_USE\")])\n",
    "                                                "
   ]
  },
  {
   "cell_type": "code",
   "execution_count": 92,
   "metadata": {},
   "outputs": [
    {
     "data": {
      "image/png": "[encoded data removed]",
      "text/plain": [
       "<Figure size 640x480 with 1 Axes>"
      ]
     },
     "metadata": {},
     "output_type": "display_data"
    }
   ],
   "source": [
    "# plot the model history\n",
    "plot_model_hist(model_6_history)"
   ]
  },
  {
   "cell_type": "code",
   "execution_count": 117,
   "metadata": {},
   "outputs": [
    {
     "data": {
      "text/plain": [
       "{'accuracy': 81.76, 'precision': 81.99, 'recall': 81.76, 'f1': 81.61}"
      ]
     },
     "execution_count": 117,
     "metadata": {},
     "output_type": "execute_result"
    }
   ],
   "source": [
    "# make predictions\n",
    "y_pred_probs = model_6.predict(val_sentences)\n",
    "y_preds = tf.squeeze(tf.round(y_pred_probs))\n",
    "\n",
    "# calculate model results\n",
    "model_6_results = calculate_results(y_true=val_labels,\n",
    "                                    y_pred=y_preds)\n",
    "model_6_results                                    "
   ]
  },
  {
   "cell_type": "markdown",
   "metadata": {},
   "source": [
    "### Model 7: Same as model 6 with 10% of training data"
   ]
  },
  {
   "cell_type": "code",
   "execution_count": 94,
   "metadata": {},
   "outputs": [
    {
     "name": "stdout",
     "output_type": "stream",
     "text": [
      "Model: \"model_7_TB_HUB_USE\"\n",
      "_________________________________________________________________\n",
      " Layer (type)                Output Shape              Param #   \n",
      "=================================================================\n",
      " universal_sentence_encoder   (None, 512)              256797824 \n",
      " (KerasLayer)                                                    \n",
      "                                                                 \n",
      " dense_12 (Dense)            (None, 128)               65664     \n",
      "                                                                 \n",
      " dense_13 (Dense)            (None, 1)                 129       \n",
      "                                                                 \n",
      "=================================================================\n",
      "Total params: 256,863,617\n",
      "Trainable params: 65,793\n",
      "Non-trainable params: 256,797,824\n",
      "_________________________________________________________________\n"
     ]
    }
   ],
   "source": [
    "# clone model 6 as model 7\n",
    "model_7 = tf.keras.models.clone_model(model_6)\n",
    "# change the name of the model\n",
    "model_7._name = \"model_7_TB_HUB_USE\"\n",
    "\n",
    "model_7.summary()"
   ]
  },
  {
   "cell_type": "markdown",
   "metadata": {},
   "source": [
    "#### prepare 10% of training data"
   ]
  },
  {
   "cell_type": "code",
   "execution_count": 95,
   "metadata": {},
   "outputs": [
    {
     "data": {
      "text/plain": [
       "(684, 684, 77, 77)"
      ]
     },
     "execution_count": 95,
     "metadata": {},
     "output_type": "execute_result"
    }
   ],
   "source": [
    "# create subset of 10% of df_train \n",
    "df_train_10_percent = df_train_shuffled[[\"text\", \"target\"]].sample(frac=0.1, random_state=42)\n",
    "\n",
    "# split the df_train_10_percent into train and validation sets by using sklearn train_test_split\n",
    "from sklearn.model_selection import train_test_split\n",
    "train_sentences_10_percent, val_sentences_10_percent, train_labels_10_percent, val_labels_10_percent = train_test_split(df_train_10_percent[\"text\"].to_numpy(),\n",
    "                                                                                                                        df_train_10_percent[\"target\"].to_numpy(),\n",
    "                                                                                                                        test_size=0.1,\n",
    "                                                                                                                        random_state=42)\n",
    "\n",
    "# check the number of samples in training and validation sets\n",
    "len(train_sentences_10_percent), len(train_labels_10_percent), len(val_sentences_10_percent), len(val_labels_10_percent)"
   ]
  },
  {
   "cell_type": "code",
   "execution_count": 96,
   "metadata": {},
   "outputs": [
    {
     "name": "stdout",
     "output_type": "stream",
     "text": [
      "percentage of disaster tweets in training set :  46.35 %\n",
      "percentage of non-disaster tweets in training set :  53.65 %\n",
      "percentage of disaster tweets in validation set :  40.26 %\n",
      "percentage of non-disaster tweets in validation set :  59.74 %\n"
     ]
    }
   ],
   "source": [
    "# check the percentage of disaster and non-disaster tweets in training and validation sets\n",
    "print(\"percentage of disaster tweets in training set : \", round(len(train_labels_10_percent[train_labels_10_percent == 1]) / len(train_labels_10_percent) * 100, 2), \"%\")\n",
    "print(\"percentage of non-disaster tweets in training set : \", round(len(train_labels_10_percent[train_labels_10_percent == 0]) / len(train_labels_10_percent) * 100, 2), \"%\")\n",
    "print(\"percentage of disaster tweets in validation set : \", round(len(val_labels_10_percent[val_labels_10_percent == 1]) / len(val_labels_10_percent) * 100, 2), \"%\")\n",
    "print(\"percentage of non-disaster tweets in validation set : \", round(len(val_labels_10_percent[val_labels_10_percent == 0]) / len(val_labels_10_percent) * 100, 2), \"%\")\n"
   ]
  },
  {
   "cell_type": "code",
   "execution_count": 97,
   "metadata": {},
   "outputs": [
    {
     "data": {
      "text/plain": [
       "(6851, 6851, 762, 762)"
      ]
     },
     "execution_count": 97,
     "metadata": {},
     "output_type": "execute_result"
    }
   ],
   "source": [
    "# check the number of samples in training and validation sets of the original dataframe\n",
    "len(train_sentences), len(train_labels), len(val_sentences), len(val_labels)"
   ]
  },
  {
   "cell_type": "code",
   "execution_count": 98,
   "metadata": {},
   "outputs": [
    {
     "name": "stdout",
     "output_type": "stream",
     "text": [
      "percentage of disaster tweets in training set :  42.67 %\n",
      "percentage of non-disaster tweets in training set :  57.33 %\n",
      "percentage of disaster tweets in validation set :  45.67 %\n",
      "percentage of non-disaster tweets in validation set :  54.33 %\n"
     ]
    }
   ],
   "source": [
    "# check the percentage of disaster and non-disaster tweets in training and validation sets of the original dataframe\n",
    "print(\"percentage of disaster tweets in training set : \", round(len(train_labels[train_labels == 1]) / len(train_labels) * 100, 2), \"%\")\n",
    "print(\"percentage of non-disaster tweets in training set : \", round(len(train_labels[train_labels == 0]) / len(train_labels) * 100, 2), \"%\")\n",
    "print(\"percentage of disaster tweets in validation set : \", round(len(val_labels[val_labels == 1]) / len(val_labels) * 100, 2), \"%\")\n",
    "print(\"percentage of non-disaster tweets in validation set : \", round(len(val_labels[val_labels == 0]) / len(val_labels) * 100, 2), \"%\")"
   ]
  },
  {
   "cell_type": "code",
   "execution_count": 99,
   "metadata": {},
   "outputs": [
    {
     "name": "stdout",
     "output_type": "stream",
     "text": [
      "Saving TensorBoard log files to:  running_logs/model_7_TB_HUB_USE_10_PERCENT/20230719-145406\n",
      "Epoch 1/5\n",
      "22/22 [==============================] - 3s 28ms/step - loss: 0.6679 - accuracy: 0.6813 - val_loss: 0.6301 - val_accuracy: 0.7532\n",
      "Epoch 2/5\n",
      "22/22 [==============================] - 0s 8ms/step - loss: 0.5851 - accuracy: 0.7997 - val_loss: 0.5505 - val_accuracy: 0.7532\n",
      "Epoch 3/5\n",
      "22/22 [==============================] - 0s 8ms/step - loss: 0.4999 - accuracy: 0.8143 - val_loss: 0.4927 - val_accuracy: 0.7662\n",
      "Epoch 4/5\n",
      "22/22 [==============================] - 0s 8ms/step - loss: 0.4399 - accuracy: 0.8143 - val_loss: 0.4666 - val_accuracy: 0.7662\n",
      "Epoch 5/5\n",
      "22/22 [==============================] - 0s 8ms/step - loss: 0.4028 - accuracy: 0.8275 - val_loss: 0.4505 - val_accuracy: 0.7922\n"
     ]
    }
   ],
   "source": [
    "# compile the model\n",
    "model_7.compile(loss=\"binary_crossentropy\",\n",
    "                optimizer=tf.keras.optimizers.Adam(),\n",
    "                metrics=[\"accuracy\"])\n",
    "\n",
    "# fit the model\n",
    "model_7_history = model_7.fit(train_sentences_10_percent,\n",
    "                                train_labels_10_percent,\n",
    "                                epochs=5,\n",
    "                                validation_data=(val_sentences_10_percent, val_labels_10_percent),\n",
    "                                callbacks=[prepare_tb_call_back(\"running_logs\", \"model_7_TB_HUB_USE_10_PERCENT\")])\n",
    "                                                "
   ]
  },
  {
   "cell_type": "code",
   "execution_count": 100,
   "metadata": {},
   "outputs": [
    {
     "data": {
      "image/png": "[encoded data removed]",
      "text/plain": [
       "<Figure size 640x480 with 1 Axes>"
      ]
     },
     "metadata": {},
     "output_type": "display_data"
    }
   ],
   "source": [
    "# plot the model history\n",
    "plot_model_hist(model_7_history)"
   ]
  },
  {
   "cell_type": "code",
   "execution_count": 118,
   "metadata": {},
   "outputs": [
    {
     "data": {
      "text/plain": [
       "{'accuracy': 79.22, 'precision': 80.56, 'recall': 79.22, 'f1': 79.41}"
      ]
     },
     "execution_count": 118,
     "metadata": {},
     "output_type": "execute_result"
    }
   ],
   "source": [
    "# make predictions\n",
    "y_pred_probs = model_7.predict(val_sentences_10_percent)\n",
    "y_preds = tf.squeeze(tf.round(y_pred_probs))\n",
    "\n",
    "# calculate model results\n",
    "model_7_results = calculate_results(y_true=val_labels_10_percent,\n",
    "                                    y_pred=y_preds)\n",
    "model_7_results                                    "
   ]
  },
  {
   "cell_type": "markdown",
   "metadata": {},
   "source": [
    "# All model Results"
   ]
  },
  {
   "cell_type": "code",
   "execution_count": 201,
   "metadata": {},
   "outputs": [
    {
     "data": {
      "text/html": [
       "<div>\n",
       "<style scoped>\n",
       "    .dataframe tbody tr th:only-of-type {\n",
       "        vertical-align: middle;\n",
       "    }\n",
       "\n",
       "    .dataframe tbody tr th {\n",
       "        vertical-align: top;\n",
       "    }\n",
       "\n",
       "    .dataframe thead th {\n",
       "        text-align: right;\n",
       "    }\n",
       "</style>\n",
       "<table border=\"1\" class=\"dataframe\">\n",
       "  <thead>\n",
       "    <tr style=\"text-align: right;\">\n",
       "      <th></th>\n",
       "      <th>accuracy</th>\n",
       "      <th>precision</th>\n",
       "      <th>recall</th>\n",
       "      <th>f1</th>\n",
       "    </tr>\n",
       "  </thead>\n",
       "  <tbody>\n",
       "    <tr>\n",
       "      <th>baseline</th>\n",
       "      <td>79.27</td>\n",
       "      <td>81.11</td>\n",
       "      <td>79.27</td>\n",
       "      <td>78.62</td>\n",
       "    </tr>\n",
       "    <tr>\n",
       "      <th>model_1_dense</th>\n",
       "      <td>75.98</td>\n",
       "      <td>76.27</td>\n",
       "      <td>75.98</td>\n",
       "      <td>75.69</td>\n",
       "    </tr>\n",
       "    <tr>\n",
       "      <th>model_2_LSTM</th>\n",
       "      <td>75.46</td>\n",
       "      <td>75.41</td>\n",
       "      <td>75.46</td>\n",
       "      <td>75.40</td>\n",
       "    </tr>\n",
       "    <tr>\n",
       "      <th>model_3_GRU</th>\n",
       "      <td>76.77</td>\n",
       "      <td>76.75</td>\n",
       "      <td>76.77</td>\n",
       "      <td>76.68</td>\n",
       "    </tr>\n",
       "    <tr>\n",
       "      <th>model_4_bidirectional_LSTM</th>\n",
       "      <td>75.59</td>\n",
       "      <td>76.02</td>\n",
       "      <td>75.59</td>\n",
       "      <td>75.21</td>\n",
       "    </tr>\n",
       "    <tr>\n",
       "      <th>model_5_Conv1D</th>\n",
       "      <td>76.12</td>\n",
       "      <td>76.36</td>\n",
       "      <td>76.12</td>\n",
       "      <td>75.84</td>\n",
       "    </tr>\n",
       "    <tr>\n",
       "      <th>model_6_TB_HUB</th>\n",
       "      <td>81.76</td>\n",
       "      <td>81.99</td>\n",
       "      <td>81.76</td>\n",
       "      <td>81.61</td>\n",
       "    </tr>\n",
       "    <tr>\n",
       "      <th>model_7_TB_HUB_10_percent</th>\n",
       "      <td>79.22</td>\n",
       "      <td>80.56</td>\n",
       "      <td>79.22</td>\n",
       "      <td>79.41</td>\n",
       "    </tr>\n",
       "  </tbody>\n",
       "</table>\n",
       "</div>"
      ],
      "text/plain": [
       "                            accuracy  precision  recall     f1\n",
       "baseline                       79.27      81.11   79.27  78.62\n",
       "model_1_dense                  75.98      76.27   75.98  75.69\n",
       "model_2_LSTM                   75.46      75.41   75.46  75.40\n",
       "model_3_GRU                    76.77      76.75   76.77  76.68\n",
       "model_4_bidirectional_LSTM     75.59      76.02   75.59  75.21\n",
       "model_5_Conv1D                 76.12      76.36   76.12  75.84\n",
       "model_6_TB_HUB                 81.76      81.99   81.76  81.61\n",
       "model_7_TB_HUB_10_percent      79.22      80.56   79.22  79.41"
      ]
     },
     "execution_count": 201,
     "metadata": {},
     "output_type": "execute_result"
    }
   ],
   "source": [
    "# A dataframe with results of all models\n",
    "import pandas as pd\n",
    "all_model_results = pd.DataFrame({\"baseline\": baseline_results,\n",
    "                                    \"model_1_dense\": model_1_results,\n",
    "                                    \"model_2_LSTM\": model_2_results,\n",
    "                                    \"model_3_GRU\": model_3_results,\n",
    "                                    \"model_4_bidirectional_LSTM\": model_4_results,\n",
    "                                    \"model_5_Conv1D\": model_5_results,\n",
    "                                    \"model_6_TB_HUB\": model_6_results,\n",
    "                                    \"model_7_TB_HUB_10_percent\": model_7_results})\n",
    "all_model_results = all_model_results.transpose()\n",
    "all_model_results"
   ]
  },
  {
   "cell_type": "code",
   "execution_count": 200,
   "metadata": {},
   "outputs": [
    {
     "data": {
      "image/png": "[encoded data removed]",
      "text/plain": [
       "<Figure size 1000x700 with 1 Axes>"
      ]
     },
     "metadata": {},
     "output_type": "display_data"
    }
   ],
   "source": [
    "import matplotlib.pyplot as plt\n",
    "import seaborn as sns\n",
    "\n",
    "all_model_results_sorted = all_model_results.sort_values(by=\"f1\", ascending=False)\n",
    "plt.figure(figsize=(10, 7))\n",
    "sns.barplot(x=all_model_results_sorted.index, y=\"f1\", data=all_model_results_sorted)\n",
    "plt.xticks(rotation=90)\n",
    "plt.title(\"F1-scores for 7 different models\")\n",
    "plt.show()"
   ]
  },
  {
   "cell_type": "markdown",
   "metadata": {},
   "source": [
    "## Save the Best Model"
   ]
  },
  {
   "cell_type": "code",
   "execution_count": 141,
   "metadata": {},
   "outputs": [],
   "source": [
    "# save the model_6 to disk as hdf5 format\n",
    "model_6.save(\"./saved_models/model_6_TB_HUB_USE.h5\")"
   ]
  },
  {
   "cell_type": "markdown",
   "metadata": {},
   "source": [
    "## Load the saved model"
   ]
  },
  {
   "cell_type": "code",
   "execution_count": 142,
   "metadata": {},
   "outputs": [
    {
     "name": "stdout",
     "output_type": "stream",
     "text": [
      "24/24 [==============================] - 1s 16ms/step - loss: 0.4258 - accuracy: 0.8176\n"
     ]
    },
    {
     "data": {
      "text/plain": [
       "[0.4257521331310272, 0.817585289478302]"
      ]
     },
     "execution_count": 142,
     "metadata": {},
     "output_type": "execute_result"
    }
   ],
   "source": [
    "# load the model from disk\n",
    "loaded_model_6 = tf.keras.models.load_model(\"./saved_models/model_6_TB_HUB_USE.h5\",\n",
    "                                            custom_objects={\"KerasLayer\": hub.KerasLayer}\n",
    "                                            )\n",
    "\n",
    "# evaluate the loaded model on the test set\n",
    "loaded_model_6.evaluate(val_sentences, val_labels)"
   ]
  },
  {
   "cell_type": "code",
   "execution_count": 143,
   "metadata": {},
   "outputs": [
    {
     "name": "stdout",
     "output_type": "stream",
     "text": [
      "24/24 [==============================] - 0s 8ms/step - loss: 0.4258 - accuracy: 0.8176\n"
     ]
    },
    {
     "data": {
      "text/plain": [
       "[0.4257521331310272, 0.817585289478302]"
      ]
     },
     "execution_count": 143,
     "metadata": {},
     "output_type": "execute_result"
    }
   ],
   "source": [
    "model_6.evaluate(val_sentences, val_labels)"
   ]
  },
  {
   "cell_type": "markdown",
   "metadata": {},
   "source": [
    "# Investingating Wrong predictions from validation dataset"
   ]
  },
  {
   "cell_type": "markdown",
   "metadata": {},
   "source": [
    "## Wrong predictions\n",
    "\n",
    "* 0 = not diaster\n",
    "* 1 = diaster"
   ]
  },
  {
   "cell_type": "code",
   "execution_count": 186,
   "metadata": {},
   "outputs": [],
   "source": [
    "# investigate the model_6 wrong predictions on validation set\n",
    "y_pred_probs = model_6.predict(val_sentences)\n",
    "y_preds = tf.squeeze(tf.round(y_pred_probs))\n",
    "\n",
    "# convert y_preds as integers\n",
    "y_preds = y_preds.numpy().astype(int)\n",
    "\n",
    "# get the y_pred_probs as numpy array\n",
    "y_pred_probs = tf.squeeze(y_pred_probs).numpy()\n",
    "\n",
    "#  round to 2 decimal places\n",
    "y_pred_probs = np.round(y_pred_probs, 2)\n",
    "\n",
    "# create a dataframe with validation sentences, validation labels and predictions\n",
    "val_df = pd.DataFrame({\"text\": val_sentences,\n",
    "                        \"Groud Truth\": val_labels,\n",
    "                        \"Predicted Label\": y_preds,\n",
    "                        \"Predicted Probabilities\": y_pred_probs,\n",
    "                        })\n",
    "\n",
    "\n",
    "\n",
    "# See full text of a tweet in the dataframe\n",
    "pd.options.display.max_colwidth = 500\n",
    "\n",
    "# see all rows of the dataframe\n",
    "pd.options.display.max_rows = None\n"
   ]
  },
  {
   "cell_type": "markdown",
   "metadata": {},
   "source": [
    "### False Positives"
   ]
  },
  {
   "cell_type": "code",
   "execution_count": 187,
   "metadata": {},
   "outputs": [
    {
     "data": {
      "text/html": [
       "<div>\n",
       "<style scoped>\n",
       "    .dataframe tbody tr th:only-of-type {\n",
       "        vertical-align: middle;\n",
       "    }\n",
       "\n",
       "    .dataframe tbody tr th {\n",
       "        vertical-align: top;\n",
       "    }\n",
       "\n",
       "    .dataframe thead th {\n",
       "        text-align: right;\n",
       "    }\n",
       "</style>\n",
       "<table border=\"1\" class=\"dataframe\">\n",
       "  <thead>\n",
       "    <tr style=\"text-align: right;\">\n",
       "      <th></th>\n",
       "      <th>text</th>\n",
       "      <th>Groud Truth</th>\n",
       "      <th>Predicted Label</th>\n",
       "      <th>Predicted Probabilities</th>\n",
       "    </tr>\n",
       "  </thead>\n",
       "  <tbody>\n",
       "    <tr>\n",
       "      <th>1</th>\n",
       "      <td>FedEx no longer to transport bioterror germs in wake of anthrax lab mishaps http://t.co/qZQc8WWwcN via @usatoday</td>\n",
       "      <td>0</td>\n",
       "      <td>1</td>\n",
       "      <td>0.75</td>\n",
       "    </tr>\n",
       "    <tr>\n",
       "      <th>10</th>\n",
       "      <td>@RedCoatJackpot *As it was typical for them their bullets collided and none managed to reach their targets; such was the ''curse'' of a --</td>\n",
       "      <td>0</td>\n",
       "      <td>1</td>\n",
       "      <td>0.63</td>\n",
       "    </tr>\n",
       "    <tr>\n",
       "      <th>11</th>\n",
       "      <td>The Five Fatal Flaws in the Iran Deal https://t.co/ztfEAd8GId via @YouTube</td>\n",
       "      <td>0</td>\n",
       "      <td>1</td>\n",
       "      <td>0.53</td>\n",
       "    </tr>\n",
       "    <tr>\n",
       "      <th>17</th>\n",
       "      <td>there's this person &amp;amp; they reckon when you're dying your brain floods with dmt causing you to relive your life in real time in a simulation</td>\n",
       "      <td>0</td>\n",
       "      <td>1</td>\n",
       "      <td>0.55</td>\n",
       "    </tr>\n",
       "    <tr>\n",
       "      <th>31</th>\n",
       "      <td>? High Skies - Burning Buildings ? http://t.co/uVq41i3Kx2 #nowplaying</td>\n",
       "      <td>0</td>\n",
       "      <td>1</td>\n",
       "      <td>0.92</td>\n",
       "    </tr>\n",
       "    <tr>\n",
       "      <th>43</th>\n",
       "      <td>Russian #ushanka #winter #military fur hat (xl61-62) with soviet badge LINK:\\nhttp://t.co/74YFQxvAK0 http://t.co/KXrEHVt6hL</td>\n",
       "      <td>0</td>\n",
       "      <td>1</td>\n",
       "      <td>0.53</td>\n",
       "    </tr>\n",
       "    <tr>\n",
       "      <th>48</th>\n",
       "      <td>Cyclists it is pandemonium on the roads today. Drive carefully!</td>\n",
       "      <td>0</td>\n",
       "      <td>1</td>\n",
       "      <td>0.66</td>\n",
       "    </tr>\n",
       "    <tr>\n",
       "      <th>49</th>\n",
       "      <td>@madonnamking RSPCA site multiple 7 story high rise buildings next to low density character residential in an area that floods</td>\n",
       "      <td>0</td>\n",
       "      <td>1</td>\n",
       "      <td>0.87</td>\n",
       "    </tr>\n",
       "    <tr>\n",
       "      <th>80</th>\n",
       "      <td>GENERAL AUDIENCE: On Wounded Families | ZENIT - The World Seen From Rome http://t.co/hFvnyfT78C</td>\n",
       "      <td>0</td>\n",
       "      <td>1</td>\n",
       "      <td>0.68</td>\n",
       "    </tr>\n",
       "    <tr>\n",
       "      <th>109</th>\n",
       "      <td>[55436] 1950 LIONEL TRAINS SMOKE LOCOMOTIVES WITH MAGNE-TRACTION INSTRUCTIONS http://t.co/xEZBs3sq0y http://t.co/C2x0QoKGlY</td>\n",
       "      <td>0</td>\n",
       "      <td>1</td>\n",
       "      <td>0.85</td>\n",
       "    </tr>\n",
       "    <tr>\n",
       "      <th>117</th>\n",
       "      <td>Public Hearing on 2015-16 @SUNY_Orange budget Thurs 8/6 at 3:15 Emergency Services Ctr Goshen. http://t.co/80DzgCo6Vc</td>\n",
       "      <td>0</td>\n",
       "      <td>1</td>\n",
       "      <td>0.57</td>\n",
       "    </tr>\n",
       "    <tr>\n",
       "      <th>119</th>\n",
       "      <td>@freefromwolves GodsLove &amp;amp; #thankU brother Danny for RT of NEW VIDEO http://t.co/cybKsXHF7d The Coming Apocalyptic US Earthquake &amp;amp; Tsunami</td>\n",
       "      <td>0</td>\n",
       "      <td>1</td>\n",
       "      <td>0.76</td>\n",
       "    </tr>\n",
       "    <tr>\n",
       "      <th>144</th>\n",
       "      <td>The Sound of Arson</td>\n",
       "      <td>0</td>\n",
       "      <td>1</td>\n",
       "      <td>0.80</td>\n",
       "    </tr>\n",
       "    <tr>\n",
       "      <th>156</th>\n",
       "      <td>@cjbanning 4sake of argsuppose pre-born has attained individl rights.Generally courtof law forbids killing unless dead person did something</td>\n",
       "      <td>0</td>\n",
       "      <td>1</td>\n",
       "      <td>0.71</td>\n",
       "    </tr>\n",
       "    <tr>\n",
       "      <th>181</th>\n",
       "      <td>Article by Michael Jackman at Metro Times Detroit:\\nThe group later downgraded the estimate to 37 square miles of... http://t.co/h31mmuduqt</td>\n",
       "      <td>0</td>\n",
       "      <td>1</td>\n",
       "      <td>0.61</td>\n",
       "    </tr>\n",
       "    <tr>\n",
       "      <th>209</th>\n",
       "      <td>Ashes 2015: AustraliaÛªs collapse at Trent Bridge among worst in history: England bundled out Australia for 60 ... http://t.co/t5TrhjUAU0</td>\n",
       "      <td>0</td>\n",
       "      <td>1</td>\n",
       "      <td>0.83</td>\n",
       "    </tr>\n",
       "    <tr>\n",
       "      <th>237</th>\n",
       "      <td>Came across this fire video not mine..enjoy..Babes way of saying hi to me while he's in the fire truck??\\n#fireman #Û_ http://t.co/V5gTUnwohy</td>\n",
       "      <td>0</td>\n",
       "      <td>1</td>\n",
       "      <td>0.53</td>\n",
       "    </tr>\n",
       "    <tr>\n",
       "      <th>251</th>\n",
       "      <td>@AshGhebranious civil rights continued in the 60s. And what about trans-generational trauma? if anything we should listen to the Americans.</td>\n",
       "      <td>0</td>\n",
       "      <td>1</td>\n",
       "      <td>0.84</td>\n",
       "    </tr>\n",
       "    <tr>\n",
       "      <th>285</th>\n",
       "      <td>@Azimel 'Screaming Mad Scientist deceased after tumbling over heels and falling into sinkhole during investigation'</td>\n",
       "      <td>0</td>\n",
       "      <td>1</td>\n",
       "      <td>0.60</td>\n",
       "    </tr>\n",
       "    <tr>\n",
       "      <th>291</th>\n",
       "      <td>He made such a good point. White person comings mass murder labelled as criminal minority does the same thing... http://t.co/37qPsSnaCv</td>\n",
       "      <td>0</td>\n",
       "      <td>1</td>\n",
       "      <td>0.61</td>\n",
       "    </tr>\n",
       "    <tr>\n",
       "      <th>299</th>\n",
       "      <td>@LegacyOfTheSith @SagaciousSaber @Lordofbetrayal Moved in a crescent formation small trails of dust left in their wake as they moved.</td>\n",
       "      <td>0</td>\n",
       "      <td>1</td>\n",
       "      <td>0.53</td>\n",
       "    </tr>\n",
       "    <tr>\n",
       "      <th>303</th>\n",
       "      <td>Trafford Centre film fans angry after Odeon cinema evacuated following false fire alarm   http://t.co/6GLDwx71DA</td>\n",
       "      <td>0</td>\n",
       "      <td>1</td>\n",
       "      <td>0.74</td>\n",
       "    </tr>\n",
       "    <tr>\n",
       "      <th>307</th>\n",
       "      <td>@pxnatosil @RenuncieDilma  Fatality!</td>\n",
       "      <td>0</td>\n",
       "      <td>1</td>\n",
       "      <td>0.76</td>\n",
       "    </tr>\n",
       "    <tr>\n",
       "      <th>317</th>\n",
       "      <td>Photo: postapocalypticflimflam: Prodding around the rubble. http://t.co/Bgy4i47j70</td>\n",
       "      <td>0</td>\n",
       "      <td>1</td>\n",
       "      <td>0.64</td>\n",
       "    </tr>\n",
       "    <tr>\n",
       "      <th>344</th>\n",
       "      <td>Air Group is here to the rescue! We have 24/7 Emergency Service! Learn more about it here - http://t.co/9lyx7zMtHE http://t.co/5PbC96rTMJ</td>\n",
       "      <td>0</td>\n",
       "      <td>1</td>\n",
       "      <td>0.67</td>\n",
       "    </tr>\n",
       "    <tr>\n",
       "      <th>359</th>\n",
       "      <td>the windstorm blew thru my open window and now my bong is in pieces just another example of nature's indifference to human suffering</td>\n",
       "      <td>0</td>\n",
       "      <td>1</td>\n",
       "      <td>0.68</td>\n",
       "    </tr>\n",
       "    <tr>\n",
       "      <th>381</th>\n",
       "      <td>Deaths 3 http://t.co/nApviyGKYK</td>\n",
       "      <td>0</td>\n",
       "      <td>1</td>\n",
       "      <td>0.86</td>\n",
       "    </tr>\n",
       "    <tr>\n",
       "      <th>384</th>\n",
       "      <td>@nagel_ashley @Vicken52 @BasedLaRock @goonc1ty rip the world... its burning</td>\n",
       "      <td>0</td>\n",
       "      <td>1</td>\n",
       "      <td>0.58</td>\n",
       "    </tr>\n",
       "    <tr>\n",
       "      <th>393</th>\n",
       "      <td>@SonofLiberty357 all illuminated by the brightly burning buildings all around the town!</td>\n",
       "      <td>0</td>\n",
       "      <td>1</td>\n",
       "      <td>0.81</td>\n",
       "    </tr>\n",
       "    <tr>\n",
       "      <th>397</th>\n",
       "      <td>The #tubestrike is because TFL workers may have trouble planning downtime. I hope none need emergency services. http://t.co/iCSFDSiFqb</td>\n",
       "      <td>0</td>\n",
       "      <td>1</td>\n",
       "      <td>0.69</td>\n",
       "    </tr>\n",
       "    <tr>\n",
       "      <th>433</th>\n",
       "      <td>Diageo's CEO stresses that a board revolt at United Spirits has not impacted Indian operations http://t.co/STPOdA901U</td>\n",
       "      <td>0</td>\n",
       "      <td>1</td>\n",
       "      <td>0.59</td>\n",
       "    </tr>\n",
       "    <tr>\n",
       "      <th>440</th>\n",
       "      <td>Do you have a plan? Emergency Preparedness for #Families of\\nChildren with Special Needs  http://t.co/RdOVqaUAx5  #autism #specialneeds</td>\n",
       "      <td>0</td>\n",
       "      <td>1</td>\n",
       "      <td>0.58</td>\n",
       "    </tr>\n",
       "    <tr>\n",
       "      <th>474</th>\n",
       "      <td>My phone looks like it was in a car ship airplane accident. Terrible</td>\n",
       "      <td>0</td>\n",
       "      <td>1</td>\n",
       "      <td>0.77</td>\n",
       "    </tr>\n",
       "    <tr>\n",
       "      <th>496</th>\n",
       "      <td>Aftershock ã¢ (2010) Fullã¢ Streaming - YouTube http://t.co/vVE3UsesGf</td>\n",
       "      <td>0</td>\n",
       "      <td>1</td>\n",
       "      <td>0.53</td>\n",
       "    </tr>\n",
       "    <tr>\n",
       "      <th>549</th>\n",
       "      <td>Day 2. Liquidation of emergency at chemical object. #USAR2015 #USAR15 #RUOR #??????????? http://t.co/gGTmDqUdDo</td>\n",
       "      <td>0</td>\n",
       "      <td>1</td>\n",
       "      <td>0.72</td>\n",
       "    </tr>\n",
       "    <tr>\n",
       "      <th>567</th>\n",
       "      <td>@RebeccaforReal accepts Wisconsin Emergency Response Plan on behalf of @GovWalker #nbc15 http://t.co/Pis0aiVRbR</td>\n",
       "      <td>0</td>\n",
       "      <td>1</td>\n",
       "      <td>0.66</td>\n",
       "    </tr>\n",
       "    <tr>\n",
       "      <th>577</th>\n",
       "      <td>@BrodyFrieling @hanna_brooksie photo bombed</td>\n",
       "      <td>0</td>\n",
       "      <td>1</td>\n",
       "      <td>0.69</td>\n",
       "    </tr>\n",
       "    <tr>\n",
       "      <th>588</th>\n",
       "      <td>.@AIGinsurance CEO: Divestitures and #Catastrophe Losses Temper Q2 #Results http://t.co/2y2wZk1FrM</td>\n",
       "      <td>0</td>\n",
       "      <td>1</td>\n",
       "      <td>0.73</td>\n",
       "    </tr>\n",
       "    <tr>\n",
       "      <th>619</th>\n",
       "      <td>Emergency Response and Hazardous Chemical Management: Principles and Practices http://t.co/4sSuyhkgRB http://t.co/TDerBtgZ2k</td>\n",
       "      <td>0</td>\n",
       "      <td>1</td>\n",
       "      <td>0.56</td>\n",
       "    </tr>\n",
       "    <tr>\n",
       "      <th>628</th>\n",
       "      <td>@noah_anyname That's where the concentration camps and mass murder come in. \\n \\nEVERY. FUCKING. TIME.</td>\n",
       "      <td>0</td>\n",
       "      <td>1</td>\n",
       "      <td>0.90</td>\n",
       "    </tr>\n",
       "    <tr>\n",
       "      <th>645</th>\n",
       "      <td>Love is the weapon for this wounded generation &amp;lt;3</td>\n",
       "      <td>0</td>\n",
       "      <td>1</td>\n",
       "      <td>0.61</td>\n",
       "    </tr>\n",
       "    <tr>\n",
       "      <th>695</th>\n",
       "      <td>A look at state actions a year after Ferguson's upheaval http://t.co/GZEkQWzijq</td>\n",
       "      <td>0</td>\n",
       "      <td>1</td>\n",
       "      <td>0.74</td>\n",
       "    </tr>\n",
       "    <tr>\n",
       "      <th>698</th>\n",
       "      <td>åÈMGN-AFRICAå¨ pin:263789F4 åÈ Correction: Tent Collapse Story: Correction: Tent Collapse story åÈ http://t.co/fDJUYvZMrv @wizkidayo</td>\n",
       "      <td>0</td>\n",
       "      <td>1</td>\n",
       "      <td>0.77</td>\n",
       "    </tr>\n",
       "    <tr>\n",
       "      <th>712</th>\n",
       "      <td>WPRI 12 Eyewitness News Rhode Island set to modernize its voting equipment WPRI 12 EyewitnessÛ_ http://t.co/aP9JBrPmQg</td>\n",
       "      <td>0</td>\n",
       "      <td>1</td>\n",
       "      <td>0.54</td>\n",
       "    </tr>\n",
       "    <tr>\n",
       "      <th>718</th>\n",
       "      <td>Haley Lu Richardson Fights for Water in The Last Survivors (Review) http://t.co/oObSCFOKtQ</td>\n",
       "      <td>0</td>\n",
       "      <td>1</td>\n",
       "      <td>0.65</td>\n",
       "    </tr>\n",
       "    <tr>\n",
       "      <th>741</th>\n",
       "      <td>#helpme what do I do? My friend has been ticketed by Police in Wayne County Michigan into never- sending poverty cycle. How do I help him?</td>\n",
       "      <td>0</td>\n",
       "      <td>1</td>\n",
       "      <td>0.58</td>\n",
       "    </tr>\n",
       "    <tr>\n",
       "      <th>759</th>\n",
       "      <td>FedEx will no longer transport bioterror pathogens in wake of anthrax lab mishaps http://t.co/lHpgxc4b8J</td>\n",
       "      <td>0</td>\n",
       "      <td>1</td>\n",
       "      <td>0.87</td>\n",
       "    </tr>\n",
       "    <tr>\n",
       "      <th>760</th>\n",
       "      <td>Crack in the path where I wiped out this morning during beach run. Surface wounds on left elbow and right knee. http://t.co/yaqRSximph</td>\n",
       "      <td>0</td>\n",
       "      <td>1</td>\n",
       "      <td>0.63</td>\n",
       "    </tr>\n",
       "  </tbody>\n",
       "</table>\n",
       "</div>"
      ],
      "text/plain": [
       "                                                                                                                                                   text  \\\n",
       "1                                      FedEx no longer to transport bioterror germs in wake of anthrax lab mishaps http://t.co/qZQc8WWwcN via @usatoday   \n",
       "10           @RedCoatJackpot *As it was typical for them their bullets collided and none managed to reach their targets; such was the ''curse'' of a --   \n",
       "11                                                                           The Five Fatal Flaws in the Iran Deal https://t.co/ztfEAd8GId via @YouTube   \n",
       "17      there's this person &amp; they reckon when you're dying your brain floods with dmt causing you to relive your life in real time in a simulation   \n",
       "31                                                                                ? High Skies - Burning Buildings ? http://t.co/uVq41i3Kx2 #nowplaying   \n",
       "43                          Russian #ushanka #winter #military fur hat (xl61-62) with soviet badge LINK:\\nhttp://t.co/74YFQxvAK0 http://t.co/KXrEHVt6hL   \n",
       "48                                                                                      Cyclists it is pandemonium on the roads today. Drive carefully!   \n",
       "49                       @madonnamking RSPCA site multiple 7 story high rise buildings next to low density character residential in an area that floods   \n",
       "80                                                      GENERAL AUDIENCE: On Wounded Families | ZENIT - The World Seen From Rome http://t.co/hFvnyfT78C   \n",
       "109                         [55436] 1950 LIONEL TRAINS SMOKE LOCOMOTIVES WITH MAGNE-TRACTION INSTRUCTIONS http://t.co/xEZBs3sq0y http://t.co/C2x0QoKGlY   \n",
       "117                               Public Hearing on 2015-16 @SUNY_Orange budget Thurs 8/6 at 3:15 Emergency Services Ctr Goshen. http://t.co/80DzgCo6Vc   \n",
       "119  @freefromwolves GodsLove &amp; #thankU brother Danny for RT of NEW VIDEO http://t.co/cybKsXHF7d The Coming Apocalyptic US Earthquake &amp; Tsunami   \n",
       "144                                                                                                                                  The Sound of Arson   \n",
       "156         @cjbanning 4sake of argsuppose pre-born has attained individl rights.Generally courtof law forbids killing unless dead person did something   \n",
       "181         Article by Michael Jackman at Metro Times Detroit:\\nThe group later downgraded the estimate to 37 square miles of... http://t.co/h31mmuduqt   \n",
       "209          Ashes 2015: AustraliaÛªs collapse at Trent Bridge among worst in history: England bundled out Australia for 60 ... http://t.co/t5TrhjUAU0   \n",
       "237      Came across this fire video not mine..enjoy..Babes way of saying hi to me while he's in the fire truck??\\n#fireman #Û_ http://t.co/V5gTUnwohy   \n",
       "251         @AshGhebranious civil rights continued in the 60s. And what about trans-generational trauma? if anything we should listen to the Americans.   \n",
       "285                                 @Azimel 'Screaming Mad Scientist deceased after tumbling over heels and falling into sinkhole during investigation'   \n",
       "291             He made such a good point. White person comings mass murder labelled as criminal minority does the same thing... http://t.co/37qPsSnaCv   \n",
       "299               @LegacyOfTheSith @SagaciousSaber @Lordofbetrayal Moved in a crescent formation small trails of dust left in their wake as they moved.   \n",
       "303                                    Trafford Centre film fans angry after Odeon cinema evacuated following false fire alarm   http://t.co/6GLDwx71DA   \n",
       "307                                                                                                                @pxnatosil @RenuncieDilma  Fatality!   \n",
       "317                                                                  Photo: postapocalypticflimflam: Prodding around the rubble. http://t.co/Bgy4i47j70   \n",
       "344           Air Group is here to the rescue! We have 24/7 Emergency Service! Learn more about it here - http://t.co/9lyx7zMtHE http://t.co/5PbC96rTMJ   \n",
       "359                the windstorm blew thru my open window and now my bong is in pieces just another example of nature's indifference to human suffering   \n",
       "381                                                                                                                     Deaths 3 http://t.co/nApviyGKYK   \n",
       "384                                                                         @nagel_ashley @Vicken52 @BasedLaRock @goonc1ty rip the world... its burning   \n",
       "393                                                             @SonofLiberty357 all illuminated by the brightly burning buildings all around the town!   \n",
       "397              The #tubestrike is because TFL workers may have trouble planning downtime. I hope none need emergency services. http://t.co/iCSFDSiFqb   \n",
       "433                               Diageo's CEO stresses that a board revolt at United Spirits has not impacted Indian operations http://t.co/STPOdA901U   \n",
       "440             Do you have a plan? Emergency Preparedness for #Families of\\nChildren with Special Needs  http://t.co/RdOVqaUAx5  #autism #specialneeds   \n",
       "474                                                                                My phone looks like it was in a car ship airplane accident. Terrible   \n",
       "496                                                                            Aftershock ã¢ (2010) Fullã¢ Streaming - YouTube http://t.co/vVE3UsesGf   \n",
       "549                                     Day 2. Liquidation of emergency at chemical object. #USAR2015 #USAR15 #RUOR #??????????? http://t.co/gGTmDqUdDo   \n",
       "567                                     @RebeccaforReal accepts Wisconsin Emergency Response Plan on behalf of @GovWalker #nbc15 http://t.co/Pis0aiVRbR   \n",
       "577                                                                                                         @BrodyFrieling @hanna_brooksie photo bombed   \n",
       "588                                                  .@AIGinsurance CEO: Divestitures and #Catastrophe Losses Temper Q2 #Results http://t.co/2y2wZk1FrM   \n",
       "619                        Emergency Response and Hazardous Chemical Management: Principles and Practices http://t.co/4sSuyhkgRB http://t.co/TDerBtgZ2k   \n",
       "628                                              @noah_anyname That's where the concentration camps and mass murder come in. \\n \\nEVERY. FUCKING. TIME.   \n",
       "645                                                                                                Love is the weapon for this wounded generation &lt;3   \n",
       "695                                                                     A look at state actions a year after Ferguson's upheaval http://t.co/GZEkQWzijq   \n",
       "698                åÈMGN-AFRICAå¨ pin:263789F4 åÈ Correction: Tent Collapse Story: Correction: Tent Collapse story åÈ http://t.co/fDJUYvZMrv @wizkidayo   \n",
       "712                             WPRI 12 Eyewitness News Rhode Island set to modernize its voting equipment WPRI 12 EyewitnessÛ_ http://t.co/aP9JBrPmQg   \n",
       "718                                                          Haley Lu Richardson Fights for Water in The Last Survivors (Review) http://t.co/oObSCFOKtQ   \n",
       "741          #helpme what do I do? My friend has been ticketed by Police in Wayne County Michigan into never- sending poverty cycle. How do I help him?   \n",
       "759                                            FedEx will no longer transport bioterror pathogens in wake of anthrax lab mishaps http://t.co/lHpgxc4b8J   \n",
       "760              Crack in the path where I wiped out this morning during beach run. Surface wounds on left elbow and right knee. http://t.co/yaqRSximph   \n",
       "\n",
       "     Groud Truth  Predicted Label  Predicted Probabilities  \n",
       "1              0                1                     0.75  \n",
       "10             0                1                     0.63  \n",
       "11             0                1                     0.53  \n",
       "17             0                1                     0.55  \n",
       "31             0                1                     0.92  \n",
       "43             0                1                     0.53  \n",
       "48             0                1                     0.66  \n",
       "49             0                1                     0.87  \n",
       "80             0                1                     0.68  \n",
       "109            0                1                     0.85  \n",
       "117            0                1                     0.57  \n",
       "119            0                1                     0.76  \n",
       "144            0                1                     0.80  \n",
       "156            0                1                     0.71  \n",
       "181            0                1                     0.61  \n",
       "209            0                1                     0.83  \n",
       "237            0                1                     0.53  \n",
       "251            0                1                     0.84  \n",
       "285            0                1                     0.60  \n",
       "291            0                1                     0.61  \n",
       "299            0                1                     0.53  \n",
       "303            0                1                     0.74  \n",
       "307            0                1                     0.76  \n",
       "317            0                1                     0.64  \n",
       "344            0                1                     0.67  \n",
       "359            0                1                     0.68  \n",
       "381            0                1                     0.86  \n",
       "384            0                1                     0.58  \n",
       "393            0                1                     0.81  \n",
       "397            0                1                     0.69  \n",
       "433            0                1                     0.59  \n",
       "440            0                1                     0.58  \n",
       "474            0                1                     0.77  \n",
       "496            0                1                     0.53  \n",
       "549            0                1                     0.72  \n",
       "567            0                1                     0.66  \n",
       "577            0                1                     0.69  \n",
       "588            0                1                     0.73  \n",
       "619            0                1                     0.56  \n",
       "628            0                1                     0.90  \n",
       "645            0                1                     0.61  \n",
       "695            0                1                     0.74  \n",
       "698            0                1                     0.77  \n",
       "712            0                1                     0.54  \n",
       "718            0                1                     0.65  \n",
       "741            0                1                     0.58  \n",
       "759            0                1                     0.87  \n",
       "760            0                1                     0.63  "
      ]
     },
     "execution_count": 187,
     "metadata": {},
     "output_type": "execute_result"
    }
   ],
   "source": [
    "# find the false positives\n",
    "val_df[(val_df[\"Groud Truth\"] == 0) & (val_df[\"Predicted Label\"] == 1)]"
   ]
  },
  {
   "cell_type": "markdown",
   "metadata": {},
   "source": [
    "### False Negatives"
   ]
  },
  {
   "cell_type": "code",
   "execution_count": 188,
   "metadata": {},
   "outputs": [
    {
     "data": {
      "text/html": [
       "<div>\n",
       "<style scoped>\n",
       "    .dataframe tbody tr th:only-of-type {\n",
       "        vertical-align: middle;\n",
       "    }\n",
       "\n",
       "    .dataframe tbody tr th {\n",
       "        vertical-align: top;\n",
       "    }\n",
       "\n",
       "    .dataframe thead th {\n",
       "        text-align: right;\n",
       "    }\n",
       "</style>\n",
       "<table border=\"1\" class=\"dataframe\">\n",
       "  <thead>\n",
       "    <tr style=\"text-align: right;\">\n",
       "      <th></th>\n",
       "      <th>text</th>\n",
       "      <th>Groud Truth</th>\n",
       "      <th>Predicted Label</th>\n",
       "      <th>Predicted Probabilities</th>\n",
       "    </tr>\n",
       "  </thead>\n",
       "  <tbody>\n",
       "    <tr>\n",
       "      <th>3</th>\n",
       "      <td>@camilacabello97 Internally and externally screaming</td>\n",
       "      <td>1</td>\n",
       "      <td>0</td>\n",
       "      <td>0.20</td>\n",
       "    </tr>\n",
       "    <tr>\n",
       "      <th>18</th>\n",
       "      <td>Policyholders object to Clico rescue plan http://t.co/E4DvI9vUXZ http://t.co/JyCpf8iYhg</td>\n",
       "      <td>1</td>\n",
       "      <td>0</td>\n",
       "      <td>0.34</td>\n",
       "    </tr>\n",
       "    <tr>\n",
       "      <th>21</th>\n",
       "      <td>So I pick myself off the ground and swam before I drowned. Hit the bottom so hard I bounced twice suffice this time around is different.</td>\n",
       "      <td>1</td>\n",
       "      <td>0</td>\n",
       "      <td>0.12</td>\n",
       "    </tr>\n",
       "    <tr>\n",
       "      <th>22</th>\n",
       "      <td>US wont upgrade its infrastructure? http://t.co/NGEHhG9YGa' it a bad situation and its going to get ugly very quickly #USA #sustainability</td>\n",
       "      <td>1</td>\n",
       "      <td>0</td>\n",
       "      <td>0.44</td>\n",
       "    </tr>\n",
       "    <tr>\n",
       "      <th>23</th>\n",
       "      <td>Ron &amp;amp; Fez - Dave's High School Crush https://t.co/aN3W16c8F6 via @YouTube</td>\n",
       "      <td>1</td>\n",
       "      <td>0</td>\n",
       "      <td>0.03</td>\n",
       "    </tr>\n",
       "    <tr>\n",
       "      <th>30</th>\n",
       "      <td>Medieval airplane hijacker testa: earnings the distinction divers: HtaRvrGLY</td>\n",
       "      <td>1</td>\n",
       "      <td>0</td>\n",
       "      <td>0.48</td>\n",
       "    </tr>\n",
       "    <tr>\n",
       "      <th>38</th>\n",
       "      <td>Why are you deluged with low self-image? Take the quiz: http://t.co/XsPqdOrIqj http://t.co/CQYvFR4UCy</td>\n",
       "      <td>1</td>\n",
       "      <td>0</td>\n",
       "      <td>0.03</td>\n",
       "    </tr>\n",
       "    <tr>\n",
       "      <th>40</th>\n",
       "      <td>@BoyInAHorsemask its a panda trapped in a dogs body</td>\n",
       "      <td>1</td>\n",
       "      <td>0</td>\n",
       "      <td>0.10</td>\n",
       "    </tr>\n",
       "    <tr>\n",
       "      <th>42</th>\n",
       "      <td>Nearly had a heart attack just now; loud bang against window next to meÛ_turns out it was two birds flying into the glass.</td>\n",
       "      <td>1</td>\n",
       "      <td>0</td>\n",
       "      <td>0.44</td>\n",
       "    </tr>\n",
       "    <tr>\n",
       "      <th>58</th>\n",
       "      <td>Leitchfield KY:\\n\\n Bella Edward &amp;amp; Rosalie need rescue/adoption/local foster home(s)/sponsorships.\\n\\n Trapped &amp;amp;... http://t.co/Ajay0sNPlg</td>\n",
       "      <td>1</td>\n",
       "      <td>0</td>\n",
       "      <td>0.14</td>\n",
       "    </tr>\n",
       "    <tr>\n",
       "      <th>59</th>\n",
       "      <td>You can never escape me. Bullets don't harm me. Nothing harms me. But I know pain. I know pain. Sometimes I share it. With someone like you.</td>\n",
       "      <td>1</td>\n",
       "      <td>0</td>\n",
       "      <td>0.06</td>\n",
       "    </tr>\n",
       "    <tr>\n",
       "      <th>63</th>\n",
       "      <td>I Will Survive by Gloria Gaynor (with Oktaviana Devi) ÛÓ https://t.co/HUkJZ1wT36</td>\n",
       "      <td>1</td>\n",
       "      <td>0</td>\n",
       "      <td>0.11</td>\n",
       "    </tr>\n",
       "    <tr>\n",
       "      <th>69</th>\n",
       "      <td>Back from Seattle Tacoma and Portland. Whirlwind! http://t.co/qwHINBni8e</td>\n",
       "      <td>1</td>\n",
       "      <td>0</td>\n",
       "      <td>0.49</td>\n",
       "    </tr>\n",
       "    <tr>\n",
       "      <th>75</th>\n",
       "      <td>DireTube Information ÛÒ Egypt Cyprus and Greece agreed to fightåÊterrorism http://t.co/V6IjxCCD2I http://t.co/YSXhFWMGOD</td>\n",
       "      <td>1</td>\n",
       "      <td>0</td>\n",
       "      <td>0.43</td>\n",
       "    </tr>\n",
       "    <tr>\n",
       "      <th>77</th>\n",
       "      <td>Another fake hate crime Lesbians burn their own house down. What else Is new :http://t.co/66oBQmxImb</td>\n",
       "      <td>1</td>\n",
       "      <td>0</td>\n",
       "      <td>0.30</td>\n",
       "    </tr>\n",
       "    <tr>\n",
       "      <th>110</th>\n",
       "      <td>Yelp Bolsters Health Care Reviews With Investigative Journalism: Sick and injured patients at a local ER are t... http://t.co/E8aEGOFDY2</td>\n",
       "      <td>1</td>\n",
       "      <td>0</td>\n",
       "      <td>0.08</td>\n",
       "    </tr>\n",
       "    <tr>\n",
       "      <th>121</th>\n",
       "      <td>@Habbo bring back games from the past. Snowstorm. Tic tac toe. Battleships. Fast food. Matchwood.</td>\n",
       "      <td>1</td>\n",
       "      <td>0</td>\n",
       "      <td>0.14</td>\n",
       "    </tr>\n",
       "    <tr>\n",
       "      <th>127</th>\n",
       "      <td>Petition | Heartless owner that whipped horse until it collapsed is told he can KEEP his animal! Act Now! http://t.co/87eFCBIczM</td>\n",
       "      <td>1</td>\n",
       "      <td>0</td>\n",
       "      <td>0.12</td>\n",
       "    </tr>\n",
       "    <tr>\n",
       "      <th>135</th>\n",
       "      <td>Body shops inundated with cars dented by hail... Good news insurance pays... Bad news :  you are stuck with deductible !\\n#wcvb</td>\n",
       "      <td>1</td>\n",
       "      <td>0</td>\n",
       "      <td>0.20</td>\n",
       "    </tr>\n",
       "    <tr>\n",
       "      <th>143</th>\n",
       "      <td>When ur friend and u are talking about forest fires in a forest and he tells u to drop ur mix tape out there... #straightfire</td>\n",
       "      <td>1</td>\n",
       "      <td>0</td>\n",
       "      <td>0.40</td>\n",
       "    </tr>\n",
       "    <tr>\n",
       "      <th>145</th>\n",
       "      <td>There's a weird siren going off here...I hope Hunterston isn't in the process of blowing itself to smithereens...</td>\n",
       "      <td>1</td>\n",
       "      <td>0</td>\n",
       "      <td>0.45</td>\n",
       "    </tr>\n",
       "    <tr>\n",
       "      <th>171</th>\n",
       "      <td>#World #News Qld police wrap Billy Gordon investigation: QUEENSLAND Police have wrapped up their investigation...  http://t.co/msgnNDxOeK</td>\n",
       "      <td>1</td>\n",
       "      <td>0</td>\n",
       "      <td>0.34</td>\n",
       "    </tr>\n",
       "    <tr>\n",
       "      <th>177</th>\n",
       "      <td>A Dayton-area org tells me it was hit by a cyber attack: http://t.co/7LhKJz0IVO</td>\n",
       "      <td>1</td>\n",
       "      <td>0</td>\n",
       "      <td>0.48</td>\n",
       "    </tr>\n",
       "    <tr>\n",
       "      <th>192</th>\n",
       "      <td>New post from @darkreading http://t.co/8eIJDXApnp New SMB Relay Attack Steals User Credentials Over Internet</td>\n",
       "      <td>1</td>\n",
       "      <td>0</td>\n",
       "      <td>0.07</td>\n",
       "    </tr>\n",
       "    <tr>\n",
       "      <th>197</th>\n",
       "      <td>when you don't know which way an ambulance is coming from &amp;lt;&amp;lt;</td>\n",
       "      <td>1</td>\n",
       "      <td>0</td>\n",
       "      <td>0.20</td>\n",
       "    </tr>\n",
       "    <tr>\n",
       "      <th>198</th>\n",
       "      <td>Perspectives on the Grateful Dead: Critical Writings (Contributions to the Study http://t.co/fmu0fnuMxf http://t.co/AgGRyhVXKr</td>\n",
       "      <td>1</td>\n",
       "      <td>0</td>\n",
       "      <td>0.08</td>\n",
       "    </tr>\n",
       "    <tr>\n",
       "      <th>220</th>\n",
       "      <td>Science Daily: Lightning reshapes rocks at the atomic level - A lightning strike can reshape a mineral's crystal s... http://t.co/TEZLTqeyw2</td>\n",
       "      <td>1</td>\n",
       "      <td>0</td>\n",
       "      <td>0.47</td>\n",
       "    </tr>\n",
       "    <tr>\n",
       "      <th>221</th>\n",
       "      <td>going to redo my nails and watch behind the scenes of desolation of smaug ayyy</td>\n",
       "      <td>1</td>\n",
       "      <td>0</td>\n",
       "      <td>0.06</td>\n",
       "    </tr>\n",
       "    <tr>\n",
       "      <th>226</th>\n",
       "      <td>Sadly before she could save humanity Ursula drowned in the drool of a protoshoggoth but at least she sort of died doing what she loved.</td>\n",
       "      <td>1</td>\n",
       "      <td>0</td>\n",
       "      <td>0.26</td>\n",
       "    </tr>\n",
       "    <tr>\n",
       "      <th>231</th>\n",
       "      <td>@dreamoforgonon @TeeEss not to hijack but as a bona fide cislady I can confirm this as true; incidental homosexuality =/= gay/bi for women.</td>\n",
       "      <td>1</td>\n",
       "      <td>0</td>\n",
       "      <td>0.17</td>\n",
       "    </tr>\n",
       "    <tr>\n",
       "      <th>233</th>\n",
       "      <td>I get to smoke my shit in peace</td>\n",
       "      <td>1</td>\n",
       "      <td>0</td>\n",
       "      <td>0.05</td>\n",
       "    </tr>\n",
       "    <tr>\n",
       "      <th>241</th>\n",
       "      <td>In Kalmikya Astrakhan Volgagrad and Dagestan there is already no food left for the locusts\\n\\n  http://t.co/79Fw9zWxtP via @TIMEWorld</td>\n",
       "      <td>1</td>\n",
       "      <td>0</td>\n",
       "      <td>0.26</td>\n",
       "    </tr>\n",
       "    <tr>\n",
       "      <th>244</th>\n",
       "      <td>Reddit Will Now QuarantineÛ_ http://t.co/pkUAMXw6pm #onlinecommunities #reddit #amageddon #freespeech #Business http://t.co/PAWvNJ4sAP</td>\n",
       "      <td>1</td>\n",
       "      <td>0</td>\n",
       "      <td>0.06</td>\n",
       "    </tr>\n",
       "    <tr>\n",
       "      <th>248</th>\n",
       "      <td>Until my death I'll forever rep the Jets.</td>\n",
       "      <td>1</td>\n",
       "      <td>0</td>\n",
       "      <td>0.15</td>\n",
       "    </tr>\n",
       "    <tr>\n",
       "      <th>250</th>\n",
       "      <td>The ol' meltdown victory for the Mets.</td>\n",
       "      <td>1</td>\n",
       "      <td>0</td>\n",
       "      <td>0.13</td>\n",
       "    </tr>\n",
       "    <tr>\n",
       "      <th>258</th>\n",
       "      <td>So this storm just came out of no where. .fuck me its cool</td>\n",
       "      <td>1</td>\n",
       "      <td>0</td>\n",
       "      <td>0.40</td>\n",
       "    </tr>\n",
       "    <tr>\n",
       "      <th>261</th>\n",
       "      <td>If I fall is men GOD @Praiz8 is d bomb well av always known dat since 2008 bigger u I pray sir</td>\n",
       "      <td>1</td>\n",
       "      <td>0</td>\n",
       "      <td>0.09</td>\n",
       "    </tr>\n",
       "    <tr>\n",
       "      <th>262</th>\n",
       "      <td>Just came back from camping and returned with a new song which gets recorded tomorrow. Can't wait! #Desolation #TheConspiracyTheory #NewEP</td>\n",
       "      <td>1</td>\n",
       "      <td>0</td>\n",
       "      <td>0.19</td>\n",
       "    </tr>\n",
       "    <tr>\n",
       "      <th>274</th>\n",
       "      <td>Crazy Mom Threw Teen Daughter a NUDE Twister Sex Party According To Her Friend50 =&amp;gt;http://t.co/Hy5Pbe12TM http://t.co/c1nJpLi5oR</td>\n",
       "      <td>1</td>\n",
       "      <td>0</td>\n",
       "      <td>0.31</td>\n",
       "    </tr>\n",
       "    <tr>\n",
       "      <th>287</th>\n",
       "      <td>When you go to a concert and someone screams in your ear... Does it look like I wanna loose my hearing anytime soon???</td>\n",
       "      <td>1</td>\n",
       "      <td>0</td>\n",
       "      <td>0.16</td>\n",
       "    </tr>\n",
       "    <tr>\n",
       "      <th>294</th>\n",
       "      <td>Lucas Duda is Ghost Rider. Not the Nic Cage version but an actual 'engulfed in flames' badass. #Mets</td>\n",
       "      <td>1</td>\n",
       "      <td>0</td>\n",
       "      <td>0.06</td>\n",
       "    </tr>\n",
       "    <tr>\n",
       "      <th>296</th>\n",
       "      <td>Would a paramedic really do that? Leave someone inside a building that's about to collapse/blow up? @HalloIkBenWill</td>\n",
       "      <td>1</td>\n",
       "      <td>0</td>\n",
       "      <td>0.21</td>\n",
       "    </tr>\n",
       "    <tr>\n",
       "      <th>306</th>\n",
       "      <td>@Zak_Bagans this is Sabrina my dad rescued her from some dude who kept her in a cage. We've had her since I was 4 http://t.co/1k2PhQcuW8</td>\n",
       "      <td>1</td>\n",
       "      <td>0</td>\n",
       "      <td>0.09</td>\n",
       "    </tr>\n",
       "    <tr>\n",
       "      <th>333</th>\n",
       "      <td>The date for the release of EP03 DESOLATION is set. Stay tuned for more info while we finalise the schedule. #alt #electro #rock #comingsoon</td>\n",
       "      <td>1</td>\n",
       "      <td>0</td>\n",
       "      <td>0.26</td>\n",
       "    </tr>\n",
       "    <tr>\n",
       "      <th>338</th>\n",
       "      <td>I was on my way to Gary but all the Chicago entrances was closed due to a bridge collapsed ?????? I hope they let us through tomorrow</td>\n",
       "      <td>1</td>\n",
       "      <td>0</td>\n",
       "      <td>0.41</td>\n",
       "    </tr>\n",
       "    <tr>\n",
       "      <th>345</th>\n",
       "      <td>How to prepare your #property for a #storm:\\n\\nhttp://t.co/KhYqQsi6My http://t.co/G6Vs3XEinb</td>\n",
       "      <td>1</td>\n",
       "      <td>0</td>\n",
       "      <td>0.24</td>\n",
       "    </tr>\n",
       "    <tr>\n",
       "      <th>352</th>\n",
       "      <td>@reriellechan HE WAS THE LICH KING'S FIRST CASUALTY BLOCK ME BACK I HATE YOU! http://t.co/0Gidg9U45J</td>\n",
       "      <td>1</td>\n",
       "      <td>0</td>\n",
       "      <td>0.09</td>\n",
       "    </tr>\n",
       "    <tr>\n",
       "      <th>361</th>\n",
       "      <td>Next May I'll be free...from school from obligations like family.... Best of all that damn curfew...</td>\n",
       "      <td>1</td>\n",
       "      <td>0</td>\n",
       "      <td>0.08</td>\n",
       "    </tr>\n",
       "    <tr>\n",
       "      <th>364</th>\n",
       "      <td>Hollywood Movie About Trapped Miners Released in Chile: 'The 33' Hollywood movie about trapped miners starring... http://t.co/tyyfG4qQvM</td>\n",
       "      <td>1</td>\n",
       "      <td>0</td>\n",
       "      <td>0.28</td>\n",
       "    </tr>\n",
       "    <tr>\n",
       "      <th>373</th>\n",
       "      <td>Plans by former First Lady and wife of ex-President Goodluck Jonathan Dame Patience Jonathan to hijack the All... http://t.co/HaShGQAFic</td>\n",
       "      <td>1</td>\n",
       "      <td>0</td>\n",
       "      <td>0.15</td>\n",
       "    </tr>\n",
       "    <tr>\n",
       "      <th>376</th>\n",
       "      <td>@SaintRobinho86 someone has to be at the bottom of every league. Tonight clearly demonstrated why the Lions are where they are - sunk!</td>\n",
       "      <td>1</td>\n",
       "      <td>0</td>\n",
       "      <td>0.14</td>\n",
       "    </tr>\n",
       "    <tr>\n",
       "      <th>379</th>\n",
       "      <td>Breakfast links: Work from home: Derailed: An empty train derailed at Smithsonian this morning suspending ser... http://t.co/iD4QGqDnJQ</td>\n",
       "      <td>1</td>\n",
       "      <td>0</td>\n",
       "      <td>0.48</td>\n",
       "    </tr>\n",
       "    <tr>\n",
       "      <th>382</th>\n",
       "      <td>I wanna set some shit on fire.</td>\n",
       "      <td>1</td>\n",
       "      <td>0</td>\n",
       "      <td>0.18</td>\n",
       "    </tr>\n",
       "    <tr>\n",
       "      <th>386</th>\n",
       "      <td>Oops: Bounty hunters try to raid Phoenix police chief's home: http://t.co/yPRJWMigHL -- A group of armed bounty... http://t.co/3RrKRCjYW7</td>\n",
       "      <td>1</td>\n",
       "      <td>0</td>\n",
       "      <td>0.36</td>\n",
       "    </tr>\n",
       "    <tr>\n",
       "      <th>390</th>\n",
       "      <td>@cspanwj If 90BLKs&amp;amp;8WHTs colluded 2 take WHT F @USAgov AUTH Hostage&amp;amp;2 make her look BLK w/Bioterrorism&amp;amp;use her lgl/org IDis ID still hers?</td>\n",
       "      <td>1</td>\n",
       "      <td>0</td>\n",
       "      <td>0.15</td>\n",
       "    </tr>\n",
       "    <tr>\n",
       "      <th>408</th>\n",
       "      <td>@willienelson We need help! Horses will die!Please RT &amp;amp; sign petition!Take a stand &amp;amp; be a voice for them! #gilbert23 https://t.co/e8dl1lNCVu</td>\n",
       "      <td>1</td>\n",
       "      <td>0</td>\n",
       "      <td>0.06</td>\n",
       "    </tr>\n",
       "    <tr>\n",
       "      <th>411</th>\n",
       "      <td>@SoonerMagic_ I mean I'm a fan but I don't need a girl sounding off like a damn siren</td>\n",
       "      <td>1</td>\n",
       "      <td>0</td>\n",
       "      <td>0.05</td>\n",
       "    </tr>\n",
       "    <tr>\n",
       "      <th>434</th>\n",
       "      <td>First time getting into #gbbo2015 and physically gasped at the cake 'mudslide' incident already way too emotionally invested...</td>\n",
       "      <td>1</td>\n",
       "      <td>0</td>\n",
       "      <td>0.28</td>\n",
       "    </tr>\n",
       "    <tr>\n",
       "      <th>435</th>\n",
       "      <td>shit is hard to get over but sometimes the tragedy means it's over soulja..</td>\n",
       "      <td>1</td>\n",
       "      <td>0</td>\n",
       "      <td>0.30</td>\n",
       "    </tr>\n",
       "    <tr>\n",
       "      <th>444</th>\n",
       "      <td>annihilating quarterstaff of annihilation</td>\n",
       "      <td>1</td>\n",
       "      <td>0</td>\n",
       "      <td>0.22</td>\n",
       "    </tr>\n",
       "    <tr>\n",
       "      <th>457</th>\n",
       "      <td>Two hours to get to a client meeting. Whirlwind of emotions with this #tubestrike</td>\n",
       "      <td>1</td>\n",
       "      <td>0</td>\n",
       "      <td>0.19</td>\n",
       "    </tr>\n",
       "    <tr>\n",
       "      <th>463</th>\n",
       "      <td>RT NotExplained: The only known image of infamous hijacker D.B. Cooper. http://t.co/JlzK2HdeTG</td>\n",
       "      <td>1</td>\n",
       "      <td>0</td>\n",
       "      <td>0.35</td>\n",
       "    </tr>\n",
       "    <tr>\n",
       "      <th>466</th>\n",
       "      <td>Can't believe more people in their mid 20's don't have high blood pressure. Life is stressful. #DecisionsOnDecisions</td>\n",
       "      <td>1</td>\n",
       "      <td>0</td>\n",
       "      <td>0.18</td>\n",
       "    </tr>\n",
       "    <tr>\n",
       "      <th>475</th>\n",
       "      <td>China's Stock Market Crash: Are There Gems In The Rubble? http://t.co/BqBLWiw08g #ROIMentor #yycwalks</td>\n",
       "      <td>1</td>\n",
       "      <td>0</td>\n",
       "      <td>0.47</td>\n",
       "    </tr>\n",
       "    <tr>\n",
       "      <th>486</th>\n",
       "      <td>VICTORINOX SWISS ARMY DATE WOMEN'S RUBBER MOP WATCH 241487 http://t.co/yFy3nkkcoH http://t.co/KNEhVvOHVK</td>\n",
       "      <td>1</td>\n",
       "      <td>0</td>\n",
       "      <td>0.07</td>\n",
       "    </tr>\n",
       "    <tr>\n",
       "      <th>492</th>\n",
       "      <td>CDC has a pretty cool list of all bioterrorism agents :3</td>\n",
       "      <td>1</td>\n",
       "      <td>0</td>\n",
       "      <td>0.17</td>\n",
       "    </tr>\n",
       "    <tr>\n",
       "      <th>528</th>\n",
       "      <td>Savings and sewing in Guatemala: Savings and sewing in Guatemala. When a natural disaster hit seamstress Elvia...  http://t.co/jdx9OX2kIk</td>\n",
       "      <td>1</td>\n",
       "      <td>0</td>\n",
       "      <td>0.33</td>\n",
       "    </tr>\n",
       "    <tr>\n",
       "      <th>535</th>\n",
       "      <td>Rand Paul's Debate Strategy 'demolish Some other bad ideas out there or point out maybe that there are some em... http://t.co/qzdqRBr4Lh</td>\n",
       "      <td>1</td>\n",
       "      <td>0</td>\n",
       "      <td>0.08</td>\n",
       "    </tr>\n",
       "    <tr>\n",
       "      <th>536</th>\n",
       "      <td>@DavidVonderhaar At least you were sincere ??</td>\n",
       "      <td>1</td>\n",
       "      <td>0</td>\n",
       "      <td>0.06</td>\n",
       "    </tr>\n",
       "    <tr>\n",
       "      <th>541</th>\n",
       "      <td>@Dirk_NoMissSki yea but if someone faints why are they panicking?.. thats basic stuff ??</td>\n",
       "      <td>1</td>\n",
       "      <td>0</td>\n",
       "      <td>0.46</td>\n",
       "    </tr>\n",
       "    <tr>\n",
       "      <th>545</th>\n",
       "      <td>Julian Knight - @SCVSupremeCourt dismisses mass murderer's attempt to increase prisoner pay. Challenged quantum of 5% increase 2013.</td>\n",
       "      <td>1</td>\n",
       "      <td>0</td>\n",
       "      <td>0.19</td>\n",
       "    </tr>\n",
       "    <tr>\n",
       "      <th>557</th>\n",
       "      <td>#download &amp;amp; #watch Demolition Frog (2002) http://t.co/81nEizeknm #movie</td>\n",
       "      <td>1</td>\n",
       "      <td>0</td>\n",
       "      <td>0.16</td>\n",
       "    </tr>\n",
       "    <tr>\n",
       "      <th>573</th>\n",
       "      <td>#hot  Funtenna: hijacking computers to send data as sound waves [Black Hat 2015] http://t.co/cOMuiOk3mP #prebreak #best</td>\n",
       "      <td>1</td>\n",
       "      <td>0</td>\n",
       "      <td>0.25</td>\n",
       "    </tr>\n",
       "    <tr>\n",
       "      <th>586</th>\n",
       "      <td>World War II book LIGHTNING JOE An Autobiography by General J. Lawton Collins http://t.co/R4khEH7iaf http://t.co/qSZgJfUutu</td>\n",
       "      <td>1</td>\n",
       "      <td>0</td>\n",
       "      <td>0.13</td>\n",
       "    </tr>\n",
       "    <tr>\n",
       "      <th>613</th>\n",
       "      <td>Stupid women nearly collided into me today after she came out of a junction not looking. Still kept coming towards me till I beep my horn</td>\n",
       "      <td>1</td>\n",
       "      <td>0</td>\n",
       "      <td>0.17</td>\n",
       "    </tr>\n",
       "    <tr>\n",
       "      <th>617</th>\n",
       "      <td>#Metepec #Mexico - ?NIGHT DISASTER?...E(Oficial) @ #NitClub #mÌ¼sica #mÌ¼sica http://t.co/WTfJF9jjzs</td>\n",
       "      <td>1</td>\n",
       "      <td>0</td>\n",
       "      <td>0.38</td>\n",
       "    </tr>\n",
       "    <tr>\n",
       "      <th>625</th>\n",
       "      <td>A quarter whirlwind. They don't see it coming.</td>\n",
       "      <td>1</td>\n",
       "      <td>0</td>\n",
       "      <td>0.13</td>\n",
       "    </tr>\n",
       "    <tr>\n",
       "      <th>627</th>\n",
       "      <td>Owner of Chicago-Area Gay Bar Admits to Arson Scheme http://t.co/ZPxE3fMYNG #LGBT</td>\n",
       "      <td>1</td>\n",
       "      <td>0</td>\n",
       "      <td>0.26</td>\n",
       "    </tr>\n",
       "    <tr>\n",
       "      <th>639</th>\n",
       "      <td>suddenly it's off &amp;amp; on gloomy &amp;amp; thunder so loud it shakes the windows? Not ever on the Bay Area. Miss me w/that lol http://t.co/x4eCGGvnSN</td>\n",
       "      <td>1</td>\n",
       "      <td>0</td>\n",
       "      <td>0.20</td>\n",
       "    </tr>\n",
       "    <tr>\n",
       "      <th>641</th>\n",
       "      <td>@DavidJordan88 @Stephanenny Except we don't know who started the riot or if it even makes sense to credit any particular individuals...</td>\n",
       "      <td>1</td>\n",
       "      <td>0</td>\n",
       "      <td>0.40</td>\n",
       "    </tr>\n",
       "    <tr>\n",
       "      <th>659</th>\n",
       "      <td>I moved to England five years ago today. What a whirlwind of time it has been! http://t.co/eaSlGeA1B7</td>\n",
       "      <td>1</td>\n",
       "      <td>0</td>\n",
       "      <td>0.44</td>\n",
       "    </tr>\n",
       "    <tr>\n",
       "      <th>663</th>\n",
       "      <td>@GodOf_Mischief_ -of Loki's daggers she pulled it out and jammed it into Mina's thigh. When Mina screamed and grabbed at her leg sif-</td>\n",
       "      <td>1</td>\n",
       "      <td>0</td>\n",
       "      <td>0.10</td>\n",
       "    </tr>\n",
       "    <tr>\n",
       "      <th>677</th>\n",
       "      <td>133 N past  the 5 L lane is reopened. All other lanes are closed. All lanes are open on the 133 S. Trash truck fire cleanup. @KNX1070</td>\n",
       "      <td>1</td>\n",
       "      <td>0</td>\n",
       "      <td>0.43</td>\n",
       "    </tr>\n",
       "    <tr>\n",
       "      <th>681</th>\n",
       "      <td>'The way you move is like a full on rainstorm and I'm a house of cards'</td>\n",
       "      <td>1</td>\n",
       "      <td>0</td>\n",
       "      <td>0.06</td>\n",
       "    </tr>\n",
       "    <tr>\n",
       "      <th>687</th>\n",
       "      <td>@MichaelWestBiz standard damage control</td>\n",
       "      <td>1</td>\n",
       "      <td>0</td>\n",
       "      <td>0.20</td>\n",
       "    </tr>\n",
       "    <tr>\n",
       "      <th>704</th>\n",
       "      <td>I never knew about the relationship btwn Kansas City Hyatt bridge collapse &amp;amp; AIA's COTE.   http://t.co/ThS9IqSWP3 via @HuffPostArts</td>\n",
       "      <td>1</td>\n",
       "      <td>0</td>\n",
       "      <td>0.39</td>\n",
       "    </tr>\n",
       "    <tr>\n",
       "      <th>706</th>\n",
       "      <td>How is it one careless match can start a forest fire but it takes a whole box to start a campfire?</td>\n",
       "      <td>1</td>\n",
       "      <td>0</td>\n",
       "      <td>0.29</td>\n",
       "    </tr>\n",
       "    <tr>\n",
       "      <th>722</th>\n",
       "      <td>Indeed!! I am fully aware of that battle! I support you in that fight!!  https://t.co/MctJnZX4H8</td>\n",
       "      <td>1</td>\n",
       "      <td>0</td>\n",
       "      <td>0.27</td>\n",
       "    </tr>\n",
       "    <tr>\n",
       "      <th>744</th>\n",
       "      <td>Toddler drowned in bath after mum left room to fetch his pyjamas http://t.co/k9aSKtwXfL</td>\n",
       "      <td>1</td>\n",
       "      <td>0</td>\n",
       "      <td>0.39</td>\n",
       "    </tr>\n",
       "    <tr>\n",
       "      <th>745</th>\n",
       "      <td>#ClimateChange Eyewitness to Extreme Weather: 11 Social Media Posts that Show Just How Crazy Things A... http://t.co/czpDn9oBiT #Anarchy</td>\n",
       "      <td>1</td>\n",
       "      <td>0</td>\n",
       "      <td>0.32</td>\n",
       "    </tr>\n",
       "    <tr>\n",
       "      <th>751</th>\n",
       "      <td>@emmerdale can we have a public vote for the next annual village disaster?  i want an isis strike or a nuclear accident &amp;amp; end this forever</td>\n",
       "      <td>1</td>\n",
       "      <td>0</td>\n",
       "      <td>0.35</td>\n",
       "    </tr>\n",
       "  </tbody>\n",
       "</table>\n",
       "</div>"
      ],
      "text/plain": [
       "                                                                                                                                                       text  \\\n",
       "3                                                                                                      @camilacabello97 Internally and externally screaming   \n",
       "18                                                                  Policyholders object to Clico rescue plan http://t.co/E4DvI9vUXZ http://t.co/JyCpf8iYhg   \n",
       "21                 So I pick myself off the ground and swam before I drowned. Hit the bottom so hard I bounced twice suffice this time around is different.   \n",
       "22               US wont upgrade its infrastructure? http://t.co/NGEHhG9YGa' it a bad situation and its going to get ugly very quickly #USA #sustainability   \n",
       "23                                                                            Ron &amp; Fez - Dave's High School Crush https://t.co/aN3W16c8F6 via @YouTube   \n",
       "30                                                                             Medieval airplane hijacker testa: earnings the distinction divers: HtaRvrGLY   \n",
       "38                                                    Why are you deluged with low self-image? Take the quiz: http://t.co/XsPqdOrIqj http://t.co/CQYvFR4UCy   \n",
       "40                                                                                                      @BoyInAHorsemask its a panda trapped in a dogs body   \n",
       "42                              Nearly had a heart attack just now; loud bang against window next to meÛ_turns out it was two birds flying into the glass.   \n",
       "58       Leitchfield KY:\\n\\n Bella Edward &amp; Rosalie need rescue/adoption/local foster home(s)/sponsorships.\\n\\n Trapped &amp;... http://t.co/Ajay0sNPlg   \n",
       "59             You can never escape me. Bullets don't harm me. Nothing harms me. But I know pain. I know pain. Sometimes I share it. With someone like you.   \n",
       "63                                                                        I Will Survive by Gloria Gaynor (with Oktaviana Devi) ÛÓ https://t.co/HUkJZ1wT36   \n",
       "69                                                                                 Back from Seattle Tacoma and Portland. Whirlwind! http://t.co/qwHINBni8e   \n",
       "75                                DireTube Information ÛÒ Egypt Cyprus and Greece agreed to fightåÊterrorism http://t.co/V6IjxCCD2I http://t.co/YSXhFWMGOD   \n",
       "77                                                     Another fake hate crime Lesbians burn their own house down. What else Is new :http://t.co/66oBQmxImb   \n",
       "110                Yelp Bolsters Health Care Reviews With Investigative Journalism: Sick and injured patients at a local ER are t... http://t.co/E8aEGOFDY2   \n",
       "121                                                       @Habbo bring back games from the past. Snowstorm. Tic tac toe. Battleships. Fast food. Matchwood.   \n",
       "127                        Petition | Heartless owner that whipped horse until it collapsed is told he can KEEP his animal! Act Now! http://t.co/87eFCBIczM   \n",
       "135                         Body shops inundated with cars dented by hail... Good news insurance pays... Bad news :  you are stuck with deductible !\\n#wcvb   \n",
       "143                           When ur friend and u are talking about forest fires in a forest and he tells u to drop ur mix tape out there... #straightfire   \n",
       "145                                       There's a weird siren going off here...I hope Hunterston isn't in the process of blowing itself to smithereens...   \n",
       "171               #World #News Qld police wrap Billy Gordon investigation: QUEENSLAND Police have wrapped up their investigation...  http://t.co/msgnNDxOeK   \n",
       "177                                                                         A Dayton-area org tells me it was hit by a cyber attack: http://t.co/7LhKJz0IVO   \n",
       "192                                            New post from @darkreading http://t.co/8eIJDXApnp New SMB Relay Attack Steals User Credentials Over Internet   \n",
       "197                                                                                      when you don't know which way an ambulance is coming from &lt;&lt;   \n",
       "198                          Perspectives on the Grateful Dead: Critical Writings (Contributions to the Study http://t.co/fmu0fnuMxf http://t.co/AgGRyhVXKr   \n",
       "220            Science Daily: Lightning reshapes rocks at the atomic level - A lightning strike can reshape a mineral's crystal s... http://t.co/TEZLTqeyw2   \n",
       "221                                                                          going to redo my nails and watch behind the scenes of desolation of smaug ayyy   \n",
       "226                 Sadly before she could save humanity Ursula drowned in the drool of a protoshoggoth but at least she sort of died doing what she loved.   \n",
       "231             @dreamoforgonon @TeeEss not to hijack but as a bona fide cislady I can confirm this as true; incidental homosexuality =/= gay/bi for women.   \n",
       "233                                                                                                                         I get to smoke my shit in peace   \n",
       "241                   In Kalmikya Astrakhan Volgagrad and Dagestan there is already no food left for the locusts\\n\\n  http://t.co/79Fw9zWxtP via @TIMEWorld   \n",
       "244                 Reddit Will Now QuarantineÛ_ http://t.co/pkUAMXw6pm #onlinecommunities #reddit #amageddon #freespeech #Business http://t.co/PAWvNJ4sAP   \n",
       "248                                                                                                               Until my death I'll forever rep the Jets.   \n",
       "250                                                                                                                  The ol' meltdown victory for the Mets.   \n",
       "258                                                                                              So this storm just came out of no where. .fuck me its cool   \n",
       "261                                                          If I fall is men GOD @Praiz8 is d bomb well av always known dat since 2008 bigger u I pray sir   \n",
       "262              Just came back from camping and returned with a new song which gets recorded tomorrow. Can't wait! #Desolation #TheConspiracyTheory #NewEP   \n",
       "274                     Crazy Mom Threw Teen Daughter a NUDE Twister Sex Party According To Her Friend50 =&gt;http://t.co/Hy5Pbe12TM http://t.co/c1nJpLi5oR   \n",
       "287                                  When you go to a concert and someone screams in your ear... Does it look like I wanna loose my hearing anytime soon???   \n",
       "294                                                    Lucas Duda is Ghost Rider. Not the Nic Cage version but an actual 'engulfed in flames' badass. #Mets   \n",
       "296                                     Would a paramedic really do that? Leave someone inside a building that's about to collapse/blow up? @HalloIkBenWill   \n",
       "306                @Zak_Bagans this is Sabrina my dad rescued her from some dude who kept her in a cage. We've had her since I was 4 http://t.co/1k2PhQcuW8   \n",
       "333            The date for the release of EP03 DESOLATION is set. Stay tuned for more info while we finalise the schedule. #alt #electro #rock #comingsoon   \n",
       "338                   I was on my way to Gary but all the Chicago entrances was closed due to a bridge collapsed ?????? I hope they let us through tomorrow   \n",
       "345                                                            How to prepare your #property for a #storm:\\n\\nhttp://t.co/KhYqQsi6My http://t.co/G6Vs3XEinb   \n",
       "352                                                    @reriellechan HE WAS THE LICH KING'S FIRST CASUALTY BLOCK ME BACK I HATE YOU! http://t.co/0Gidg9U45J   \n",
       "361                                                    Next May I'll be free...from school from obligations like family.... Best of all that damn curfew...   \n",
       "364                Hollywood Movie About Trapped Miners Released in Chile: 'The 33' Hollywood movie about trapped miners starring... http://t.co/tyyfG4qQvM   \n",
       "373                Plans by former First Lady and wife of ex-President Goodluck Jonathan Dame Patience Jonathan to hijack the All... http://t.co/HaShGQAFic   \n",
       "376                  @SaintRobinho86 someone has to be at the bottom of every league. Tonight clearly demonstrated why the Lions are where they are - sunk!   \n",
       "379                 Breakfast links: Work from home: Derailed: An empty train derailed at Smithsonian this morning suspending ser... http://t.co/iD4QGqDnJQ   \n",
       "382                                                                                                                          I wanna set some shit on fire.   \n",
       "386               Oops: Bounty hunters try to raid Phoenix police chief's home: http://t.co/yPRJWMigHL -- A group of armed bounty... http://t.co/3RrKRCjYW7   \n",
       "390  @cspanwj If 90BLKs&amp;8WHTs colluded 2 take WHT F @USAgov AUTH Hostage&amp;2 make her look BLK w/Bioterrorism&amp;use her lgl/org IDis ID still hers?   \n",
       "408    @willienelson We need help! Horses will die!Please RT &amp; sign petition!Take a stand &amp; be a voice for them! #gilbert23 https://t.co/e8dl1lNCVu   \n",
       "411                                                                   @SoonerMagic_ I mean I'm a fan but I don't need a girl sounding off like a damn siren   \n",
       "434                         First time getting into #gbbo2015 and physically gasped at the cake 'mudslide' incident already way too emotionally invested...   \n",
       "435                                                                             shit is hard to get over but sometimes the tragedy means it's over soulja..   \n",
       "444                                                                                                               annihilating quarterstaff of annihilation   \n",
       "457                                                                       Two hours to get to a client meeting. Whirlwind of emotions with this #tubestrike   \n",
       "463                                                          RT NotExplained: The only known image of infamous hijacker D.B. Cooper. http://t.co/JlzK2HdeTG   \n",
       "466                                    Can't believe more people in their mid 20's don't have high blood pressure. Life is stressful. #DecisionsOnDecisions   \n",
       "475                                                   China's Stock Market Crash: Are There Gems In The Rubble? http://t.co/BqBLWiw08g #ROIMentor #yycwalks   \n",
       "486                                                VICTORINOX SWISS ARMY DATE WOMEN'S RUBBER MOP WATCH 241487 http://t.co/yFy3nkkcoH http://t.co/KNEhVvOHVK   \n",
       "492                                                                                                CDC has a pretty cool list of all bioterrorism agents :3   \n",
       "528               Savings and sewing in Guatemala: Savings and sewing in Guatemala. When a natural disaster hit seamstress Elvia...  http://t.co/jdx9OX2kIk   \n",
       "535                Rand Paul's Debate Strategy 'demolish Some other bad ideas out there or point out maybe that there are some em... http://t.co/qzdqRBr4Lh   \n",
       "536                                                                                                           @DavidVonderhaar At least you were sincere ??   \n",
       "541                                                                @Dirk_NoMissSki yea but if someone faints why are they panicking?.. thats basic stuff ??   \n",
       "545                    Julian Knight - @SCVSupremeCourt dismisses mass murderer's attempt to increase prisoner pay. Challenged quantum of 5% increase 2013.   \n",
       "557                                                                             #download &amp; #watch Demolition Frog (2002) http://t.co/81nEizeknm #movie   \n",
       "573                                 #hot  Funtenna: hijacking computers to send data as sound waves [Black Hat 2015] http://t.co/cOMuiOk3mP #prebreak #best   \n",
       "586                             World War II book LIGHTNING JOE An Autobiography by General J. Lawton Collins http://t.co/R4khEH7iaf http://t.co/qSZgJfUutu   \n",
       "613               Stupid women nearly collided into me today after she came out of a junction not looking. Still kept coming towards me till I beep my horn   \n",
       "617                                                    #Metepec #Mexico - ?NIGHT DISASTER?...E(Oficial) @ #NitClub #mÌ¼sica #mÌ¼sica http://t.co/WTfJF9jjzs   \n",
       "625                                                                                                          A quarter whirlwind. They don't see it coming.   \n",
       "627                                                                       Owner of Chicago-Area Gay Bar Admits to Arson Scheme http://t.co/ZPxE3fMYNG #LGBT   \n",
       "639      suddenly it's off &amp; on gloomy &amp; thunder so loud it shakes the windows? Not ever on the Bay Area. Miss me w/that lol http://t.co/x4eCGGvnSN   \n",
       "641                 @DavidJordan88 @Stephanenny Except we don't know who started the riot or if it even makes sense to credit any particular individuals...   \n",
       "659                                                   I moved to England five years ago today. What a whirlwind of time it has been! http://t.co/eaSlGeA1B7   \n",
       "663                   @GodOf_Mischief_ -of Loki's daggers she pulled it out and jammed it into Mina's thigh. When Mina screamed and grabbed at her leg sif-   \n",
       "677                   133 N past  the 5 L lane is reopened. All other lanes are closed. All lanes are open on the 133 S. Trash truck fire cleanup. @KNX1070   \n",
       "681                                                                                 'The way you move is like a full on rainstorm and I'm a house of cards'   \n",
       "687                                                                                                                 @MichaelWestBiz standard damage control   \n",
       "704                 I never knew about the relationship btwn Kansas City Hyatt bridge collapse &amp; AIA's COTE.   http://t.co/ThS9IqSWP3 via @HuffPostArts   \n",
       "706                                                      How is it one careless match can start a forest fire but it takes a whole box to start a campfire?   \n",
       "722                                                        Indeed!! I am fully aware of that battle! I support you in that fight!!  https://t.co/MctJnZX4H8   \n",
       "744                                                                 Toddler drowned in bath after mum left room to fetch his pyjamas http://t.co/k9aSKtwXfL   \n",
       "745                #ClimateChange Eyewitness to Extreme Weather: 11 Social Media Posts that Show Just How Crazy Things A... http://t.co/czpDn9oBiT #Anarchy   \n",
       "751          @emmerdale can we have a public vote for the next annual village disaster?  i want an isis strike or a nuclear accident &amp; end this forever   \n",
       "\n",
       "     Groud Truth  Predicted Label  Predicted Probabilities  \n",
       "3              1                0                     0.20  \n",
       "18             1                0                     0.34  \n",
       "21             1                0                     0.12  \n",
       "22             1                0                     0.44  \n",
       "23             1                0                     0.03  \n",
       "30             1                0                     0.48  \n",
       "38             1                0                     0.03  \n",
       "40             1                0                     0.10  \n",
       "42             1                0                     0.44  \n",
       "58             1                0                     0.14  \n",
       "59             1                0                     0.06  \n",
       "63             1                0                     0.11  \n",
       "69             1                0                     0.49  \n",
       "75             1                0                     0.43  \n",
       "77             1                0                     0.30  \n",
       "110            1                0                     0.08  \n",
       "121            1                0                     0.14  \n",
       "127            1                0                     0.12  \n",
       "135            1                0                     0.20  \n",
       "143            1                0                     0.40  \n",
       "145            1                0                     0.45  \n",
       "171            1                0                     0.34  \n",
       "177            1                0                     0.48  \n",
       "192            1                0                     0.07  \n",
       "197            1                0                     0.20  \n",
       "198            1                0                     0.08  \n",
       "220            1                0                     0.47  \n",
       "221            1                0                     0.06  \n",
       "226            1                0                     0.26  \n",
       "231            1                0                     0.17  \n",
       "233            1                0                     0.05  \n",
       "241            1                0                     0.26  \n",
       "244            1                0                     0.06  \n",
       "248            1                0                     0.15  \n",
       "250            1                0                     0.13  \n",
       "258            1                0                     0.40  \n",
       "261            1                0                     0.09  \n",
       "262            1                0                     0.19  \n",
       "274            1                0                     0.31  \n",
       "287            1                0                     0.16  \n",
       "294            1                0                     0.06  \n",
       "296            1                0                     0.21  \n",
       "306            1                0                     0.09  \n",
       "333            1                0                     0.26  \n",
       "338            1                0                     0.41  \n",
       "345            1                0                     0.24  \n",
       "352            1                0                     0.09  \n",
       "361            1                0                     0.08  \n",
       "364            1                0                     0.28  \n",
       "373            1                0                     0.15  \n",
       "376            1                0                     0.14  \n",
       "379            1                0                     0.48  \n",
       "382            1                0                     0.18  \n",
       "386            1                0                     0.36  \n",
       "390            1                0                     0.15  \n",
       "408            1                0                     0.06  \n",
       "411            1                0                     0.05  \n",
       "434            1                0                     0.28  \n",
       "435            1                0                     0.30  \n",
       "444            1                0                     0.22  \n",
       "457            1                0                     0.19  \n",
       "463            1                0                     0.35  \n",
       "466            1                0                     0.18  \n",
       "475            1                0                     0.47  \n",
       "486            1                0                     0.07  \n",
       "492            1                0                     0.17  \n",
       "528            1                0                     0.33  \n",
       "535            1                0                     0.08  \n",
       "536            1                0                     0.06  \n",
       "541            1                0                     0.46  \n",
       "545            1                0                     0.19  \n",
       "557            1                0                     0.16  \n",
       "573            1                0                     0.25  \n",
       "586            1                0                     0.13  \n",
       "613            1                0                     0.17  \n",
       "617            1                0                     0.38  \n",
       "625            1                0                     0.13  \n",
       "627            1                0                     0.26  \n",
       "639            1                0                     0.20  \n",
       "641            1                0                     0.40  \n",
       "659            1                0                     0.44  \n",
       "663            1                0                     0.10  \n",
       "677            1                0                     0.43  \n",
       "681            1                0                     0.06  \n",
       "687            1                0                     0.20  \n",
       "704            1                0                     0.39  \n",
       "706            1                0                     0.29  \n",
       "722            1                0                     0.27  \n",
       "744            1                0                     0.39  \n",
       "745            1                0                     0.32  \n",
       "751            1                0                     0.35  "
      ]
     },
     "execution_count": 188,
     "metadata": {},
     "output_type": "execute_result"
    }
   ],
   "source": [
    "# find the false negatives\n",
    "val_df[(val_df[\"Groud Truth\"] == 1) & (val_df[\"Predicted Label\"] == 0)]"
   ]
  },
  {
   "cell_type": "markdown",
   "metadata": {},
   "source": [
    "## Correct Predictions"
   ]
  },
  {
   "cell_type": "code",
   "execution_count": 189,
   "metadata": {},
   "outputs": [
    {
     "data": {
      "text/html": [
       "<div>\n",
       "<style scoped>\n",
       "    .dataframe tbody tr th:only-of-type {\n",
       "        vertical-align: middle;\n",
       "    }\n",
       "\n",
       "    .dataframe tbody tr th {\n",
       "        vertical-align: top;\n",
       "    }\n",
       "\n",
       "    .dataframe thead th {\n",
       "        text-align: right;\n",
       "    }\n",
       "</style>\n",
       "<table border=\"1\" class=\"dataframe\">\n",
       "  <thead>\n",
       "    <tr style=\"text-align: right;\">\n",
       "      <th></th>\n",
       "      <th>text</th>\n",
       "      <th>Groud Truth</th>\n",
       "      <th>Predicted Label</th>\n",
       "      <th>Predicted Probabilities</th>\n",
       "    </tr>\n",
       "  </thead>\n",
       "  <tbody>\n",
       "    <tr>\n",
       "      <th>0</th>\n",
       "      <td>DFR EP016 Monthly Meltdown - On Dnbheaven 2015.08.06 http://t.co/EjKRf8N8A8 #Drum and Bass #heavy #nasty http://t.co/SPHWE6wFI5</td>\n",
       "      <td>0</td>\n",
       "      <td>0</td>\n",
       "      <td>0.21</td>\n",
       "    </tr>\n",
       "    <tr>\n",
       "      <th>2</th>\n",
       "      <td>Gunmen kill four in El Salvador bus attack: Suspected Salvadoran gang members killed four people and wounded s... http://t.co/CNtwB6ScZj</td>\n",
       "      <td>1</td>\n",
       "      <td>1</td>\n",
       "      <td>0.99</td>\n",
       "    </tr>\n",
       "    <tr>\n",
       "      <th>4</th>\n",
       "      <td>Radiation emergency #preparedness starts with knowing to: get inside stay inside and stay tuned http://t.co/RFFPqBAz2F via @CDCgov</td>\n",
       "      <td>1</td>\n",
       "      <td>1</td>\n",
       "      <td>0.69</td>\n",
       "    </tr>\n",
       "    <tr>\n",
       "      <th>5</th>\n",
       "      <td>Investigators rule catastrophic structural failure resulted in 2014 Virg.. Related Articles: http://t.co/Cy1LFeNyV8</td>\n",
       "      <td>1</td>\n",
       "      <td>1</td>\n",
       "      <td>0.75</td>\n",
       "    </tr>\n",
       "    <tr>\n",
       "      <th>6</th>\n",
       "      <td>How the West was burned: Thousands of wildfires ablaze in #California alone http://t.co/iCSjGZ9tE1 #climate #energy http://t.co/9FxmN0l0Bd</td>\n",
       "      <td>1</td>\n",
       "      <td>1</td>\n",
       "      <td>0.98</td>\n",
       "    </tr>\n",
       "    <tr>\n",
       "      <th>7</th>\n",
       "      <td>Map: Typhoon Soudelor's predicted path as it approaches Taiwan; expected to make landfall over southern China by SÛ_ http://t.co/JDVSGVhlIs</td>\n",
       "      <td>1</td>\n",
       "      <td>1</td>\n",
       "      <td>0.98</td>\n",
       "    </tr>\n",
       "    <tr>\n",
       "      <th>8</th>\n",
       "      <td>Ûª93 blasts accused Yeda Yakub dies in Karachi of heart attack http://t.co/mfKqyxd8XG #Mumbai</td>\n",
       "      <td>1</td>\n",
       "      <td>1</td>\n",
       "      <td>0.96</td>\n",
       "    </tr>\n",
       "    <tr>\n",
       "      <th>9</th>\n",
       "      <td>My ears are bleeding  https://t.co/k5KnNwugwT</td>\n",
       "      <td>0</td>\n",
       "      <td>0</td>\n",
       "      <td>0.12</td>\n",
       "    </tr>\n",
       "    <tr>\n",
       "      <th>12</th>\n",
       "      <td>Isai 60:1; Psm 138:8\\n Every conspiracy against my lifting be scattered unto desolation in the name o f Jesus.</td>\n",
       "      <td>0</td>\n",
       "      <td>0</td>\n",
       "      <td>0.18</td>\n",
       "    </tr>\n",
       "    <tr>\n",
       "      <th>13</th>\n",
       "      <td>k_matako_bot: Breaking news! Unconfirmed! I just heard a loud bang nearby. in what appears to be a blast of wind from my neighbour's ass.</td>\n",
       "      <td>0</td>\n",
       "      <td>0</td>\n",
       "      <td>0.41</td>\n",
       "    </tr>\n",
       "  </tbody>\n",
       "</table>\n",
       "</div>"
      ],
      "text/plain": [
       "                                                                                                                                            text  \\\n",
       "0                DFR EP016 Monthly Meltdown - On Dnbheaven 2015.08.06 http://t.co/EjKRf8N8A8 #Drum and Bass #heavy #nasty http://t.co/SPHWE6wFI5   \n",
       "2       Gunmen kill four in El Salvador bus attack: Suspected Salvadoran gang members killed four people and wounded s... http://t.co/CNtwB6ScZj   \n",
       "4             Radiation emergency #preparedness starts with knowing to: get inside stay inside and stay tuned http://t.co/RFFPqBAz2F via @CDCgov   \n",
       "5                            Investigators rule catastrophic structural failure resulted in 2014 Virg.. Related Articles: http://t.co/Cy1LFeNyV8   \n",
       "6     How the West was burned: Thousands of wildfires ablaze in #California alone http://t.co/iCSjGZ9tE1 #climate #energy http://t.co/9FxmN0l0Bd   \n",
       "7   Map: Typhoon Soudelor's predicted path as it approaches Taiwan; expected to make landfall over southern China by SÛ_ http://t.co/JDVSGVhlIs   \n",
       "8                                                 Ûª93 blasts accused Yeda Yakub dies in Karachi of heart attack http://t.co/mfKqyxd8XG #Mumbai   \n",
       "9                                                                                                  My ears are bleeding  https://t.co/k5KnNwugwT   \n",
       "12                                Isai 60:1; Psm 138:8\\n Every conspiracy against my lifting be scattered unto desolation in the name o f Jesus.   \n",
       "13     k_matako_bot: Breaking news! Unconfirmed! I just heard a loud bang nearby. in what appears to be a blast of wind from my neighbour's ass.   \n",
       "\n",
       "    Groud Truth  Predicted Label  Predicted Probabilities  \n",
       "0             0                0                     0.21  \n",
       "2             1                1                     0.99  \n",
       "4             1                1                     0.69  \n",
       "5             1                1                     0.75  \n",
       "6             1                1                     0.98  \n",
       "7             1                1                     0.98  \n",
       "8             1                1                     0.96  \n",
       "9             0                0                     0.12  \n",
       "12            0                0                     0.18  \n",
       "13            0                0                     0.41  "
      ]
     },
     "execution_count": 189,
     "metadata": {},
     "output_type": "execute_result"
    }
   ],
   "source": [
    "# first 10 of the correct predictions\n",
    "val_df[(val_df[\"Groud Truth\"] == val_df[\"Predicted Label\"])][:10]"
   ]
  },
  {
   "cell_type": "markdown",
   "metadata": {},
   "source": [
    "# Time taken to responde"
   ]
  },
  {
   "cell_type": "code",
   "execution_count": 206,
   "metadata": {},
   "outputs": [
    {
     "data": {
      "text/plain": [
       "0.1778560180000568"
      ]
     },
     "execution_count": 206,
     "metadata": {},
     "output_type": "execute_result"
    }
   ],
   "source": [
    "# create a funciton to caluclate time per prediction\n",
    "import time\n",
    "def pred_timer(model, samples):\n",
    "    \"\"\"\n",
    "    Times how long a model takes to make predictions on samples.\n",
    "    \"\"\"\n",
    "    start_time = time.perf_counter() # get start time\n",
    "    model.predict(samples) # make predictions\n",
    "    end_time = time.perf_counter() # get finish time\n",
    "    total_time = end_time - start_time # calculate how long predictions took to make\n",
    "    time_per_pred = total_time / len(val_sentences) # find prediction time per sample\n",
    "    return total_time\n",
    "\n",
    "# calculate TF Hub Sentence Encoder time per pred\n",
    "model_6_total_pred_time = pred_timer(model_6, val_sentences)\n",
    "model_6_total_pred_time\n"
   ]
  },
  {
   "cell_type": "code",
   "execution_count": 210,
   "metadata": {},
   "outputs": [
    {
     "data": {
      "text/html": [
       "<div>\n",
       "<style scoped>\n",
       "    .dataframe tbody tr th:only-of-type {\n",
       "        vertical-align: middle;\n",
       "    }\n",
       "\n",
       "    .dataframe tbody tr th {\n",
       "        vertical-align: top;\n",
       "    }\n",
       "\n",
       "    .dataframe thead th {\n",
       "        text-align: right;\n",
       "    }\n",
       "</style>\n",
       "<table border=\"1\" class=\"dataframe\">\n",
       "  <thead>\n",
       "    <tr style=\"text-align: right;\">\n",
       "      <th></th>\n",
       "      <th>accuracy</th>\n",
       "      <th>precision</th>\n",
       "      <th>recall</th>\n",
       "      <th>f1</th>\n",
       "      <th>total prediction time</th>\n",
       "    </tr>\n",
       "  </thead>\n",
       "  <tbody>\n",
       "    <tr>\n",
       "      <th>baseline</th>\n",
       "      <td>79.27</td>\n",
       "      <td>81.11</td>\n",
       "      <td>79.27</td>\n",
       "      <td>78.62</td>\n",
       "      <td>0.020755</td>\n",
       "    </tr>\n",
       "    <tr>\n",
       "      <th>model_5_Conv1D</th>\n",
       "      <td>76.12</td>\n",
       "      <td>76.36</td>\n",
       "      <td>76.12</td>\n",
       "      <td>75.84</td>\n",
       "      <td>0.094225</td>\n",
       "    </tr>\n",
       "    <tr>\n",
       "      <th>model_1_dense</th>\n",
       "      <td>75.98</td>\n",
       "      <td>76.27</td>\n",
       "      <td>75.98</td>\n",
       "      <td>75.69</td>\n",
       "      <td>0.110272</td>\n",
       "    </tr>\n",
       "    <tr>\n",
       "      <th>model_3_GRU</th>\n",
       "      <td>76.77</td>\n",
       "      <td>76.75</td>\n",
       "      <td>76.77</td>\n",
       "      <td>76.68</td>\n",
       "      <td>0.123438</td>\n",
       "    </tr>\n",
       "    <tr>\n",
       "      <th>model_4_bidirectional_LSTM</th>\n",
       "      <td>75.59</td>\n",
       "      <td>76.02</td>\n",
       "      <td>75.59</td>\n",
       "      <td>75.21</td>\n",
       "      <td>0.148031</td>\n",
       "    </tr>\n",
       "    <tr>\n",
       "      <th>model_7_TB_HUB_10_percent</th>\n",
       "      <td>79.22</td>\n",
       "      <td>80.56</td>\n",
       "      <td>79.22</td>\n",
       "      <td>79.41</td>\n",
       "      <td>0.152045</td>\n",
       "    </tr>\n",
       "    <tr>\n",
       "      <th>model_2_LSTM</th>\n",
       "      <td>75.46</td>\n",
       "      <td>75.41</td>\n",
       "      <td>75.46</td>\n",
       "      <td>75.40</td>\n",
       "      <td>0.158084</td>\n",
       "    </tr>\n",
       "    <tr>\n",
       "      <th>model_6_TB_HUB</th>\n",
       "      <td>81.76</td>\n",
       "      <td>81.99</td>\n",
       "      <td>81.76</td>\n",
       "      <td>81.61</td>\n",
       "      <td>0.176718</td>\n",
       "    </tr>\n",
       "  </tbody>\n",
       "</table>\n",
       "</div>"
      ],
      "text/plain": [
       "                            accuracy  precision  recall     f1  \\\n",
       "baseline                       79.27      81.11   79.27  78.62   \n",
       "model_5_Conv1D                 76.12      76.36   76.12  75.84   \n",
       "model_1_dense                  75.98      76.27   75.98  75.69   \n",
       "model_3_GRU                    76.77      76.75   76.77  76.68   \n",
       "model_4_bidirectional_LSTM     75.59      76.02   75.59  75.21   \n",
       "model_7_TB_HUB_10_percent      79.22      80.56   79.22  79.41   \n",
       "model_2_LSTM                   75.46      75.41   75.46  75.40   \n",
       "model_6_TB_HUB                 81.76      81.99   81.76  81.61   \n",
       "\n",
       "                            total prediction time  \n",
       "baseline                                 0.020755  \n",
       "model_5_Conv1D                           0.094225  \n",
       "model_1_dense                            0.110272  \n",
       "model_3_GRU                              0.123438  \n",
       "model_4_bidirectional_LSTM               0.148031  \n",
       "model_7_TB_HUB_10_percent                0.152045  \n",
       "model_2_LSTM                             0.158084  \n",
       "model_6_TB_HUB                           0.176718  "
      ]
     },
     "execution_count": 210,
     "metadata": {},
     "output_type": "execute_result"
    }
   ],
   "source": [
    "# calculate model_0, model_1, model_2, model_3, model_4, model_5, model_7 time per pred and add a new column to all_model_results dataframe\n",
    "all_model_results[\"total prediction time\"] = [pred_timer(model_0, val_sentences),\n",
    "                                                pred_timer(model_1, val_sentences),\n",
    "                                                pred_timer(model_2, val_sentences),\n",
    "                                                pred_timer(model_3, val_sentences),\n",
    "                                                pred_timer(model_4, val_sentences),\n",
    "                                                pred_timer(model_5, val_sentences),\n",
    "                                                pred_timer(model_6, val_sentences),\n",
    "                                                pred_timer(model_7, val_sentences)]\n",
    "\n",
    "# sort the dataframe by total prediction time\n",
    "all_model_results_time_sorted = all_model_results.sort_values(by=\"total prediction time\")\n",
    "all_model_results_time_sorted"
   ]
  },
  {
   "cell_type": "code",
   "execution_count": 212,
   "metadata": {},
   "outputs": [
    {
     "data": {
      "image/png": "[encoded data removed]",
      "text/plain": [
       "<Figure size 1000x700 with 1 Axes>"
      ]
     },
     "metadata": {},
     "output_type": "display_data"
    }
   ],
   "source": [
    "# plot a scatter plot of model prediction times versus f1-score\n",
    "plt.figure(figsize=(10, 7))\n",
    "plt.scatter(all_model_results_time_sorted[\"total prediction time\"], all_model_results_time_sorted[\"f1\"])\n",
    "plt.xlabel(\"Total prediction time\")\n",
    "plt.ylabel(\"F1-score\")\n",
    "plt.title(\"F1-score vs Total prediction time for each model\")\n",
    "plt.show()"
   ]
  },
  {
   "cell_type": "markdown",
   "metadata": {},
   "source": [
    "# Make submission"
   ]
  },
  {
   "cell_type": "code",
   "execution_count": 213,
   "metadata": {},
   "outputs": [
    {
     "data": {
      "text/plain": [
       "array(['Just happened a terrible car crash',\n",
       "       'Heard about #earthquake is different cities, stay safe everyone.',\n",
       "       'there is a forest fire at spot pond, geese are fleeing across the street, I cannot save them all',\n",
       "       'Apocalypse lighting. #Spokane #wildfires',\n",
       "       'Typhoon Soudelor kills 28 in China and Taiwan',\n",
       "       \"We're shaking...It's an earthquake\",\n",
       "       \"They'd probably still show more life than Arsenal did yesterday, eh? EH?\",\n",
       "       'Hey! How are you?', 'What a nice hat?', 'Fuck off!'], dtype=object)"
      ]
     },
     "execution_count": 213,
     "metadata": {},
     "output_type": "execute_result"
    }
   ],
   "source": [
    "# get predicitons of test sentences\n",
    "test_sentences = df_test[\"text\"].to_numpy()\n",
    "test_sentences[:10]"
   ]
  },
  {
   "cell_type": "code",
   "execution_count": 218,
   "metadata": {},
   "outputs": [
    {
     "data": {
      "text/plain": [
       "array([1, 1, 1, 1, 1, 1, 0, 0, 0, 0])"
      ]
     },
     "execution_count": 218,
     "metadata": {},
     "output_type": "execute_result"
    }
   ],
   "source": [
    "# make predictions on test sentences using model_6\n",
    "test_pred_probs = model_6.predict(test_sentences)\n",
    "test_preds = tf.squeeze(tf.round(test_pred_probs))\n",
    "\n",
    "# convert test_preds to integers\n",
    "test_preds = test_preds.numpy().astype(int)\n",
    "test_preds[:10]\n"
   ]
  },
  {
   "cell_type": "code",
   "execution_count": 224,
   "metadata": {},
   "outputs": [],
   "source": [
    "submission = pd.DataFrame({\n",
    "    \"id\": df_test[\"id\"],\n",
    "    \"target\": test_preds\n",
    "})\n",
    "\n",
    "submission.to_csv('submission.csv', index=False, header=True)"
   ]
  },
  {
   "cell_type": "code",
   "execution_count": null,
   "metadata": {},
   "outputs": [],
   "source": []
  }
 ],
 "metadata": {
  "kernelspec": {
   "display_name": "tensorflow-certification",
   "language": "python",
   "name": "python3"
  },
  "language_info": {
   "codemirror_mode": {
    "name": "ipython",
    "version": 3
   },
   "file_extension": ".py",
   "mimetype": "text/x-python",
   "name": "python",
   "nbconvert_exporter": "python",
   "pygments_lexer": "ipython3",
   "version": "3.8.8"
  },
  "orig_nbformat": 4
 },
 "nbformat": 4,
 "nbformat_minor": 2
}

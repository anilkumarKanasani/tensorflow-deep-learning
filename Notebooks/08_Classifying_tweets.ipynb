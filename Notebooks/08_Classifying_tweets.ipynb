{
 "cells": [
  {
   "cell_type": "markdown",
   "metadata": {},
   "source": [
    "## Get data"
   ]
  },
  {
   "cell_type": "code",
   "execution_count": 142,
   "metadata": {},
   "outputs": [],
   "source": [
    "# Only use full for Google colab\n",
    "#!wget https://storage.googleapis.com/ztm_tf_course/nlp_getting_started.zip\n"
   ]
  },
  {
   "cell_type": "markdown",
   "metadata": {},
   "source": [
    "## Explore Data"
   ]
  },
  {
   "cell_type": "code",
   "execution_count": 143,
   "metadata": {},
   "outputs": [
    {
     "data": {
      "text/html": [
       "<div>\n",
       "<style scoped>\n",
       "    .dataframe tbody tr th:only-of-type {\n",
       "        vertical-align: middle;\n",
       "    }\n",
       "\n",
       "    .dataframe tbody tr th {\n",
       "        vertical-align: top;\n",
       "    }\n",
       "\n",
       "    .dataframe thead th {\n",
       "        text-align: right;\n",
       "    }\n",
       "</style>\n",
       "<table border=\"1\" class=\"dataframe\">\n",
       "  <thead>\n",
       "    <tr style=\"text-align: right;\">\n",
       "      <th></th>\n",
       "      <th>id</th>\n",
       "      <th>keyword</th>\n",
       "      <th>location</th>\n",
       "      <th>text</th>\n",
       "      <th>target</th>\n",
       "    </tr>\n",
       "  </thead>\n",
       "  <tbody>\n",
       "    <tr>\n",
       "      <th>0</th>\n",
       "      <td>1</td>\n",
       "      <td>NaN</td>\n",
       "      <td>NaN</td>\n",
       "      <td>Our Deeds are the Reason of this #earthquake M...</td>\n",
       "      <td>1</td>\n",
       "    </tr>\n",
       "    <tr>\n",
       "      <th>1</th>\n",
       "      <td>4</td>\n",
       "      <td>NaN</td>\n",
       "      <td>NaN</td>\n",
       "      <td>Forest fire near La Ronge Sask. Canada</td>\n",
       "      <td>1</td>\n",
       "    </tr>\n",
       "    <tr>\n",
       "      <th>2</th>\n",
       "      <td>5</td>\n",
       "      <td>NaN</td>\n",
       "      <td>NaN</td>\n",
       "      <td>All residents asked to 'shelter in place' are ...</td>\n",
       "      <td>1</td>\n",
       "    </tr>\n",
       "    <tr>\n",
       "      <th>3</th>\n",
       "      <td>6</td>\n",
       "      <td>NaN</td>\n",
       "      <td>NaN</td>\n",
       "      <td>13,000 people receive #wildfires evacuation or...</td>\n",
       "      <td>1</td>\n",
       "    </tr>\n",
       "    <tr>\n",
       "      <th>4</th>\n",
       "      <td>7</td>\n",
       "      <td>NaN</td>\n",
       "      <td>NaN</td>\n",
       "      <td>Just got sent this photo from Ruby #Alaska as ...</td>\n",
       "      <td>1</td>\n",
       "    </tr>\n",
       "  </tbody>\n",
       "</table>\n",
       "</div>"
      ],
      "text/plain": [
       "   id keyword location                                               text  \\\n",
       "0   1     NaN      NaN  Our Deeds are the Reason of this #earthquake M...   \n",
       "1   4     NaN      NaN             Forest fire near La Ronge Sask. Canada   \n",
       "2   5     NaN      NaN  All residents asked to 'shelter in place' are ...   \n",
       "3   6     NaN      NaN  13,000 people receive #wildfires evacuation or...   \n",
       "4   7     NaN      NaN  Just got sent this photo from Ruby #Alaska as ...   \n",
       "\n",
       "   target  \n",
       "0       1  \n",
       "1       1  \n",
       "2       1  \n",
       "3       1  \n",
       "4       1  "
      ]
     },
     "execution_count": 143,
     "metadata": {},
     "output_type": "execute_result"
    }
   ],
   "source": [
    "import pandas as pd\n",
    "df_train = pd.read_csv(\"../data/nlp_getting_started/train.csv\")\n",
    "df_test = pd.read_csv(\"../data/nlp_getting_started/test.csv\")\n",
    "df_train.head()"
   ]
  },
  {
   "cell_type": "code",
   "execution_count": 144,
   "metadata": {},
   "outputs": [
    {
     "data": {
      "text/html": [
       "<div>\n",
       "<style scoped>\n",
       "    .dataframe tbody tr th:only-of-type {\n",
       "        vertical-align: middle;\n",
       "    }\n",
       "\n",
       "    .dataframe tbody tr th {\n",
       "        vertical-align: top;\n",
       "    }\n",
       "\n",
       "    .dataframe thead th {\n",
       "        text-align: right;\n",
       "    }\n",
       "</style>\n",
       "<table border=\"1\" class=\"dataframe\">\n",
       "  <thead>\n",
       "    <tr style=\"text-align: right;\">\n",
       "      <th></th>\n",
       "      <th>id</th>\n",
       "      <th>keyword</th>\n",
       "      <th>location</th>\n",
       "      <th>text</th>\n",
       "    </tr>\n",
       "  </thead>\n",
       "  <tbody>\n",
       "    <tr>\n",
       "      <th>0</th>\n",
       "      <td>0</td>\n",
       "      <td>NaN</td>\n",
       "      <td>NaN</td>\n",
       "      <td>Just happened a terrible car crash</td>\n",
       "    </tr>\n",
       "    <tr>\n",
       "      <th>1</th>\n",
       "      <td>2</td>\n",
       "      <td>NaN</td>\n",
       "      <td>NaN</td>\n",
       "      <td>Heard about #earthquake is different cities, s...</td>\n",
       "    </tr>\n",
       "    <tr>\n",
       "      <th>2</th>\n",
       "      <td>3</td>\n",
       "      <td>NaN</td>\n",
       "      <td>NaN</td>\n",
       "      <td>there is a forest fire at spot pond, geese are...</td>\n",
       "    </tr>\n",
       "    <tr>\n",
       "      <th>3</th>\n",
       "      <td>9</td>\n",
       "      <td>NaN</td>\n",
       "      <td>NaN</td>\n",
       "      <td>Apocalypse lighting. #Spokane #wildfires</td>\n",
       "    </tr>\n",
       "    <tr>\n",
       "      <th>4</th>\n",
       "      <td>11</td>\n",
       "      <td>NaN</td>\n",
       "      <td>NaN</td>\n",
       "      <td>Typhoon Soudelor kills 28 in China and Taiwan</td>\n",
       "    </tr>\n",
       "  </tbody>\n",
       "</table>\n",
       "</div>"
      ],
      "text/plain": [
       "   id keyword location                                               text\n",
       "0   0     NaN      NaN                 Just happened a terrible car crash\n",
       "1   2     NaN      NaN  Heard about #earthquake is different cities, s...\n",
       "2   3     NaN      NaN  there is a forest fire at spot pond, geese are...\n",
       "3   9     NaN      NaN           Apocalypse lighting. #Spokane #wildfires\n",
       "4  11     NaN      NaN      Typhoon Soudelor kills 28 in China and Taiwan"
      ]
     },
     "execution_count": 144,
     "metadata": {},
     "output_type": "execute_result"
    }
   ],
   "source": [
    "df_test.head()"
   ]
  },
  {
   "cell_type": "code",
   "execution_count": 145,
   "metadata": {},
   "outputs": [
    {
     "name": "stdout",
     "output_type": "stream",
     "text": [
      "Percentage of samples in training set: 70.00%\n",
      "Percentage of samples in test set: 30.00%\n"
     ]
    }
   ],
   "source": [
    "# percentage of samples in training and test set\n",
    "print(f\"Percentage of samples in training set: {len(df_train)/(len(df_train)+len(df_test))*100:.2f}%\")\n",
    "print(f\"Percentage of samples in test set: {len(df_test)/(len(df_train)+len(df_test))*100:.2f}%\")"
   ]
  },
  {
   "cell_type": "code",
   "execution_count": 146,
   "metadata": {},
   "outputs": [
    {
     "data": {
      "text/html": [
       "<div>\n",
       "<style scoped>\n",
       "    .dataframe tbody tr th:only-of-type {\n",
       "        vertical-align: middle;\n",
       "    }\n",
       "\n",
       "    .dataframe tbody tr th {\n",
       "        vertical-align: top;\n",
       "    }\n",
       "\n",
       "    .dataframe thead th {\n",
       "        text-align: right;\n",
       "    }\n",
       "</style>\n",
       "<table border=\"1\" class=\"dataframe\">\n",
       "  <thead>\n",
       "    <tr style=\"text-align: right;\">\n",
       "      <th></th>\n",
       "      <th>id</th>\n",
       "      <th>keyword</th>\n",
       "      <th>location</th>\n",
       "      <th>text</th>\n",
       "      <th>target</th>\n",
       "    </tr>\n",
       "  </thead>\n",
       "  <tbody>\n",
       "    <tr>\n",
       "      <th>2644</th>\n",
       "      <td>3796</td>\n",
       "      <td>destruction</td>\n",
       "      <td>NaN</td>\n",
       "      <td>So you have a new weapon that can cause un-ima...</td>\n",
       "      <td>1</td>\n",
       "    </tr>\n",
       "    <tr>\n",
       "      <th>2227</th>\n",
       "      <td>3185</td>\n",
       "      <td>deluge</td>\n",
       "      <td>NaN</td>\n",
       "      <td>The f$&amp;amp;@ing things I do for #GISHWHES Just...</td>\n",
       "      <td>0</td>\n",
       "    </tr>\n",
       "    <tr>\n",
       "      <th>5448</th>\n",
       "      <td>7769</td>\n",
       "      <td>police</td>\n",
       "      <td>UK</td>\n",
       "      <td>DT @georgegalloway: RT @Galloway4Mayor: ÛÏThe...</td>\n",
       "      <td>1</td>\n",
       "    </tr>\n",
       "    <tr>\n",
       "      <th>132</th>\n",
       "      <td>191</td>\n",
       "      <td>aftershock</td>\n",
       "      <td>NaN</td>\n",
       "      <td>Aftershock back to school kick off was great. ...</td>\n",
       "      <td>0</td>\n",
       "    </tr>\n",
       "    <tr>\n",
       "      <th>6845</th>\n",
       "      <td>9810</td>\n",
       "      <td>trauma</td>\n",
       "      <td>Montgomery County, MD</td>\n",
       "      <td>in response to trauma Children of Addicts deve...</td>\n",
       "      <td>0</td>\n",
       "    </tr>\n",
       "  </tbody>\n",
       "</table>\n",
       "</div>"
      ],
      "text/plain": [
       "        id      keyword               location  \\\n",
       "2644  3796  destruction                    NaN   \n",
       "2227  3185       deluge                    NaN   \n",
       "5448  7769       police                     UK   \n",
       "132    191   aftershock                    NaN   \n",
       "6845  9810       trauma  Montgomery County, MD   \n",
       "\n",
       "                                                   text  target  \n",
       "2644  So you have a new weapon that can cause un-ima...       1  \n",
       "2227  The f$&amp;@ing things I do for #GISHWHES Just...       0  \n",
       "5448  DT @georgegalloway: RT @Galloway4Mayor: ÛÏThe...       1  \n",
       "132   Aftershock back to school kick off was great. ...       0  \n",
       "6845  in response to trauma Children of Addicts deve...       0  "
      ]
     },
     "execution_count": 146,
     "metadata": {},
     "output_type": "execute_result"
    }
   ],
   "source": [
    "# Shuffle training dataframe\n",
    "df_train_shuffled = df_train.sample(frac=1, random_state=42)\n",
    "df_train_shuffled.head()"
   ]
  },
  {
   "cell_type": "code",
   "execution_count": 147,
   "metadata": {},
   "outputs": [
    {
     "name": "stdout",
     "output_type": "stream",
     "text": [
      "0    4342\n",
      "1    3271\n",
      "Name: target, dtype: int64\n",
      "percentage of disaster tweets :  42.97 %\n",
      "percentage of non - disaster tweets :  57.03 %\n"
     ]
    }
   ],
   "source": [
    "# unique labels and their counts\n",
    "print(df_train_shuffled[\"target\"].value_counts())\n",
    "\n",
    "# what is the percentage of disaster tweets\n",
    "print(\"percentage of disaster tweets : \", round(len(df_train_shuffled[df_train_shuffled[\"target\"] == 1]) / len(df_train_shuffled) * 100, 2), \"%\")\n",
    "\n",
    "# what is the percentage of non-disaster tweets\n",
    "print(\"percentage of non - disaster tweets : \", round(len(df_train_shuffled[df_train_shuffled[\"target\"] == 0]) / len(df_train_shuffled) * 100, 2), \"%\")\n"
   ]
  },
  {
   "cell_type": "code",
   "execution_count": 148,
   "metadata": {},
   "outputs": [
    {
     "data": {
      "text/plain": [
       "(7613, 3263)"
      ]
     },
     "execution_count": 148,
     "metadata": {},
     "output_type": "execute_result"
    }
   ],
   "source": [
    "# count of samples in each split\n",
    "len(df_train_shuffled), len(df_test)"
   ]
  },
  {
   "cell_type": "code",
   "execution_count": 149,
   "metadata": {},
   "outputs": [
    {
     "name": "stdout",
     "output_type": "stream",
     "text": [
      "Target: 1 (real disaster)\n",
      "Text:\n",
      "LLF TALK  WORLD NEWS U.S. in record hurricane drought - The United States hasn't been hit by a major hurricane in ... http://t.co/ML8IrhWg7O\n",
      "\n",
      "---\n",
      "\n",
      "Target: 0 (not real disaster)\n",
      "Text:\n",
      "USW: 'The damage from abandoning the deal could well create a new level of uncertainty...economic upheaval &amp; military unrest'\n",
      "\n",
      "---\n",
      "\n",
      "Target: 0 (not real disaster)\n",
      "Text:\n",
      "I blew up snapchat for no reason ??\n",
      "\n",
      "---\n",
      "\n",
      "Target: 0 (not real disaster)\n",
      "Text:\n",
      "If the Taken movies took place in India 2 (Vine by @JusReign) https://t.co/hxM8C8e33D\n",
      "\n",
      "---\n",
      "\n",
      "Target: 0 (not real disaster)\n",
      "Text:\n",
      "@noahshack he's hot &amp; he can sing I'm screaming??????\n",
      "\n",
      "---\n",
      "\n"
     ]
    }
   ],
   "source": [
    "# Visualize random training examples\n",
    "import random\n",
    "random_index = random.randint(0, len(df_train_shuffled) - 5) # create random indexes not exceeding length of dataframe\n",
    "for row in df_train_shuffled[[\"text\", \"target\"]][random_index:random_index+5].itertuples():\n",
    "    _,current_text, current_target = row\n",
    "    print(f\"Target: {current_target}\", \"(real disaster)\" if current_target > 0 else \"(not real disaster)\")\n",
    "    print(f\"Text:\\n{current_text}\\n\")\n",
    "    print(\"---\\n\")"
   ]
  },
  {
   "cell_type": "markdown",
   "metadata": {},
   "source": [
    "## split the data"
   ]
  },
  {
   "cell_type": "code",
   "execution_count": 150,
   "metadata": {},
   "outputs": [
    {
     "data": {
      "text/plain": [
       "(6851, 6851, 762, 762)"
      ]
     },
     "execution_count": 150,
     "metadata": {},
     "output_type": "execute_result"
    }
   ],
   "source": [
    "# split data into training and validation sets\n",
    "from sklearn.model_selection import train_test_split\n",
    "train_sentences, val_sentences, train_labels, val_labels = train_test_split(df_train_shuffled[\"text\"].to_numpy(),\n",
    "                                                                            df_train_shuffled[\"target\"].to_numpy(),\n",
    "                                                                            test_size=0.1, # use 10% of training data for validation split\n",
    "                                                                            random_state=42)\n",
    "\n",
    "# check the number of samples in training and validation sets\n",
    "len(train_sentences), len(train_labels), len(val_sentences), len(val_labels)"
   ]
  },
  {
   "cell_type": "code",
   "execution_count": 151,
   "metadata": {},
   "outputs": [
    {
     "name": "stdout",
     "output_type": "stream",
     "text": [
      "percentage of disaster tweets in training set :  42.67 %\n",
      "percentage of non-disaster tweets in training set :  57.33 %\n",
      "percentage of disaster tweets in validation set :  45.67 %\n",
      "percentage of non-disaster tweets in validation set :  54.33 %\n"
     ]
    }
   ],
   "source": [
    "# check the percentage of disaster and non-disaster tweets in training and validation sets\n",
    "print(\"percentage of disaster tweets in training set : \", round(len(train_labels[train_labels == 1]) / len(train_labels) * 100, 2), \"%\")\n",
    "print(\"percentage of non-disaster tweets in training set : \", round(len(train_labels[train_labels == 0]) / len(train_labels) * 100, 2), \"%\")\n",
    "print(\"percentage of disaster tweets in validation set : \", round(len(val_labels[val_labels == 1]) / len(val_labels) * 100, 2), \"%\")\n",
    "print(\"percentage of non-disaster tweets in validation set : \", round(len(val_labels[val_labels == 0]) / len(val_labels) * 100, 2), \"%\")"
   ]
  },
  {
   "cell_type": "code",
   "execution_count": 152,
   "metadata": {},
   "outputs": [
    {
     "data": {
      "text/plain": [
       "(array(['@mogacola @zamtriossu i screamed after hitting tweet',\n",
       "        'Imagine getting flattened by Kurt Zouma',\n",
       "        '@Gurmeetramrahim #MSGDoing111WelfareWorks Green S welfare force ke appx 65000 members har time disaster victim ki help ke liye tyar hai....',\n",
       "        \"@shakjn @C7 @Magnums im shaking in fear he's gonna hack the planet\",\n",
       "        'Somehow find you and I collide http://t.co/Ee8RpOahPk',\n",
       "        '@EvaHanderek @MarleyKnysh great times until the bus driver held us hostage in the mall parking lot lmfao',\n",
       "        'destroy the free fandom honestly',\n",
       "        'Weapons stolen from National Guard Armory in New Albany still missing #Gunsense http://t.co/lKNU8902JE',\n",
       "        '@wfaaweather Pete when will the heat wave pass? Is it really going to be mid month? Frisco Boy Scouts have a canoe trip in Okla.',\n",
       "        'Patient-reported outcomes in long-term survivors of metastatic colorectal cancer - British Journal of Surgery http://t.co/5Yl4DC1Tqt'],\n",
       "       dtype=object),\n",
       " array([0, 0, 1, 0, 0, 1, 1, 0, 1, 1]))"
      ]
     },
     "execution_count": 152,
     "metadata": {},
     "output_type": "execute_result"
    }
   ],
   "source": [
    "# check the first 10 samples in training sentences and labels\n",
    "train_sentences[:10], train_labels[:10]"
   ]
  },
  {
   "cell_type": "code",
   "execution_count": 153,
   "metadata": {},
   "outputs": [
    {
     "data": {
      "text/plain": [
       "(array(['DFR EP016 Monthly Meltdown - On Dnbheaven 2015.08.06 http://t.co/EjKRf8N8A8 #Drum and Bass #heavy #nasty http://t.co/SPHWE6wFI5',\n",
       "        'FedEx no longer to transport bioterror germs in wake of anthrax lab mishaps http://t.co/qZQc8WWwcN via @usatoday',\n",
       "        'Gunmen kill four in El Salvador bus attack: Suspected Salvadoran gang members killed four people and wounded s... http://t.co/CNtwB6ScZj',\n",
       "        '@camilacabello97 Internally and externally screaming',\n",
       "        'Radiation emergency #preparedness starts with knowing to: get inside stay inside and stay tuned http://t.co/RFFPqBAz2F via @CDCgov',\n",
       "        'Investigators rule catastrophic structural failure resulted in 2014 Virg.. Related Articles: http://t.co/Cy1LFeNyV8',\n",
       "        'How the West was burned: Thousands of wildfires ablaze in #California alone http://t.co/iCSjGZ9tE1 #climate #energy http://t.co/9FxmN0l0Bd',\n",
       "        \"Map: Typhoon Soudelor's predicted path as it approaches Taiwan; expected to make landfall over southern China by S\\x89Û_ http://t.co/JDVSGVhlIs\",\n",
       "        '\\x89Ûª93 blasts accused Yeda Yakub dies in Karachi of heart attack http://t.co/mfKqyxd8XG #Mumbai',\n",
       "        'My ears are bleeding  https://t.co/k5KnNwugwT'], dtype=object),\n",
       " array([0, 0, 1, 1, 1, 1, 1, 1, 1, 0]))"
      ]
     },
     "execution_count": 153,
     "metadata": {},
     "output_type": "execute_result"
    }
   ],
   "source": [
    "# check the first 10 samples in validation sentences and labels\n",
    "val_sentences[:10], val_labels[:10]"
   ]
  },
  {
   "cell_type": "code",
   "execution_count": 154,
   "metadata": {},
   "outputs": [
    {
     "name": "stdout",
     "output_type": "stream",
     "text": [
      "percentage of samples in training set :  62.99 %\n",
      "percentage of samples in validation set :  7.01 %\n",
      "percentage of samples in test set :  30.0 %\n"
     ]
    }
   ],
   "source": [
    "# check the percentage of samples in training, validation and test sets of the original dataframe\n",
    "\n",
    "print(\"percentage of samples in training set : \", round(len(train_sentences) / (len(df_train_shuffled)+len(df_test)) * 100, 2), \"%\")\n",
    "print(\"percentage of samples in validation set : \", round(len(val_sentences) / (len(df_train_shuffled)+len(df_test)) * 100, 2), \"%\")\n",
    "print(\"percentage of samples in test set : \", round(len(df_test) / (len(df_train_shuffled)+len(df_test)) * 100, 2), \"%\")\n"
   ]
  },
  {
   "cell_type": "markdown",
   "metadata": {},
   "source": [
    "## Tokenization / Embedding of text\n",
    "\n",
    "* Tokenization : Direct mapping of token to number\n",
    "\n",
    "* Embedding - create a feature vector for a token"
   ]
  },
  {
   "cell_type": "markdown",
   "metadata": {},
   "source": [
    "### Tokenizing"
   ]
  },
  {
   "cell_type": "code",
   "execution_count": 155,
   "metadata": {},
   "outputs": [
    {
     "data": {
      "text/plain": [
       "(15, 15, 15)"
      ]
     },
     "execution_count": 155,
     "metadata": {},
     "output_type": "execute_result"
    }
   ],
   "source": [
    "# Get average number of tokens (words) in all training sentences\n",
    "def avg_word_length(sentences):\n",
    "    \"\"\"\n",
    "    Returns the average number of words per sentence.\n",
    "    \"\"\"\n",
    "    return round(sum([len(i.split()) for i in sentences]) / len(sentences))\n",
    "\n",
    "\n",
    "\n",
    "# Get the average word length in training set\n",
    "train_avg_word_len = avg_word_length(train_sentences)\n",
    "\n",
    "# Get the average word length in validation set\n",
    "val_avg_word_len = avg_word_length(val_sentences)\n",
    "\n",
    "# Get the average word length in test set\n",
    "test_avg_word_len = avg_word_length(df_test[\"text\"])\n",
    "\n",
    "\n",
    "train_avg_word_len, val_avg_word_len, test_avg_word_len\n",
    "\n"
   ]
  },
  {
   "cell_type": "code",
   "execution_count": 156,
   "metadata": {},
   "outputs": [],
   "source": [
    "# tokenize text using tensorflow layer\n",
    "import tensorflow as tf\n",
    "from tensorflow.keras.layers import TextVectorization\n",
    "\n",
    "#create TextVectorization object\n",
    "text_vectorizer = TextVectorization(max_tokens=10000, # how many words in the vocabulary (automatically add <OOV>)\n",
    "                                    standardize=\"lower_and_strip_punctuation\", # how to process text\n",
    "                                    split=\"whitespace\", # how to split tokens\n",
    "                                    ngrams=None, # create groups of n-words\n",
    "                                    output_mode=\"int\", # how to map tokens to numbers\n",
    "                                    output_sequence_length=15, # how long should the output sequence of tokens be\n",
    "                                    pad_to_max_tokens=True) # whether to pad sequences to the longest sequence or not\n",
    "\n",
    "                                    \n"
   ]
  },
  {
   "cell_type": "code",
   "execution_count": 157,
   "metadata": {},
   "outputs": [],
   "source": [
    "# set text_vectorizer variables on training text\n",
    "text_vectorizer.adapt(train_sentences)\n"
   ]
  },
  {
   "cell_type": "code",
   "execution_count": 158,
   "metadata": {},
   "outputs": [
    {
     "data": {
      "text/plain": [
       "<tf.Tensor: shape=(1, 15), dtype=int64, numpy=\n",
       "array([[264,   3, 232,   4,  13, 698,   0,   0,   0,   0,   0,   0,   0,\n",
       "          0,   0]])>"
      ]
     },
     "execution_count": 158,
     "metadata": {},
     "output_type": "execute_result"
    }
   ],
   "source": [
    "# create a sample sentence and tokenize it\n",
    "sample_sentence = \"There's a flood in my street!\"\n",
    "text_vectorizer([sample_sentence])"
   ]
  },
  {
   "cell_type": "code",
   "execution_count": 159,
   "metadata": {},
   "outputs": [
    {
     "name": "stdout",
     "output_type": "stream",
     "text": [
      "Original text:\n",
      "Block the plate with a charging Schwarber coming down the line Cervelli. I dare you. You would explode into a little puff of smoke        \n",
      "\n",
      "Vectorized version:\n"
     ]
    },
    {
     "data": {
      "text/plain": [
       "<tf.Tensor: shape=(1, 15), dtype=int64, numpy=\n",
       "array([[1549,    2, 2798,   14,    3, 2161, 4678,  249,  134,    2,  648,\n",
       "           1,    8, 2503,   12]])>"
      ]
     },
     "execution_count": 159,
     "metadata": {},
     "output_type": "execute_result"
    }
   ],
   "source": [
    "random_sentence = random.choice(train_sentences)\n",
    "print(f\"Original text:\\n{random_sentence}\\\n",
    "        \\n\\nVectorized version:\")\n",
    "text_vectorizer([random_sentence])"
   ]
  },
  {
   "cell_type": "code",
   "execution_count": 160,
   "metadata": {},
   "outputs": [
    {
     "name": "stdout",
     "output_type": "stream",
     "text": [
      "Number of words in vocab: 10000\n",
      "5 most common words: ['', '[UNK]', 'the', 'a', 'in']\n",
      "5 least common words: ['pages', 'paeds', 'pads', 'padres', 'paddytomlinson1']\n"
     ]
    }
   ],
   "source": [
    "# get the unique words in the vocabulary\n",
    "words_in_vocab = text_vectorizer.get_vocabulary()\n",
    "top_5_words = words_in_vocab[:5]\n",
    "bottom_5_words = words_in_vocab[-5:]\n",
    "print(f\"Number of words in vocab: {len(words_in_vocab)}\")\n",
    "print(f\"5 most common words: {top_5_words}\")\n",
    "print(f\"5 least common words: {bottom_5_words}\")\n"
   ]
  },
  {
   "cell_type": "markdown",
   "metadata": {},
   "source": [
    "### Embedding"
   ]
  },
  {
   "cell_type": "code",
   "execution_count": 161,
   "metadata": {},
   "outputs": [
    {
     "name": "stdout",
     "output_type": "stream",
     "text": [
      "Original text:\n",
      "The only country claiming the moral high ground is the only one to have dropped atomic bombs. #Hiroshima #BanTheBomb\n",
      "http://t.co/6G49ywwsQJ        \n",
      "\n",
      "Embedded version:\n"
     ]
    },
    {
     "data": {
      "text/plain": [
       "<tf.Tensor: shape=(1, 15, 128), dtype=float32, numpy=\n",
       "array([[[ 0.00199076, -0.02351836,  0.04412159, ..., -0.01109869,\n",
       "         -0.03960495, -0.04315636],\n",
       "        [ 0.04688287,  0.02921085, -0.04422367, ..., -0.02784988,\n",
       "          0.00782899, -0.0254053 ],\n",
       "        [-0.02668618, -0.0380115 ,  0.018964  , ..., -0.01030532,\n",
       "          0.00437386,  0.00682341],\n",
       "        ...,\n",
       "        [-0.02992374, -0.0080337 ,  0.0444865 , ...,  0.03880921,\n",
       "         -0.02025818, -0.00716957],\n",
       "        [-0.04967885, -0.03827131,  0.04515162, ..., -0.01479734,\n",
       "         -0.00293178,  0.01062806],\n",
       "        [-0.0315498 , -0.01945461,  0.02477126, ..., -0.0260766 ,\n",
       "          0.01663757,  0.04004538]]], dtype=float32)>"
      ]
     },
     "execution_count": 161,
     "metadata": {},
     "output_type": "execute_result"
    }
   ],
   "source": [
    "# Creating an Embedding using an Embedding Layer\n",
    "from tensorflow.keras.layers import Embedding\n",
    "\n",
    "# create an embedding layer\n",
    "embedding = Embedding(input_dim=10000, # size of our vocabulary\n",
    "                        output_dim=128, # set the size of the embedding vector\n",
    "                        embeddings_initializer=\"uniform\", # default, initialize embedding layer\n",
    "                        input_length=15) # how long is each input sentence\n",
    "\n",
    "# get a random sentence from training set\n",
    "random_sentence = random.choice(train_sentences)\n",
    "print(f\"Original text:\\n{random_sentence}\\\n",
    "        \\n\\nEmbedded version:\")\n",
    "# embed the random sentence (turn it into numerical representation)\n",
    "sample_embed = embedding(text_vectorizer([random_sentence]))\n",
    "sample_embed\n"
   ]
  },
  {
   "cell_type": "markdown",
   "metadata": {},
   "source": [
    "## Classificaton Model ( Disaster / Not Disaster)\n",
    "\n",
    "* Model 0: Naive Bayes (baseline)\n",
    "* Model 1: Feed-forward neural network (dense model)\n",
    "* Model 2: LSTM model\n",
    "* Model 3: GRU model\n",
    "* Model 4: Bidirectional-LSTM model\n",
    "* Model 5: 1D Convolutional Neural Network\n",
    "* Model 6: TensorFlow Hub Pretrained Feature Extractor\n",
    "* Model 7: Same as model 6 with 10% of training data"
   ]
  },
  {
   "cell_type": "markdown",
   "metadata": {},
   "source": [
    "### Model 0: Naive Bayes (baseline)"
   ]
  },
  {
   "cell_type": "code",
   "execution_count": 162,
   "metadata": {},
   "outputs": [
    {
     "data": {
      "text/plain": [
       "0.7926509186351706"
      ]
     },
     "execution_count": 162,
     "metadata": {},
     "output_type": "execute_result"
    }
   ],
   "source": [
    "# Define the model 0 by using sci-kit learn API\n",
    "from sklearn.feature_extraction.text import TfidfVectorizer\n",
    "from sklearn.naive_bayes import MultinomialNB\n",
    "from sklearn.pipeline import Pipeline\n",
    "\n",
    "# create a pipeline\n",
    "model_0 = Pipeline([\n",
    "    (\"tf-idf\", TfidfVectorizer()), # convert words to numbers using tf-idf\n",
    "    (\"clf\", MultinomialNB()) # model the text\n",
    "])\n",
    "\n",
    "# fit the pipeline to the training data\n",
    "model_0.fit(train_sentences, train_labels)\n",
    "\n",
    "# evaluate the baseline model on validation set\n",
    "model_0.score(val_sentences, val_labels)\n"
   ]
  },
  {
   "cell_type": "code",
   "execution_count": 163,
   "metadata": {},
   "outputs": [
    {
     "data": {
      "text/plain": [
       "{'accuracy': 79.26509186351706,\n",
       " 'precision': 81.11390004213173,\n",
       " 'recall': 79.26509186351706,\n",
       " 'f1': 78.6218975804955}"
      ]
     },
     "execution_count": 163,
     "metadata": {},
     "output_type": "execute_result"
    }
   ],
   "source": [
    "y_preds = model_0.predict(val_sentences)\n",
    "\n",
    "# get accuracy, precision, recall, f1-score\n",
    "from sklearn.metrics import accuracy_score, precision_recall_fscore_support\n",
    "\n",
    "def calculate_results(y_true, y_pred):\n",
    "    \"\"\"\n",
    "    Calculates model accuracy, precision, recall and f1 score of a binary classification model.\n",
    "    \"\"\"\n",
    "    # calculate model accuracy\n",
    "    model_accuracy = accuracy_score(y_true, y_pred) \n",
    "    # calculate model precision, recall and f1 score using \"weighted\" average\n",
    "    model_precision, model_recall, model_f1, _ = precision_recall_fscore_support(y_true, y_pred, average=\"weighted\")\n",
    "    model_results = {\"accuracy\": model_accuracy*100,\n",
    "                    \"precision\": model_precision*100,\n",
    "                    \"recall\": model_recall*100,\n",
    "                    \"f1\": model_f1*100}\n",
    "    return model_results\n",
    "\n",
    "baseline_results = calculate_results(y_true=val_labels,\n",
    "                                    y_pred=y_preds)\n",
    "baseline_results    "
   ]
  },
  {
   "cell_type": "markdown",
   "metadata": {},
   "source": [
    "### Model 1: Feed-forward neural network"
   ]
  },
  {
   "cell_type": "code",
   "execution_count": 164,
   "metadata": {},
   "outputs": [
    {
     "name": "stdout",
     "output_type": "stream",
     "text": [
      "Model: \"model_1_dense\"\n",
      "_________________________________________________________________\n",
      " Layer (type)                Output Shape              Param #   \n",
      "=================================================================\n",
      " text_vectorization_6 (TextV  (None, 15)               0         \n",
      " ectorization)                                                   \n",
      "                                                                 \n",
      " embedding_3 (Embedding)     (None, 15, 128)           1280000   \n",
      "                                                                 \n",
      " global_average_pooling1d_9   (None, 128)              0         \n",
      " (GlobalAveragePooling1D)                                        \n",
      "                                                                 \n",
      " dense_24 (Dense)            (None, 64)                8256      \n",
      "                                                                 \n",
      " dense_25 (Dense)            (None, 1)                 65        \n",
      "                                                                 \n",
      "=================================================================\n",
      "Total params: 1,288,321\n",
      "Trainable params: 1,288,321\n",
      "Non-trainable params: 0\n",
      "_________________________________________________________________\n"
     ]
    }
   ],
   "source": [
    "# define model 1 using tensorflow API feed-forward neural network (dense model)\n",
    "from tensorflow.keras import layers\n",
    "\n",
    "# create a model using the functional API\n",
    "model_1 = tf.keras.Sequential([\n",
    "    layers.Input(shape=(1,), dtype=tf.string), # input layer\n",
    "    text_vectorizer, # turn text into numbers\n",
    "    embedding, # turn numbers into embedding\n",
    "    layers.GlobalAveragePooling1D(), # condense the feature vector for each token to one vector\n",
    "    layers.Dense(64, activation=\"relu\"), # add a fully connected layer with 64 hidden units\n",
    "    layers.Dense(1, activation=\"sigmoid\") # add a fully connected layer with 1 hidden unit\n",
    "], name=\"model_1_dense\")\n",
    "\n",
    "model_1.summary()"
   ]
  },
  {
   "cell_type": "code",
   "execution_count": 165,
   "metadata": {},
   "outputs": [
    {
     "name": "stdout",
     "output_type": "stream",
     "text": [
      "Saving TensorBoard log files to:  running_logs/model_1_dense/20230718-132656\n",
      "Epoch 1/5\n",
      "215/215 [==============================] - 3s 10ms/step - loss: 0.5504 - accuracy: 0.7208 - val_loss: 0.4654 - val_accuracy: 0.7861\n",
      "Epoch 2/5\n",
      "215/215 [==============================] - 2s 8ms/step - loss: 0.3352 - accuracy: 0.8613 - val_loss: 0.4680 - val_accuracy: 0.7756\n",
      "Epoch 3/5\n",
      "215/215 [==============================] - 2s 8ms/step - loss: 0.2314 - accuracy: 0.9096 - val_loss: 0.5697 - val_accuracy: 0.7927\n",
      "Epoch 4/5\n",
      "215/215 [==============================] - 2s 7ms/step - loss: 0.1708 - accuracy: 0.9378 - val_loss: 0.6074 - val_accuracy: 0.7808\n",
      "Epoch 5/5\n",
      "215/215 [==============================] - 2s 7ms/step - loss: 0.1300 - accuracy: 0.9524 - val_loss: 0.6705 - val_accuracy: 0.7756\n"
     ]
    }
   ],
   "source": [
    "from helper_functions import prepare_tb_call_back\n",
    "# compile the model\n",
    "model_1.compile(loss=\"binary_crossentropy\",\n",
    "                optimizer=tf.keras.optimizers.Adam(),\n",
    "                metrics=[\"accuracy\"])\n",
    "\n",
    "# fit the model\n",
    "model_1_history = model_1.fit(train_sentences,\n",
    "                                train_labels,\n",
    "                                epochs=5,\n",
    "                                validation_data=(val_sentences, val_labels),\n",
    "                                callbacks=[prepare_tb_call_back(\"running_logs\", \"model_1_dense\")])\n"
   ]
  },
  {
   "cell_type": "code",
   "execution_count": 166,
   "metadata": {},
   "outputs": [
    {
     "data": {
      "image/png": "[encoded data removed]",
      "text/plain": [
       "<Figure size 1000x500 with 2 Axes>"
      ]
     },
     "metadata": {},
     "output_type": "display_data"
    }
   ],
   "source": [
    "from helper_functions import plot_model_hist\n",
    "plot_model_hist(model_1_history)"
   ]
  },
  {
   "cell_type": "code",
   "execution_count": 167,
   "metadata": {},
   "outputs": [
    {
     "data": {
      "text/plain": [
       "{'accuracy': 77.55905511811024,\n",
       " 'precision': 77.58405894864461,\n",
       " 'recall': 77.55905511811024,\n",
       " 'f1': 77.44092523940911}"
      ]
     },
     "execution_count": 167,
     "metadata": {},
     "output_type": "execute_result"
    }
   ],
   "source": [
    "y_pred_probs = model_1.predict(val_sentences)\n",
    "y_preds = tf.squeeze(tf.round(y_pred_probs))\n",
    "\n",
    "model_1_results = calculate_results(y_true=val_labels,\n",
    "                                    y_pred=y_preds)\n",
    "model_1_results  "
   ]
  },
  {
   "cell_type": "markdown",
   "metadata": {},
   "source": [
    "### Model 2: LSTM model"
   ]
  },
  {
   "cell_type": "code",
   "execution_count": 168,
   "metadata": {},
   "outputs": [
    {
     "name": "stdout",
     "output_type": "stream",
     "text": [
      "Model: \"model_2_LSTM\"\n",
      "_________________________________________________________________\n",
      " Layer (type)                Output Shape              Param #   \n",
      "=================================================================\n",
      " text_vectorization_6 (TextV  (None, 15)               0         \n",
      " ectorization)                                                   \n",
      "                                                                 \n",
      " embedding_3 (Embedding)     (None, 15, 128)           1280000   \n",
      "                                                                 \n",
      " lstm_6 (LSTM)               (None, 15, 64)            49408     \n",
      "                                                                 \n",
      " lstm_7 (LSTM)               (None, 64)                33024     \n",
      "                                                                 \n",
      " dense_26 (Dense)            (None, 64)                4160      \n",
      "                                                                 \n",
      " dense_27 (Dense)            (None, 1)                 65        \n",
      "                                                                 \n",
      "=================================================================\n",
      "Total params: 1,366,657\n",
      "Trainable params: 1,366,657\n",
      "Non-trainable params: 0\n",
      "_________________________________________________________________\n"
     ]
    }
   ],
   "source": [
    "# define model 2 using tensorflow API LSTM model\n",
    "from tensorflow.keras import layers\n",
    "\n",
    "# create a model using the functional API\n",
    "model_2 = tf.keras.Sequential([\n",
    "    layers.Input(shape=(1,), dtype=tf.string), # input layer\n",
    "    text_vectorizer, # turn text into numbers\n",
    "    embedding, # turn numbers into embedding\n",
    "    layers.LSTM(64, return_sequences=True), # return sequences since we are using another LSTM layer\n",
    "    layers.LSTM(64), # return a single vector\n",
    "    layers.Dense(64, activation=\"relu\"), # add a fully connected layer with 64 hidden units\n",
    "    layers.Dense(1, activation=\"sigmoid\") # add a fully connected layer with 1 hidden unit\n",
    "], name=\"model_2_LSTM\")\n",
    "\n",
    "model_2.summary()"
   ]
  },
  {
   "cell_type": "code",
   "execution_count": 169,
   "metadata": {},
   "outputs": [
    {
     "name": "stdout",
     "output_type": "stream",
     "text": [
      "Saving TensorBoard log files to:  running_logs/model_2_LSTM/20230718-132706\n",
      "Epoch 1/5\n",
      "215/215 [==============================] - 9s 28ms/step - loss: 0.1774 - accuracy: 0.9439 - val_loss: 0.7491 - val_accuracy: 0.7769\n",
      "Epoch 2/5\n",
      "215/215 [==============================] - 5s 24ms/step - loss: 0.0991 - accuracy: 0.9615 - val_loss: 0.8843 - val_accuracy: 0.7782\n",
      "Epoch 3/5\n",
      "215/215 [==============================] - 5s 22ms/step - loss: 0.0814 - accuracy: 0.9657 - val_loss: 0.9729 - val_accuracy: 0.7743\n",
      "Epoch 4/5\n",
      "215/215 [==============================] - 4s 20ms/step - loss: 0.0629 - accuracy: 0.9727 - val_loss: 1.4940 - val_accuracy: 0.7677\n",
      "Epoch 5/5\n",
      "215/215 [==============================] - 5s 21ms/step - loss: 0.0627 - accuracy: 0.9733 - val_loss: 1.2111 - val_accuracy: 0.7585\n"
     ]
    }
   ],
   "source": [
    "# compile the model\n",
    "model_2.compile(loss=\"binary_crossentropy\",\n",
    "                optimizer=tf.keras.optimizers.Adam(),\n",
    "                metrics=[\"accuracy\"])\n",
    "\n",
    "# fit the model\n",
    "model_2_history = model_2.fit(train_sentences,\n",
    "                                train_labels,\n",
    "                                epochs=5,\n",
    "                                validation_data=(val_sentences, val_labels),\n",
    "                                callbacks=[prepare_tb_call_back(\"running_logs\", \"model_2_LSTM\")])\n"
   ]
  },
  {
   "cell_type": "code",
   "execution_count": 170,
   "metadata": {},
   "outputs": [
    {
     "data": {
      "image/png": "[encoded data removed]",
      "text/plain": [
       "<Figure size 1000x500 with 2 Axes>"
      ]
     },
     "metadata": {},
     "output_type": "display_data"
    }
   ],
   "source": [
    "# plot the model history\n",
    "plot_model_hist(model_2_history)"
   ]
  },
  {
   "cell_type": "code",
   "execution_count": 171,
   "metadata": {},
   "outputs": [
    {
     "data": {
      "text/plain": [
       "{'accuracy': 75.8530183727034,\n",
       " 'precision': 75.84850115306213,\n",
       " 'recall': 75.8530183727034,\n",
       " 'f1': 75.73131746360092}"
      ]
     },
     "execution_count": 171,
     "metadata": {},
     "output_type": "execute_result"
    }
   ],
   "source": [
    "# make predictions\n",
    "y_pred_probs = model_2.predict(val_sentences)\n",
    "y_preds = tf.squeeze(tf.round(y_pred_probs))\n",
    "\n",
    "# calculate model results\n",
    "model_2_results = calculate_results(y_true=val_labels,\n",
    "                                    y_pred=y_preds) \n",
    "model_2_results                                    "
   ]
  },
  {
   "cell_type": "markdown",
   "metadata": {},
   "source": [
    "### Model 3: GRU model"
   ]
  },
  {
   "cell_type": "code",
   "execution_count": 172,
   "metadata": {},
   "outputs": [
    {
     "name": "stdout",
     "output_type": "stream",
     "text": [
      "Model: \"model_3_GRU\"\n",
      "_________________________________________________________________\n",
      " Layer (type)                Output Shape              Param #   \n",
      "=================================================================\n",
      " text_vectorization_6 (TextV  (None, 15)               0         \n",
      " ectorization)                                                   \n",
      "                                                                 \n",
      " embedding_3 (Embedding)     (None, 15, 128)           1280000   \n",
      "                                                                 \n",
      " gru_2 (GRU)                 (None, 15, 64)            37248     \n",
      "                                                                 \n",
      " gru_3 (GRU)                 (None, 64)                24960     \n",
      "                                                                 \n",
      " dense_28 (Dense)            (None, 64)                4160      \n",
      "                                                                 \n",
      " dense_29 (Dense)            (None, 1)                 65        \n",
      "                                                                 \n",
      "=================================================================\n",
      "Total params: 1,346,433\n",
      "Trainable params: 1,346,433\n",
      "Non-trainable params: 0\n",
      "_________________________________________________________________\n"
     ]
    }
   ],
   "source": [
    "# define model 3 using tensorflow API GRU model\n",
    "from tensorflow.keras import layers\n",
    "\n",
    "# create a model using the functional API\n",
    "model_3 = tf.keras.Sequential([\n",
    "    layers.Input(shape=(1,), dtype=tf.string), # input layer\n",
    "    text_vectorizer, # turn text into numbers\n",
    "    embedding, # turn numbers into embedding\n",
    "    layers.GRU(64, return_sequences=True), # return sequences since we are using another LSTM layer\n",
    "    layers.GRU(64), # return a single vector\n",
    "    layers.Dense(64, activation=\"relu\"), # add a fully connected layer with 64 hidden units\n",
    "    layers.Dense(1, activation=\"sigmoid\") # add a fully connected layer with 1 hidden unit\n",
    "], name=\"model_3_GRU\")\n",
    "\n",
    "model_3.summary()\n"
   ]
  },
  {
   "cell_type": "code",
   "execution_count": 173,
   "metadata": {},
   "outputs": [
    {
     "name": "stdout",
     "output_type": "stream",
     "text": [
      "Saving TensorBoard log files to:  running_logs/model_3_GRU/20230718-132736\n",
      "Epoch 1/5\n",
      "215/215 [==============================] - 10s 27ms/step - loss: 0.1480 - accuracy: 0.9476 - val_loss: 0.7460 - val_accuracy: 0.7572\n",
      "Epoch 2/5\n",
      "215/215 [==============================] - 4s 21ms/step - loss: 0.0712 - accuracy: 0.9730 - val_loss: 1.1984 - val_accuracy: 0.7467\n",
      "Epoch 3/5\n",
      "215/215 [==============================] - 5s 21ms/step - loss: 0.0597 - accuracy: 0.9758 - val_loss: 1.5207 - val_accuracy: 0.7638\n",
      "Epoch 4/5\n",
      "215/215 [==============================] - 4s 20ms/step - loss: 0.0470 - accuracy: 0.9769 - val_loss: 1.3711 - val_accuracy: 0.7572\n",
      "Epoch 5/5\n",
      "215/215 [==============================] - 4s 20ms/step - loss: 0.0500 - accuracy: 0.9774 - val_loss: 1.2237 - val_accuracy: 0.7493\n"
     ]
    }
   ],
   "source": [
    "# compile the model\n",
    "model_3.compile(loss=\"binary_crossentropy\",\n",
    "                optimizer=tf.keras.optimizers.Adam(),\n",
    "                metrics=[\"accuracy\"])\n",
    "\n",
    "# fit the model\n",
    "model_3_history = model_3.fit(train_sentences,\n",
    "                                train_labels,\n",
    "                                epochs=5,\n",
    "                                validation_data=(val_sentences, val_labels),\n",
    "                                callbacks=[prepare_tb_call_back(\"running_logs\", \"model_3_GRU\")])\n"
   ]
  },
  {
   "cell_type": "code",
   "execution_count": 174,
   "metadata": {},
   "outputs": [
    {
     "data": {
      "image/png": "[encoded data removed]",
      "text/plain": [
       "<Figure size 1000x500 with 2 Axes>"
      ]
     },
     "metadata": {},
     "output_type": "display_data"
    }
   ],
   "source": [
    "# plot the model history\n",
    "plot_model_hist(model_3_history)"
   ]
  },
  {
   "cell_type": "code",
   "execution_count": 175,
   "metadata": {},
   "outputs": [
    {
     "data": {
      "text/plain": [
       "{'accuracy': 74.93438320209974,\n",
       " 'precision': 74.95314021551161,\n",
       " 'recall': 74.93438320209974,\n",
       " 'f1': 74.942598230625}"
      ]
     },
     "execution_count": 175,
     "metadata": {},
     "output_type": "execute_result"
    }
   ],
   "source": [
    "# make predictions\n",
    "y_pred_probs = model_3.predict(val_sentences)\n",
    "y_preds = tf.squeeze(tf.round(y_pred_probs))\n",
    "\n",
    "# calculate model results\n",
    "model_3_results = calculate_results(y_true=val_labels,\n",
    "                                    y_pred=y_preds)\n",
    "model_3_results                                    "
   ]
  },
  {
   "cell_type": "markdown",
   "metadata": {},
   "source": [
    "### Model 4 : Bi-directional LSTM"
   ]
  },
  {
   "cell_type": "code",
   "execution_count": 176,
   "metadata": {},
   "outputs": [
    {
     "name": "stdout",
     "output_type": "stream",
     "text": [
      "Model: \"model_4_bidirectional_LSTM\"\n",
      "_________________________________________________________________\n",
      " Layer (type)                Output Shape              Param #   \n",
      "=================================================================\n",
      " text_vectorization_6 (TextV  (None, 15)               0         \n",
      " ectorization)                                                   \n",
      "                                                                 \n",
      " embedding_3 (Embedding)     (None, 15, 128)           1280000   \n",
      "                                                                 \n",
      " bidirectional_2 (Bidirectio  (None, 15, 128)          98816     \n",
      " nal)                                                            \n",
      "                                                                 \n",
      " bidirectional_3 (Bidirectio  (None, 128)              98816     \n",
      " nal)                                                            \n",
      "                                                                 \n",
      " dense_30 (Dense)            (None, 64)                8256      \n",
      "                                                                 \n",
      " dense_31 (Dense)            (None, 1)                 65        \n",
      "                                                                 \n",
      "=================================================================\n",
      "Total params: 1,485,953\n",
      "Trainable params: 1,485,953\n",
      "Non-trainable params: 0\n",
      "_________________________________________________________________\n"
     ]
    }
   ],
   "source": [
    "# Define model 4 using the tensorflow API Bidirectional LSTM model\n",
    "from tensorflow.keras import layers\n",
    "\n",
    "# create a model using the functional API\n",
    "model_4 = tf.keras.Sequential([\n",
    "    layers.Input(shape=(1,), dtype=tf.string), # input layer\n",
    "    text_vectorizer, # turn text into numbers\n",
    "    embedding, # turn numbers into embedding\n",
    "    layers.Bidirectional(layers.LSTM(64, return_sequences=True)), # return sequences since we are using another LSTM layer\n",
    "    layers.Bidirectional(layers.LSTM(64)), # return a single vector\n",
    "    layers.Dense(64, activation=\"relu\"), # add a fully connected layer with 64 hidden units\n",
    "    layers.Dense(1, activation=\"sigmoid\") # add a fully connected layer with 1 hidden unit\n",
    "], name=\"model_4_bidirectional_LSTM\")\n",
    "\n",
    "model_4.summary()"
   ]
  },
  {
   "cell_type": "code",
   "execution_count": 177,
   "metadata": {},
   "outputs": [
    {
     "name": "stdout",
     "output_type": "stream",
     "text": [
      "Saving TensorBoard log files to:  running_logs/model_4_bidirectional_LSTM/20230718-132805\n",
      "Epoch 1/5\n",
      "215/215 [==============================] - 14s 38ms/step - loss: 0.0962 - accuracy: 0.9693 - val_loss: 1.2518 - val_accuracy: 0.7612\n",
      "Epoch 2/5\n",
      "215/215 [==============================] - 9s 41ms/step - loss: 0.0578 - accuracy: 0.9756 - val_loss: 1.3626 - val_accuracy: 0.7572\n",
      "Epoch 3/5\n",
      "215/215 [==============================] - 8s 39ms/step - loss: 0.0455 - accuracy: 0.9791 - val_loss: 1.5295 - val_accuracy: 0.7454\n",
      "Epoch 4/5\n",
      "215/215 [==============================] - 7s 33ms/step - loss: 0.0409 - accuracy: 0.9801 - val_loss: 1.8154 - val_accuracy: 0.7546\n",
      "Epoch 5/5\n",
      "215/215 [==============================] - 7s 31ms/step - loss: 0.0411 - accuracy: 0.9800 - val_loss: 1.7451 - val_accuracy: 0.7467\n"
     ]
    }
   ],
   "source": [
    "# compile the model\n",
    "model_4.compile(loss=\"binary_crossentropy\",\n",
    "                optimizer=tf.keras.optimizers.Adam(),\n",
    "                metrics=[\"accuracy\"])\n",
    "\n",
    "# fit the model\n",
    "model_4_history = model_4.fit(train_sentences,\n",
    "                                train_labels,\n",
    "                                epochs=5,\n",
    "                                validation_data=(val_sentences, val_labels),\n",
    "                                callbacks=[prepare_tb_call_back(\"running_logs\", \"model_4_bidirectional_LSTM\")])\n",
    "                "
   ]
  },
  {
   "cell_type": "code",
   "execution_count": 178,
   "metadata": {},
   "outputs": [
    {
     "data": {
      "image/png": "[encoded data removed]",
      "text/plain": [
       "<Figure size 1000x500 with 2 Axes>"
      ]
     },
     "metadata": {},
     "output_type": "display_data"
    }
   ],
   "source": [
    "# plot the model history\n",
    "plot_model_hist(model_4_history)"
   ]
  },
  {
   "cell_type": "code",
   "execution_count": 179,
   "metadata": {},
   "outputs": [
    {
     "data": {
      "text/plain": [
       "{'accuracy': 74.67191601049869,\n",
       " 'precision': 74.90916022390627,\n",
       " 'recall': 74.67191601049869,\n",
       " 'f1': 74.35790984470222}"
      ]
     },
     "execution_count": 179,
     "metadata": {},
     "output_type": "execute_result"
    }
   ],
   "source": [
    "# make predictions\n",
    "y_pred_probs = model_4.predict(val_sentences)\n",
    "y_preds = tf.squeeze(tf.round(y_pred_probs))\n",
    "\n",
    "# calculate model results\n",
    "model_4_results = calculate_results(y_true=val_labels,\n",
    "                                    y_pred=y_preds)\n",
    "model_4_results                                    "
   ]
  },
  {
   "cell_type": "markdown",
   "metadata": {},
   "source": [
    "### Model 5: 1D Convolutional Neural Network"
   ]
  },
  {
   "cell_type": "code",
   "execution_count": 180,
   "metadata": {},
   "outputs": [
    {
     "name": "stdout",
     "output_type": "stream",
     "text": [
      "Model: \"model_5_Conv1D\"\n",
      "_________________________________________________________________\n",
      " Layer (type)                Output Shape              Param #   \n",
      "=================================================================\n",
      " text_vectorization_6 (TextV  (None, 15)               0         \n",
      " ectorization)                                                   \n",
      "                                                                 \n",
      " embedding_3 (Embedding)     (None, 15, 128)           1280000   \n",
      "                                                                 \n",
      " conv1d_1 (Conv1D)           (None, 15, 64)            41024     \n",
      "                                                                 \n",
      " global_average_pooling1d_10  (None, 64)               0         \n",
      "  (GlobalAveragePooling1D)                                       \n",
      "                                                                 \n",
      " dense_32 (Dense)            (None, 64)                4160      \n",
      "                                                                 \n",
      " dense_33 (Dense)            (None, 1)                 65        \n",
      "                                                                 \n",
      "=================================================================\n",
      "Total params: 1,325,249\n",
      "Trainable params: 1,325,249\n",
      "Non-trainable params: 0\n",
      "_________________________________________________________________\n"
     ]
    }
   ],
   "source": [
    "# Define model 5 using the tensorflow API 1D Conv1D model\n",
    "from tensorflow.keras import layers\n",
    "\n",
    "# create a model using the functional API\n",
    "model_5 = tf.keras.Sequential([\n",
    "    layers.Input(shape=(1,), dtype=tf.string), # input layer\n",
    "    text_vectorizer, # turn text into numbers\n",
    "    embedding, # turn numbers into embedding\n",
    "    layers.Conv1D(64, kernel_size=5, padding=\"same\", activation=\"relu\"), # kernel_size is the number of words to look at\n",
    "    layers.GlobalAveragePooling1D(),\n",
    "    layers.Dense(64, activation=\"relu\"), # add a fully connected layer with 64 hidden units\n",
    "    layers.Dense(1, activation=\"sigmoid\") # add a fully connected layer with 1 hidden unit\n",
    "], name=\"model_5_Conv1D\")\n",
    "\n",
    "model_5.summary()"
   ]
  },
  {
   "cell_type": "code",
   "execution_count": 181,
   "metadata": {},
   "outputs": [
    {
     "name": "stdout",
     "output_type": "stream",
     "text": [
      "Saving TensorBoard log files to:  running_logs/model_5_Conv1D/20230718-132852\n",
      "Epoch 1/5\n",
      "215/215 [==============================] - 3s 10ms/step - loss: 0.1321 - accuracy: 0.9564 - val_loss: 0.9898 - val_accuracy: 0.7507\n",
      "Epoch 2/5\n",
      "215/215 [==============================] - 2s 10ms/step - loss: 0.0558 - accuracy: 0.9768 - val_loss: 1.1209 - val_accuracy: 0.7598\n",
      "Epoch 3/5\n",
      "215/215 [==============================] - 2s 9ms/step - loss: 0.0446 - accuracy: 0.9799 - val_loss: 1.3278 - val_accuracy: 0.7598\n",
      "Epoch 4/5\n",
      "215/215 [==============================] - 2s 10ms/step - loss: 0.0385 - accuracy: 0.9806 - val_loss: 1.7211 - val_accuracy: 0.7572\n",
      "Epoch 5/5\n",
      "215/215 [==============================] - 2s 10ms/step - loss: 0.0351 - accuracy: 0.9832 - val_loss: 1.7013 - val_accuracy: 0.7415\n"
     ]
    }
   ],
   "source": [
    "# compile the model\n",
    "model_5.compile(loss=\"binary_crossentropy\",\n",
    "                optimizer=tf.keras.optimizers.Adam(),\n",
    "                metrics=[\"accuracy\"])\n",
    "\n",
    "# fit the model\n",
    "model_5_history = model_5.fit(train_sentences,\n",
    "                                train_labels,\n",
    "                                epochs=5,\n",
    "                                validation_data=(val_sentences, val_labels),\n",
    "                                callbacks=[prepare_tb_call_back(\"running_logs\", \"model_5_Conv1D\")])\n",
    "                                        "
   ]
  },
  {
   "cell_type": "code",
   "execution_count": 182,
   "metadata": {},
   "outputs": [
    {
     "data": {
      "image/png": "[encoded data removed]",
      "text/plain": [
       "<Figure size 1000x500 with 2 Axes>"
      ]
     },
     "metadata": {},
     "output_type": "display_data"
    }
   ],
   "source": [
    "# plot the model history\n",
    "plot_model_hist(model_5_history)"
   ]
  },
  {
   "cell_type": "code",
   "execution_count": 183,
   "metadata": {},
   "outputs": [
    {
     "data": {
      "text/plain": [
       "{'accuracy': 74.1469816272966,\n",
       " 'precision': 74.1307016009924,\n",
       " 'recall': 74.1469816272966,\n",
       " 'f1': 74.13768881121563}"
      ]
     },
     "execution_count": 183,
     "metadata": {},
     "output_type": "execute_result"
    }
   ],
   "source": [
    "# make predictions\n",
    "y_pred_probs = model_5.predict(val_sentences)\n",
    "y_preds = tf.squeeze(tf.round(y_pred_probs))\n",
    "\n",
    "# calculate model results\n",
    "model_5_results = calculate_results(y_true=val_labels,\n",
    "                                    y_pred=y_preds)\n",
    "model_5_results                                    "
   ]
  },
  {
   "cell_type": "markdown",
   "metadata": {},
   "source": [
    "### Model 6: TensorFlow Hub Pretrained Feature Extractor"
   ]
  },
  {
   "cell_type": "code",
   "execution_count": 196,
   "metadata": {},
   "outputs": [
    {
     "name": "stdout",
     "output_type": "stream",
     "text": [
      "Model: \"model_6_TB_HUB\"\n",
      "_________________________________________________________________\n",
      " Layer (type)                Output Shape              Param #   \n",
      "=================================================================\n",
      " universal_sentence_encoder   (None, 512)              256797824 \n",
      " (KerasLayer)                                                    \n",
      "                                                                 \n",
      " dense_40 (Dense)            (None, 64)                32832     \n",
      "                                                                 \n",
      " dense_41 (Dense)            (None, 1)                 65        \n",
      "                                                                 \n",
      "=================================================================\n",
      "Total params: 256,830,721\n",
      "Trainable params: 32,897\n",
      "Non-trainable params: 256,797,824\n",
      "_________________________________________________________________\n"
     ]
    }
   ],
   "source": [
    "# Define model 6 using the tensorflow hub pretrained feature extractor\n",
    "import tensorflow_hub as hub\n",
    "\n",
    "# define the pretrained embedding layer\n",
    "embed = hub.KerasLayer(\"https://tfhub.dev/google/universal-sentence-encoder/4\",\n",
    "                          input_shape=[], # define input shape\n",
    "                            dtype=tf.string, # define data type of input\n",
    "                            trainable=False, # do not train the layer\n",
    "                            name=\"universal_sentence_encoder\")\n",
    "\n",
    "# create a model using the functional API\n",
    "model_6 = tf.keras.Sequential([\n",
    "    embed, # use the pretrained embedding layer\n",
    "    layers.Dense(64, activation=\"relu\"), # add a fully connected layer with 64 hidden units\n",
    "    layers.Dense(1, activation=\"sigmoid\") # add a fully connected layer with 1 hidden unit\n",
    "], name=\"model_6_TB_HUB\")\n",
    "\n",
    "model_6.summary()"
   ]
  },
  {
   "cell_type": "code",
   "execution_count": 197,
   "metadata": {},
   "outputs": [
    {
     "name": "stdout",
     "output_type": "stream",
     "text": [
      "Saving TensorBoard log files to:  running_logs/model_6_USE/20230718-133211\n",
      "Epoch 1/5\n"
     ]
    },
    {
     "name": "stdout",
     "output_type": "stream",
     "text": [
      "215/215 [==============================] - 4s 10ms/step - loss: 0.5083 - accuracy: 0.7758 - val_loss: 0.4544 - val_accuracy: 0.7966\n",
      "Epoch 2/5\n",
      "215/215 [==============================] - 2s 8ms/step - loss: 0.4152 - accuracy: 0.8140 - val_loss: 0.4394 - val_accuracy: 0.8045\n",
      "Epoch 3/5\n",
      "215/215 [==============================] - 2s 8ms/step - loss: 0.4010 - accuracy: 0.8227 - val_loss: 0.4364 - val_accuracy: 0.8110\n",
      "Epoch 4/5\n",
      "215/215 [==============================] - 2s 8ms/step - loss: 0.3919 - accuracy: 0.8269 - val_loss: 0.4291 - val_accuracy: 0.8110\n",
      "Epoch 5/5\n",
      "215/215 [==============================] - 1s 7ms/step - loss: 0.3852 - accuracy: 0.8305 - val_loss: 0.4281 - val_accuracy: 0.8163\n"
     ]
    }
   ],
   "source": [
    "# compile the model\n",
    "model_6.compile(loss=\"binary_crossentropy\",\n",
    "                optimizer=tf.keras.optimizers.Adam(),\n",
    "                metrics=[\"accuracy\"])\n",
    "\n",
    "# fit the model\n",
    "model_6_history = model_6.fit(train_sentences,\n",
    "                                train_labels,\n",
    "                                epochs=5,\n",
    "                                validation_data=(val_sentences, val_labels),\n",
    "                                callbacks=[prepare_tb_call_back(\"running_logs\", \"model_6_USE\")])\n",
    "                                                "
   ]
  },
  {
   "cell_type": "code",
   "execution_count": 198,
   "metadata": {},
   "outputs": [
    {
     "data": {
      "image/png": "[encoded data removed]",
      "text/plain": [
       "<Figure size 1000x500 with 2 Axes>"
      ]
     },
     "metadata": {},
     "output_type": "display_data"
    }
   ],
   "source": [
    "# plot the model history\n",
    "plot_model_hist(model_6_history)"
   ]
  },
  {
   "cell_type": "code",
   "execution_count": 199,
   "metadata": {},
   "outputs": [
    {
     "data": {
      "text/plain": [
       "{'accuracy': 81.62729658792651,\n",
       " 'precision': 81.94307529740601,\n",
       " 'recall': 81.62729658792651,\n",
       " 'f1': 81.45018782850012}"
      ]
     },
     "execution_count": 199,
     "metadata": {},
     "output_type": "execute_result"
    }
   ],
   "source": [
    "# make predictions\n",
    "y_pred_probs = model_6.predict(val_sentences)\n",
    "y_preds = tf.squeeze(tf.round(y_pred_probs))\n",
    "\n",
    "# calculate model results\n",
    "model_6_results = calculate_results(y_true=val_labels,\n",
    "                                    y_pred=y_preds)\n",
    "model_6_results                                    "
   ]
  },
  {
   "cell_type": "markdown",
   "metadata": {},
   "source": [
    "### Model 7: Same as model 6 with 10% of training data"
   ]
  },
  {
   "cell_type": "code",
   "execution_count": 188,
   "metadata": {},
   "outputs": [
    {
     "name": "stdout",
     "output_type": "stream",
     "text": [
      "Model: \"model_7_TB_HUB\"\n",
      "_________________________________________________________________\n",
      " Layer (type)                Output Shape              Param #   \n",
      "=================================================================\n",
      " universal_sentence_encoder   (None, 512)              256797824 \n",
      " (KerasLayer)                                                    \n",
      "                                                                 \n",
      " dense_36 (Dense)            (None, 64)                32832     \n",
      "                                                                 \n",
      " dense_37 (Dense)            (None, 1)                 65        \n",
      "                                                                 \n",
      "=================================================================\n",
      "Total params: 256,830,721\n",
      "Trainable params: 32,897\n",
      "Non-trainable params: 256,797,824\n",
      "_________________________________________________________________\n"
     ]
    }
   ],
   "source": [
    "# Define model 7 using the tensorflow hub pretrained feature extractor\n",
    "import tensorflow_hub as hub\n",
    "\n",
    "# define the pretrained embedding layer\n",
    "embed = hub.KerasLayer(\"https://tfhub.dev/google/universal-sentence-encoder/4\",\n",
    "                          input_shape=[], # define input shape\n",
    "                            dtype=tf.string, # define data type of input\n",
    "                            trainable=False, # do not train the layer\n",
    "                            name=\"universal_sentence_encoder\")\n",
    "\n",
    "# create a model using the functional API\n",
    "model_7 = tf.keras.Sequential([\n",
    "    embed, # use the pretrained embedding layer\n",
    "    layers.Dense(64, activation=\"relu\"), # add a fully connected layer with 64 hidden units\n",
    "    layers.Dense(1, activation=\"sigmoid\") # add a fully connected layer with 1 hidden unit\n",
    "], name=\"model_7_TB_HUB\")\n",
    "\n",
    "model_7.summary()"
   ]
  },
  {
   "cell_type": "code",
   "execution_count": 189,
   "metadata": {},
   "outputs": [],
   "source": [
    "def get_10_percent(list_data):\n",
    "  \"\"\"Gets 10% of the data from a Python list.\n",
    "\n",
    "  Args:\n",
    "    list_data: The list of data.\n",
    "\n",
    "  Returns:\n",
    "    A list of the first 10% of the data.\n",
    "  \"\"\"\n",
    "\n",
    "  number_of_items = len(list_data)\n",
    "  number_of_items_to_return = int(number_of_items * 0.1)\n",
    "  return list_data[:number_of_items_to_return]"
   ]
  },
  {
   "cell_type": "code",
   "execution_count": 190,
   "metadata": {},
   "outputs": [
    {
     "name": "stdout",
     "output_type": "stream",
     "text": [
      "Saving TensorBoard log files to:  running_logs/model_7_TB_HUB/20230718-132938\n",
      "Epoch 1/5\n",
      "22/22 [==============================] - 3s 32ms/step - loss: 0.6724 - accuracy: 0.6044 - val_loss: 0.6520 - val_accuracy: 0.6378\n",
      "Epoch 2/5\n",
      "22/22 [==============================] - 0s 13ms/step - loss: 0.6036 - accuracy: 0.7810 - val_loss: 0.5964 - val_accuracy: 0.7480\n",
      "Epoch 3/5\n",
      "22/22 [==============================] - 0s 13ms/step - loss: 0.5302 - accuracy: 0.8131 - val_loss: 0.5405 - val_accuracy: 0.7808\n",
      "Epoch 4/5\n",
      "22/22 [==============================] - 0s 15ms/step - loss: 0.4662 - accuracy: 0.8263 - val_loss: 0.5063 - val_accuracy: 0.7795\n",
      "Epoch 5/5\n",
      "22/22 [==============================] - 0s 15ms/step - loss: 0.4240 - accuracy: 0.8263 - val_loss: 0.4891 - val_accuracy: 0.7795\n"
     ]
    }
   ],
   "source": [
    "# compile the model\n",
    "model_7.compile(loss=\"binary_crossentropy\",\n",
    "                optimizer=tf.keras.optimizers.Adam(),\n",
    "                metrics=[\"accuracy\"])\n",
    "\n",
    "# fit the model\n",
    "model_7_history = model_7.fit(get_10_percent(train_sentences),\n",
    "                                get_10_percent(train_labels),\n",
    "                                epochs=5,\n",
    "                                validation_data=(val_sentences, val_labels),\n",
    "                                callbacks=[prepare_tb_call_back(\"running_logs\", \"model_7_TB_HUB\")])\n",
    "                                                "
   ]
  },
  {
   "cell_type": "code",
   "execution_count": 191,
   "metadata": {},
   "outputs": [
    {
     "data": {
      "image/png": "[encoded data removed]",
      "text/plain": [
       "<Figure size 1000x500 with 2 Axes>"
      ]
     },
     "metadata": {},
     "output_type": "display_data"
    }
   ],
   "source": [
    "# plot the model history\n",
    "plot_model_hist(model_7_history)"
   ]
  },
  {
   "cell_type": "code",
   "execution_count": 192,
   "metadata": {},
   "outputs": [
    {
     "data": {
      "text/plain": [
       "{'accuracy': 77.95275590551181,\n",
       " 'precision': 77.97634583030512,\n",
       " 'recall': 77.95275590551181,\n",
       " 'f1': 77.84163768415738}"
      ]
     },
     "execution_count": 192,
     "metadata": {},
     "output_type": "execute_result"
    }
   ],
   "source": [
    "# make predictions\n",
    "y_pred_probs = model_7.predict(val_sentences)\n",
    "y_preds = tf.squeeze(tf.round(y_pred_probs))\n",
    "\n",
    "# calculate model results\n",
    "model_7_results = calculate_results(y_true=val_labels,\n",
    "                                    y_pred=y_preds)\n",
    "model_7_results                                    "
   ]
  },
  {
   "cell_type": "markdown",
   "metadata": {},
   "source": [
    "# All model Results"
   ]
  },
  {
   "cell_type": "code",
   "execution_count": 200,
   "metadata": {},
   "outputs": [
    {
     "data": {
      "text/html": [
       "<div>\n",
       "<style scoped>\n",
       "    .dataframe tbody tr th:only-of-type {\n",
       "        vertical-align: middle;\n",
       "    }\n",
       "\n",
       "    .dataframe tbody tr th {\n",
       "        vertical-align: top;\n",
       "    }\n",
       "\n",
       "    .dataframe thead th {\n",
       "        text-align: right;\n",
       "    }\n",
       "</style>\n",
       "<table border=\"1\" class=\"dataframe\">\n",
       "  <thead>\n",
       "    <tr style=\"text-align: right;\">\n",
       "      <th></th>\n",
       "      <th>accuracy</th>\n",
       "      <th>precision</th>\n",
       "      <th>recall</th>\n",
       "      <th>f1</th>\n",
       "    </tr>\n",
       "  </thead>\n",
       "  <tbody>\n",
       "    <tr>\n",
       "      <th>baseline</th>\n",
       "      <td>79.265092</td>\n",
       "      <td>81.113900</td>\n",
       "      <td>79.265092</td>\n",
       "      <td>78.621898</td>\n",
       "    </tr>\n",
       "    <tr>\n",
       "      <th>model_1_dense</th>\n",
       "      <td>77.559055</td>\n",
       "      <td>77.584059</td>\n",
       "      <td>77.559055</td>\n",
       "      <td>77.440925</td>\n",
       "    </tr>\n",
       "    <tr>\n",
       "      <th>model_2_LSTM</th>\n",
       "      <td>75.853018</td>\n",
       "      <td>75.848501</td>\n",
       "      <td>75.853018</td>\n",
       "      <td>75.731317</td>\n",
       "    </tr>\n",
       "    <tr>\n",
       "      <th>model_3_GRU</th>\n",
       "      <td>74.934383</td>\n",
       "      <td>74.953140</td>\n",
       "      <td>74.934383</td>\n",
       "      <td>74.942598</td>\n",
       "    </tr>\n",
       "    <tr>\n",
       "      <th>model_4_bidirectional_LSTM</th>\n",
       "      <td>74.671916</td>\n",
       "      <td>74.909160</td>\n",
       "      <td>74.671916</td>\n",
       "      <td>74.357910</td>\n",
       "    </tr>\n",
       "    <tr>\n",
       "      <th>model_5_Conv1D</th>\n",
       "      <td>74.146982</td>\n",
       "      <td>74.130702</td>\n",
       "      <td>74.146982</td>\n",
       "      <td>74.137689</td>\n",
       "    </tr>\n",
       "    <tr>\n",
       "      <th>model_6_TB_HUB</th>\n",
       "      <td>81.627297</td>\n",
       "      <td>81.943075</td>\n",
       "      <td>81.627297</td>\n",
       "      <td>81.450188</td>\n",
       "    </tr>\n",
       "    <tr>\n",
       "      <th>model_7_TB_HUB_10_percent</th>\n",
       "      <td>77.952756</td>\n",
       "      <td>77.976346</td>\n",
       "      <td>77.952756</td>\n",
       "      <td>77.841638</td>\n",
       "    </tr>\n",
       "  </tbody>\n",
       "</table>\n",
       "</div>"
      ],
      "text/plain": [
       "                             accuracy  precision     recall         f1\n",
       "baseline                    79.265092  81.113900  79.265092  78.621898\n",
       "model_1_dense               77.559055  77.584059  77.559055  77.440925\n",
       "model_2_LSTM                75.853018  75.848501  75.853018  75.731317\n",
       "model_3_GRU                 74.934383  74.953140  74.934383  74.942598\n",
       "model_4_bidirectional_LSTM  74.671916  74.909160  74.671916  74.357910\n",
       "model_5_Conv1D              74.146982  74.130702  74.146982  74.137689\n",
       "model_6_TB_HUB              81.627297  81.943075  81.627297  81.450188\n",
       "model_7_TB_HUB_10_percent   77.952756  77.976346  77.952756  77.841638"
      ]
     },
     "execution_count": 200,
     "metadata": {},
     "output_type": "execute_result"
    }
   ],
   "source": [
    "# A dataframe with results of all models\n",
    "import pandas as pd\n",
    "all_model_results = pd.DataFrame({\"baseline\": baseline_results,\n",
    "                                    \"model_1_dense\": model_1_results,\n",
    "                                    \"model_2_LSTM\": model_2_results,\n",
    "                                    \"model_3_GRU\": model_3_results,\n",
    "                                    \"model_4_bidirectional_LSTM\": model_4_results,\n",
    "                                    \"model_5_Conv1D\": model_5_results,\n",
    "                                    \"model_6_TB_HUB\": model_6_results,\n",
    "                                    \"model_7_TB_HUB_10_percent\": model_7_results})\n",
    "all_model_results = all_model_results.transpose()\n",
    "all_model_results"
   ]
  }
 ],
 "metadata": {
  "kernelspec": {
   "display_name": "tensorflow-certification",
   "language": "python",
   "name": "python3"
  },
  "language_info": {
   "codemirror_mode": {
    "name": "ipython",
    "version": 3
   },
   "file_extension": ".py",
   "mimetype": "text/x-python",
   "name": "python",
   "nbconvert_exporter": "python",
   "pygments_lexer": "ipython3",
   "version": "3.8.8"
  },
  "orig_nbformat": 4
 },
 "nbformat": 4,
 "nbformat_minor": 2
}

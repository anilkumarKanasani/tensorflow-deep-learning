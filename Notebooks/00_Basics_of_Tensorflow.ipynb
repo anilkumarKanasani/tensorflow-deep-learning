{
 "cells": [
  {
   "cell_type": "code",
   "execution_count": 1,
   "id": "a445a9a3-c3ad-4a7e-914d-b82719381cf5",
   "metadata": {},
   "outputs": [
    {
     "name": "stdout",
     "output_type": "stream",
     "text": [
      "2.8.0\n"
     ]
    }
   ],
   "source": [
    "import tensorflow as tf\n",
    "print(tf.__version__)"
   ]
  },
  {
   "cell_type": "markdown",
   "id": "d0d15c62-8f4c-4424-83f8-ea29131867bb",
   "metadata": {
    "jp-MarkdownHeadingCollapsed": true,
    "tags": []
   },
   "source": [
    "### Creating tensors with tf.constant"
   ]
  },
  {
   "cell_type": "code",
   "execution_count": 26,
   "id": "555e105e-88e3-412a-9463-314f337f6e18",
   "metadata": {},
   "outputs": [
    {
     "data": {
      "text/plain": [
       "<tf.Tensor: shape=(), dtype=float16, numpy=7.0>"
      ]
     },
     "execution_count": 26,
     "metadata": {},
     "output_type": "execute_result"
    }
   ],
   "source": [
    "\n",
    "scalar = tf.constant(value = 7, \n",
    "                     dtype = tf.float16, \n",
    "                     shape=None,\n",
    "                    name = \"First Tensor\")\n",
    "scalar"
   ]
  },
  {
   "cell_type": "code",
   "execution_count": 27,
   "id": "ef0efd13-4b58-44ee-88a0-e304c445a087",
   "metadata": {},
   "outputs": [
    {
     "data": {
      "text/plain": [
       "0"
      ]
     },
     "execution_count": 27,
     "metadata": {},
     "output_type": "execute_result"
    }
   ],
   "source": [
    "scalar.ndim"
   ]
  },
  {
   "cell_type": "code",
   "execution_count": 30,
   "id": "01812785-3bc1-4f8d-8296-5ced46a19fe5",
   "metadata": {},
   "outputs": [
    {
     "data": {
      "text/plain": [
       "<tf.Tensor: shape=(2,), dtype=int32, numpy=array([10, 10], dtype=int32)>"
      ]
     },
     "execution_count": 30,
     "metadata": {},
     "output_type": "execute_result"
    }
   ],
   "source": [
    "vector = tf.constant(value = [10, 10],\n",
    "                     dtype = None,\n",
    "                     shape = None\n",
    "                    )\n",
    "vector"
   ]
  },
  {
   "cell_type": "code",
   "execution_count": 31,
   "id": "43fa654c-7488-40d0-92a7-837cf8f0e696",
   "metadata": {},
   "outputs": [
    {
     "data": {
      "text/plain": [
       "1"
      ]
     },
     "execution_count": 31,
     "metadata": {},
     "output_type": "execute_result"
    }
   ],
   "source": [
    "vector.ndim"
   ]
  },
  {
   "cell_type": "code",
   "execution_count": 32,
   "id": "109d1c7e-1fb2-428d-ac4c-7c9f897fba76",
   "metadata": {},
   "outputs": [
    {
     "data": {
      "text/plain": [
       "<tf.Tensor: shape=(2, 2), dtype=int32, numpy=\n",
       "array([[10,  7],\n",
       "       [ 7, 10]], dtype=int32)>"
      ]
     },
     "execution_count": 32,
     "metadata": {},
     "output_type": "execute_result"
    }
   ],
   "source": [
    "matrix = tf.constant(value= [[10, 7],\n",
    "                             [7, 10]],\n",
    "                     dtype=None,\n",
    "                     shape=None\n",
    "                    )\n",
    "matrix"
   ]
  },
  {
   "cell_type": "code",
   "execution_count": 34,
   "id": "3b4a1201-dcf0-4a4f-84b4-0e655b979bfa",
   "metadata": {},
   "outputs": [
    {
     "data": {
      "text/plain": [
       "2"
      ]
     },
     "execution_count": 34,
     "metadata": {},
     "output_type": "execute_result"
    }
   ],
   "source": [
    "matrix.ndim"
   ]
  },
  {
   "cell_type": "code",
   "execution_count": 41,
   "id": "0b4738bc-cc0b-43bf-bb1b-f9dc817f83aa",
   "metadata": {},
   "outputs": [
    {
     "data": {
      "text/plain": [
       "<tf.Tensor: shape=(3, 2), dtype=float32, numpy=\n",
       "array([[10.,  7.],\n",
       "       [ 7., 10.],\n",
       "       [ 5., 32.]], dtype=float32)>"
      ]
     },
     "execution_count": 41,
     "metadata": {},
     "output_type": "execute_result"
    }
   ],
   "source": [
    "another_matrix = tf.constant(value=[[10, 7],\n",
    "                                     [7, 10],\n",
    "                                    [5, 32]\n",
    "                                   ],\n",
    "                             dtype=tf.float32,\n",
    "                             shape=None\n",
    "                            )\n",
    "another_matrix"
   ]
  },
  {
   "cell_type": "code",
   "execution_count": 40,
   "id": "e5552971-4962-4752-96ef-851088553a61",
   "metadata": {},
   "outputs": [
    {
     "data": {
      "text/plain": [
       "2"
      ]
     },
     "execution_count": 40,
     "metadata": {},
     "output_type": "execute_result"
    }
   ],
   "source": [
    "another_matrix.ndim"
   ]
  },
  {
   "cell_type": "code",
   "execution_count": 44,
   "id": "f9d00612-1c81-4050-b1b7-b25bfedc4be4",
   "metadata": {},
   "outputs": [
    {
     "data": {
      "text/plain": [
       "<tf.Tensor: shape=(3, 2, 3), dtype=int32, numpy=\n",
       "array([[[ 1,  2,  3],\n",
       "        [ 4,  5,  6]],\n",
       "\n",
       "       [[ 7,  8,  9],\n",
       "        [10, 11, 12]],\n",
       "\n",
       "       [[13, 14, 15],\n",
       "        [16, 17, 18]]], dtype=int32)>"
      ]
     },
     "execution_count": 44,
     "metadata": {},
     "output_type": "execute_result"
    }
   ],
   "source": [
    "tensor = tf.constant(value=[[[1, 2, 3],\n",
    "                            [4, 5, 6]],\n",
    "\n",
    "                           [[7, 8, 9],\n",
    "                            [10, 11, 12]],\n",
    "\n",
    "                           [[13, 14, 15],\n",
    "                            [16, 17, 18]]],\n",
    "                     dtype=None,\n",
    "                     shape=None\n",
    "                    )\n",
    "tensor\n"
   ]
  },
  {
   "cell_type": "code",
   "execution_count": 47,
   "id": "bf32e76c-3060-4c6b-9493-9e0cf7d75cc5",
   "metadata": {},
   "outputs": [
    {
     "data": {
      "text/plain": [
       "<tf.Tensor: shape=(), dtype=int32, numpy=7>"
      ]
     },
     "execution_count": 47,
     "metadata": {},
     "output_type": "execute_result"
    }
   ],
   "source": [
    "tf.convert_to_tensor(7)"
   ]
  },
  {
   "cell_type": "markdown",
   "id": "506a6e9a-24b7-4a37-96ad-73c9e61202a0",
   "metadata": {
    "jp-MarkdownHeadingCollapsed": true,
    "tags": []
   },
   "source": [
    "### Creating tensors with tf.Variable"
   ]
  },
  {
   "cell_type": "code",
   "execution_count": 71,
   "id": "0677fdbc-da93-4ad3-a6be-af558462c418",
   "metadata": {},
   "outputs": [
    {
     "data": {
      "text/plain": [
       "<tf.Tensor: shape=(2,), dtype=int32, numpy=array([1, 2], dtype=int32)>"
      ]
     },
     "execution_count": 71,
     "metadata": {},
     "output_type": "execute_result"
    }
   ],
   "source": [
    "a = tf.constant([1, 2])\n",
    "a"
   ]
  },
  {
   "cell_type": "code",
   "execution_count": 72,
   "id": "417de436-2257-4f18-846c-cd2366cece4a",
   "metadata": {},
   "outputs": [
    {
     "data": {
      "text/plain": [
       "<tf.Variable 'Variable:0' shape=(2,) dtype=int32, numpy=array([1, 2], dtype=int32)>"
      ]
     },
     "execution_count": 72,
     "metadata": {},
     "output_type": "execute_result"
    }
   ],
   "source": [
    "b = tf.Variable([1, 2])\n",
    "b"
   ]
  },
  {
   "cell_type": "code",
   "execution_count": 76,
   "id": "9a2dca1b-2193-4ba7-8a61-9dad3761a7a6",
   "metadata": {},
   "outputs": [
    {
     "name": "stdout",
     "output_type": "stream",
     "text": [
      "tf.Tensor([ True  True], shape=(2,), dtype=bool)\n",
      "tf.Tensor(True, shape=(), dtype=bool)\n",
      "tf.Tensor(True, shape=(), dtype=bool)\n"
     ]
    }
   ],
   "source": [
    "print(a == b)\n",
    "print(a[0] == b[0])\n",
    "print(a[1] == b[1])"
   ]
  },
  {
   "cell_type": "code",
   "execution_count": 77,
   "id": "485959f5-7ca9-4a39-b18f-3a2b7eb57a9d",
   "metadata": {},
   "outputs": [
    {
     "data": {
      "text/plain": [
       "<tf.Variable 'Variable:0' shape=(2,) dtype=int32, numpy=array([100,   2], dtype=int32)>"
      ]
     },
     "execution_count": 77,
     "metadata": {},
     "output_type": "execute_result"
    }
   ],
   "source": [
    "# b[0] = 7\n",
    "b[0].assign(100)\n",
    "b"
   ]
  },
  {
   "cell_type": "markdown",
   "id": "3a9e8b49-8c01-4e41-876b-70cb40944f50",
   "metadata": {
    "jp-MarkdownHeadingCollapsed": true,
    "tags": []
   },
   "source": [
    "### Creating Random tensors"
   ]
  },
  {
   "cell_type": "code",
   "execution_count": 136,
   "id": "dc782df5-6d9a-45a2-a444-091933da4df8",
   "metadata": {},
   "outputs": [
    {
     "data": {
      "text/plain": [
       "<tf.Tensor: shape=(3, 2), dtype=float32, numpy=\n",
       "array([[-0.7565803 , -0.06854702],\n",
       "       [ 0.07595026, -1.2573844 ],\n",
       "       [-0.23193763, -1.8107855 ]], dtype=float32)>"
      ]
     },
     "execution_count": 136,
     "metadata": {},
     "output_type": "execute_result"
    }
   ],
   "source": [
    "random_1 = tf.random.Generator.from_seed(seed=42)\n",
    "random_1 = random_1.normal(shape=(3,2))\n",
    "random_1"
   ]
  },
  {
   "cell_type": "code",
   "execution_count": 137,
   "id": "2c10fcfb-489b-40d1-88c8-715f0359a35c",
   "metadata": {},
   "outputs": [
    {
     "data": {
      "text/plain": [
       "<tf.Tensor: shape=(3, 2), dtype=float32, numpy=\n",
       "array([[-0.7565803 , -0.06854702],\n",
       "       [ 0.07595026, -1.2573844 ],\n",
       "       [-0.23193763, -1.8107855 ]], dtype=float32)>"
      ]
     },
     "execution_count": 137,
     "metadata": {},
     "output_type": "execute_result"
    }
   ],
   "source": [
    "random_2 =tf.random.Generator.from_seed(seed=42)\n",
    "random_2 = random_2.normal(shape=(3,2))\n",
    "random_2"
   ]
  },
  {
   "cell_type": "code",
   "execution_count": 138,
   "id": "4acfb00a-a2f0-4102-acd8-7a6d9c6fbc95",
   "metadata": {},
   "outputs": [
    {
     "data": {
      "text/plain": [
       "<tf.Tensor: shape=(3, 2), dtype=bool, numpy=\n",
       "array([[ True,  True],\n",
       "       [ True,  True],\n",
       "       [ True,  True]])>"
      ]
     },
     "execution_count": 138,
     "metadata": {},
     "output_type": "execute_result"
    }
   ],
   "source": [
    "random_1 == random_2"
   ]
  },
  {
   "cell_type": "markdown",
   "id": "e48d97f6-0cfc-484d-bd5d-e4e4a87e31f9",
   "metadata": {
    "jp-MarkdownHeadingCollapsed": true,
    "tags": []
   },
   "source": [
    "### Shuffle tensors (your data) the order of elements in a tensor"
   ]
  },
  {
   "cell_type": "code",
   "execution_count": 209,
   "id": "1fcf6029-be0a-49dd-b50d-8be953c7fdea",
   "metadata": {},
   "outputs": [
    {
     "data": {
      "text/plain": [
       "<tf.Tensor: shape=(3, 2), dtype=int32, numpy=\n",
       "array([[10, 32],\n",
       "       [ 3,  4],\n",
       "       [ 7,  8]], dtype=int32)>"
      ]
     },
     "execution_count": 209,
     "metadata": {},
     "output_type": "execute_result"
    }
   ],
   "source": [
    "a = tf.constant([[10 , 32],\n",
    "           [ 3, 4 ],\n",
    "           [7, 8 ]]\n",
    "           )\n",
    "a"
   ]
  },
  {
   "cell_type": "code",
   "execution_count": 236,
   "id": "9719fbd6-705e-4350-b175-680366f190d1",
   "metadata": {},
   "outputs": [
    {
     "data": {
      "text/plain": [
       "<tf.Tensor: shape=(3, 2), dtype=int32, numpy=\n",
       "array([[ 7,  8],\n",
       "       [ 3,  4],\n",
       "       [10, 32]], dtype=int32)>"
      ]
     },
     "execution_count": 236,
     "metadata": {},
     "output_type": "execute_result"
    }
   ],
   "source": [
    "tf.random.set_seed(2)\n",
    "tf.random.shuffle(a, seed=42)"
   ]
  },
  {
   "cell_type": "code",
   "execution_count": 3,
   "id": "70a42412-3fe1-48eb-8087-9206ada99e8b",
   "metadata": {},
   "outputs": [],
   "source": [
    "import tensorflow as tf"
   ]
  },
  {
   "cell_type": "code",
   "execution_count": 4,
   "id": "b0e6f72e-2a01-46eb-b970-5d2796d1f48c",
   "metadata": {},
   "outputs": [
    {
     "data": {
      "text/plain": [
       "'2.8.0'"
      ]
     },
     "execution_count": 4,
     "metadata": {},
     "output_type": "execute_result"
    }
   ],
   "source": [
    "tf.__version__"
   ]
  },
  {
   "cell_type": "code",
   "execution_count": 91,
   "id": "cbd97d34-94a2-4a8f-9f07-b7290e128e07",
   "metadata": {},
   "outputs": [],
   "source": []
  },
  {
   "cell_type": "code",
   "execution_count": 5,
   "id": "26ee91fa-caad-481f-9268-67b4f03fbe72",
   "metadata": {},
   "outputs": [
    {
     "name": "stdout",
     "output_type": "stream",
     "text": [
      "tf.Tensor([0.5380393], shape=(1,), dtype=float32)\n",
      "tf.Tensor([0.3253647], shape=(1,), dtype=float32)\n"
     ]
    },
    {
     "name": "stderr",
     "output_type": "stream",
     "text": [
      "2023-06-01 18:46:06.495060: I tensorflow/core/platform/cpu_feature_guard.cc:151] This TensorFlow binary is optimized with oneAPI Deep Neural Network Library (oneDNN) to use the following CPU instructions in performance-critical operations:  AVX2 FMA\n",
      "To enable them in other operations, rebuild TensorFlow with the appropriate compiler flags.\n"
     ]
    }
   ],
   "source": [
    "tf.random.set_seed(1234)\n",
    "print(tf.random.uniform([1]))  # generates 'A1'\n",
    "print(tf.random.uniform([1]))  # generates 'A2'"
   ]
  },
  {
   "cell_type": "code",
   "execution_count": 45,
   "id": "b9ecbd41-216a-48af-b928-2a87dcd4b646",
   "metadata": {},
   "outputs": [
    {
     "name": "stdout",
     "output_type": "stream",
     "text": [
      "(<tf.Tensor: shape=(1,), dtype=float32, numpy=array([0.13047123], dtype=float32)>, <tf.Tensor: shape=(1,), dtype=float32, numpy=array([0.1689806], dtype=float32)>)\n",
      "(<tf.Tensor: shape=(1,), dtype=float32, numpy=array([0.13047123], dtype=float32)>, <tf.Tensor: shape=(1,), dtype=float32, numpy=array([0.1689806], dtype=float32)>)\n"
     ]
    }
   ],
   "source": [
    "@tf.function\n",
    "def a():\n",
    "    x1 = tf.random.uniform([1])\n",
    "    x2 = tf.random.uniform([1])\n",
    "    return x1, x2\n",
    "\n",
    "@tf.function\n",
    "def g():\n",
    "    x1 = tf.random.uniform([1])\n",
    "    x2 = tf.random.uniform([1])\n",
    "    return x1, x2\n",
    "\n",
    "print(a())\n",
    "print(g())\n"
   ]
  },
  {
   "cell_type": "markdown",
   "id": "d051d049-edd0-4212-bb36-8145b88f5c4b",
   "metadata": {},
   "source": [
    "#### Other ways to make Tensors ( Numpy arrays )"
   ]
  },
  {
   "cell_type": "code",
   "execution_count": 49,
   "id": "6dc03a57-f403-4501-9edc-c742ae913031",
   "metadata": {},
   "outputs": [
    {
     "data": {
      "text/plain": [
       "<tf.Tensor: shape=(7, 7), dtype=int32, numpy=\n",
       "array([[1, 1, 1, 1, 1, 1, 1],\n",
       "       [1, 1, 1, 1, 1, 1, 1],\n",
       "       [1, 1, 1, 1, 1, 1, 1],\n",
       "       [1, 1, 1, 1, 1, 1, 1],\n",
       "       [1, 1, 1, 1, 1, 1, 1],\n",
       "       [1, 1, 1, 1, 1, 1, 1],\n",
       "       [1, 1, 1, 1, 1, 1, 1]], dtype=int32)>"
      ]
     },
     "execution_count": 49,
     "metadata": {},
     "output_type": "execute_result"
    }
   ],
   "source": [
    "tf.ones(shape = [7,7], dtype=tf.int32)"
   ]
  },
  {
   "cell_type": "code",
   "execution_count": 50,
   "id": "8cccc3b8-b230-47e6-aa2a-3f147f935e90",
   "metadata": {},
   "outputs": [
    {
     "data": {
      "text/plain": [
       "<tf.Tensor: shape=(7, 7), dtype=int32, numpy=\n",
       "array([[0, 0, 0, 0, 0, 0, 0],\n",
       "       [0, 0, 0, 0, 0, 0, 0],\n",
       "       [0, 0, 0, 0, 0, 0, 0],\n",
       "       [0, 0, 0, 0, 0, 0, 0],\n",
       "       [0, 0, 0, 0, 0, 0, 0],\n",
       "       [0, 0, 0, 0, 0, 0, 0],\n",
       "       [0, 0, 0, 0, 0, 0, 0]], dtype=int32)>"
      ]
     },
     "execution_count": 50,
     "metadata": {},
     "output_type": "execute_result"
    }
   ],
   "source": [
    "tf.zeros(shape = [7,7], dtype=tf.int32)"
   ]
  },
  {
   "cell_type": "code",
   "execution_count": 54,
   "id": "6882d785-aa7d-4011-8be0-501665d62def",
   "metadata": {},
   "outputs": [
    {
     "data": {
      "text/plain": [
       "array([7, 7])"
      ]
     },
     "execution_count": 54,
     "metadata": {},
     "output_type": "execute_result"
    }
   ],
   "source": [
    "import numpy as np\n",
    "\n",
    "np_a = np.array([7,7])\n",
    "np_a"
   ]
  },
  {
   "cell_type": "code",
   "execution_count": 56,
   "id": "fc31ae59-c7aa-4eca-bf0a-b795bcb6d2bc",
   "metadata": {},
   "outputs": [
    {
     "data": {
      "text/plain": [
       "<tf.Tensor: shape=(2,), dtype=int64, numpy=array([7, 7])>"
      ]
     },
     "execution_count": 56,
     "metadata": {},
     "output_type": "execute_result"
    }
   ],
   "source": [
    "tf_a = tf.constant(np_a)\n",
    "tf_a"
   ]
  },
  {
   "cell_type": "markdown",
   "id": "b8511521-41a1-4f06-b093-21f2aface0c2",
   "metadata": {
    "jp-MarkdownHeadingCollapsed": true,
    "tags": []
   },
   "source": [
    "### Getting informations from Tensors (tensor attributes)"
   ]
  },
  {
   "cell_type": "markdown",
   "id": "17d7455c-f4cc-4b24-a9b9-8e1d815f437a",
   "metadata": {},
   "source": [
    "* Shape\n",
    "* Rank (ndim)\n",
    "* Size\n",
    "* data type"
   ]
  },
  {
   "cell_type": "markdown",
   "id": "e67850c0-42c0-430f-95e4-0d3fff19e936",
   "metadata": {
    "jp-MarkdownHeadingCollapsed": true,
    "tags": []
   },
   "source": [
    "### Indexing a Tensor"
   ]
  },
  {
   "cell_type": "code",
   "execution_count": 3,
   "id": "97cf0ca2-7269-4ada-bee0-312220ae3f3f",
   "metadata": {},
   "outputs": [
    {
     "data": {
      "text/plain": [
       "<tf.Tensor: shape=(2, 3, 4, 5), dtype=float32, numpy=\n",
       "array([[[[0.5537261 , 0.55138767, 0.4825313 , 0.34886026, 0.04898632],\n",
       "         [0.8496057 , 0.46119344, 0.6366912 , 0.97059584, 0.699932  ],\n",
       "         [0.2782017 , 0.36532962, 0.8340776 , 0.25935447, 0.6068921 ],\n",
       "         [0.52604556, 0.7735275 , 0.49318302, 0.41069555, 0.700961  ]],\n",
       "\n",
       "        [[0.61531985, 0.31299174, 0.34841406, 0.5465218 , 0.10421395],\n",
       "         [0.91221726, 0.40148866, 0.65771747, 0.3995316 , 0.7634808 ],\n",
       "         [0.07165873, 0.06656504, 0.24796593, 0.06011581, 0.6530814 ],\n",
       "         [0.7165873 , 0.65184045, 0.06779146, 0.34036708, 0.22258663]],\n",
       "\n",
       "        [[0.9053707 , 0.5259954 , 0.06761348, 0.5881655 , 0.29354393],\n",
       "         [0.15228856, 0.28136277, 0.97459424, 0.8701937 , 0.58489287],\n",
       "         [0.9386697 , 0.05878758, 0.8108885 , 0.08377218, 0.82529044],\n",
       "         [0.92501354, 0.5047239 , 0.9390217 , 0.79709923, 0.38528752]]],\n",
       "\n",
       "\n",
       "       [[[0.94280183, 0.17443287, 0.9585594 , 0.8718554 , 0.93480396],\n",
       "         [0.14864147, 0.7992587 , 0.89909947, 0.03055727, 0.6910484 ],\n",
       "         [0.75261855, 0.89434767, 0.87134755, 0.31486845, 0.5465621 ],\n",
       "         [0.6590246 , 0.15261829, 0.57915604, 0.9122069 , 0.37865877]],\n",
       "\n",
       "        [[0.02358174, 0.52492964, 0.5275856 , 0.958987  , 0.45010173],\n",
       "         [0.5516496 , 0.52863276, 0.36310577, 0.5711905 , 0.3255638 ],\n",
       "         [0.3745196 , 0.6369431 , 0.59271   , 0.78978217, 0.03887129],\n",
       "         [0.6687236 , 0.8709078 , 0.11060834, 0.54481745, 0.30029154]],\n",
       "\n",
       "        [[0.8125454 , 0.971043  , 0.6784017 , 0.65039766, 0.5883188 ],\n",
       "         [0.6298442 , 0.7473053 , 0.21845806, 0.9966097 , 0.0235076 ],\n",
       "         [0.26930344, 0.18096101, 0.97063065, 0.8383583 , 0.69528246],\n",
       "         [0.23526049, 0.14590907, 0.9443852 , 0.5006577 , 0.7391907 ]]]],\n",
       "      dtype=float32)>"
      ]
     },
     "execution_count": 3,
     "metadata": {},
     "output_type": "execute_result"
    }
   ],
   "source": [
    "# Get first two elements from each dimention of a tensor\n",
    "\n",
    "a = tf.random.uniform(shape=(2,3,4,5))\n",
    "a"
   ]
  },
  {
   "cell_type": "code",
   "execution_count": 28,
   "id": "2700566f-4592-41d9-bf80-1b345c706de5",
   "metadata": {},
   "outputs": [
    {
     "name": "stdout",
     "output_type": "stream",
     "text": [
      "[0.5537261  0.55138767]\n",
      "[0.8496057  0.46119344]\n",
      "[0.2782017  0.36532962]\n",
      "[0.52604556 0.7735275 ]\n",
      "[0.61531985 0.31299174]\n",
      "[0.91221726 0.40148866]\n",
      "[0.07165873 0.06656504]\n",
      "[0.7165873  0.65184045]\n",
      "[0.9053707 0.5259954]\n",
      "[0.15228856 0.28136277]\n",
      "[0.9386697  0.05878758]\n",
      "[0.92501354 0.5047239 ]\n",
      "[0.94280183 0.17443287]\n",
      "[0.14864147 0.7992587 ]\n",
      "[0.75261855 0.89434767]\n",
      "[0.6590246  0.15261829]\n",
      "[0.02358174 0.52492964]\n",
      "[0.5516496  0.52863276]\n",
      "[0.3745196 0.6369431]\n",
      "[0.6687236 0.8709078]\n",
      "[0.8125454 0.971043 ]\n",
      "[0.6298442 0.7473053]\n",
      "[0.26930344 0.18096101]\n",
      "[0.23526049 0.14590907]\n"
     ]
    }
   ],
   "source": [
    "for i in range(0,2):\n",
    "    for j in range(0,3):\n",
    "        for k in range(0,4):\n",
    "            print(a[i][j][k][0:2].numpy())"
   ]
  },
  {
   "cell_type": "code",
   "execution_count": 31,
   "id": "19b14d46-7f94-42b7-b5fd-3b53ac0a0ec3",
   "metadata": {},
   "outputs": [
    {
     "data": {
      "text/plain": [
       "array([[[[0.5537261 , 0.55138767],\n",
       "         [0.8496057 , 0.46119344]],\n",
       "\n",
       "        [[0.61531985, 0.31299174],\n",
       "         [0.91221726, 0.40148866]]],\n",
       "\n",
       "\n",
       "       [[[0.94280183, 0.17443287],\n",
       "         [0.14864147, 0.7992587 ]],\n",
       "\n",
       "        [[0.02358174, 0.52492964],\n",
       "         [0.5516496 , 0.52863276]]]], dtype=float32)"
      ]
     },
     "execution_count": 31,
     "metadata": {},
     "output_type": "execute_result"
    }
   ],
   "source": [
    "a[:2,:2,:2,:2].numpy()"
   ]
  },
  {
   "cell_type": "code",
   "execution_count": 32,
   "id": "87b442be-5957-4973-8b8c-7f2b0c5e0e56",
   "metadata": {},
   "outputs": [
    {
     "data": {
      "text/plain": [
       "<tf.Tensor: shape=(1, 1, 1, 5), dtype=float32, numpy=\n",
       "array([[[[0.5537261 , 0.55138767, 0.4825313 , 0.34886026, 0.04898632]]]],\n",
       "      dtype=float32)>"
      ]
     },
     "execution_count": 32,
     "metadata": {},
     "output_type": "execute_result"
    }
   ],
   "source": [
    "a[:1,:1,:1,:]"
   ]
  },
  {
   "cell_type": "code",
   "execution_count": 47,
   "id": "cd7b6cee-077c-4580-a3f8-b622dfd006c4",
   "metadata": {},
   "outputs": [
    {
     "data": {
      "text/plain": [
       "<tf.Tensor: shape=(2, 2, 3), dtype=float32, numpy=\n",
       "array([[[0.85226274, 0.84929955, 0.13429987],\n",
       "        [0.5024353 , 0.81800985, 0.41620457]],\n",
       "\n",
       "       [[0.7848079 , 0.45099068, 0.9126837 ],\n",
       "        [0.618937  , 0.84996045, 0.98594916]]], dtype=float32)>"
      ]
     },
     "execution_count": 47,
     "metadata": {},
     "output_type": "execute_result"
    }
   ],
   "source": [
    "b = tf.random.uniform(shape=(2,2,3))\n",
    "b"
   ]
  },
  {
   "cell_type": "code",
   "execution_count": 55,
   "id": "cbd5c051-0fce-4fbe-91ad-24ccccd1f9e1",
   "metadata": {},
   "outputs": [
    {
     "data": {
      "text/plain": [
       "<tf.Tensor: shape=(2, 2), dtype=float32, numpy=\n",
       "array([[0.13429987, 0.41620457],\n",
       "       [0.9126837 , 0.98594916]], dtype=float32)>"
      ]
     },
     "execution_count": 55,
     "metadata": {},
     "output_type": "execute_result"
    }
   ],
   "source": [
    "b[:,:,-1]"
   ]
  },
  {
   "cell_type": "markdown",
   "id": "eea22333-3ad9-43f5-a6e3-07a703631310",
   "metadata": {
    "jp-MarkdownHeadingCollapsed": true,
    "tags": []
   },
   "source": [
    "### Adding extra dimension to a given tensor (Reshaping)"
   ]
  },
  {
   "cell_type": "code",
   "execution_count": 56,
   "id": "3fcb1d68-7cfd-4639-a94f-f027a06fa2fc",
   "metadata": {},
   "outputs": [
    {
     "data": {
      "text/plain": [
       "<tf.Tensor: shape=(2, 2, 3, 1), dtype=float32, numpy=\n",
       "array([[[[0.85226274],\n",
       "         [0.84929955],\n",
       "         [0.13429987]],\n",
       "\n",
       "        [[0.5024353 ],\n",
       "         [0.81800985],\n",
       "         [0.41620457]]],\n",
       "\n",
       "\n",
       "       [[[0.7848079 ],\n",
       "         [0.45099068],\n",
       "         [0.9126837 ]],\n",
       "\n",
       "        [[0.618937  ],\n",
       "         [0.84996045],\n",
       "         [0.98594916]]]], dtype=float32)>"
      ]
     },
     "execution_count": 56,
     "metadata": {},
     "output_type": "execute_result"
    }
   ],
   "source": [
    "b[...,tf.newaxis]"
   ]
  },
  {
   "cell_type": "code",
   "execution_count": 61,
   "id": "a668c221-8730-4ea4-9506-fddb074c96d0",
   "metadata": {},
   "outputs": [
    {
     "data": {
      "text/plain": [
       "<tf.Tensor: shape=(2, 2, 1, 3), dtype=float32, numpy=\n",
       "array([[[[0.85226274, 0.84929955, 0.13429987]],\n",
       "\n",
       "        [[0.5024353 , 0.81800985, 0.41620457]]],\n",
       "\n",
       "\n",
       "       [[[0.7848079 , 0.45099068, 0.9126837 ]],\n",
       "\n",
       "        [[0.618937  , 0.84996045, 0.98594916]]]], dtype=float32)>"
      ]
     },
     "execution_count": 61,
     "metadata": {},
     "output_type": "execute_result"
    }
   ],
   "source": [
    "b[:,:,tf.newaxis, :]"
   ]
  },
  {
   "cell_type": "code",
   "execution_count": 69,
   "id": "861d1eac-6f7b-4cd3-99a1-1ec6ac0a3df7",
   "metadata": {},
   "outputs": [
    {
     "data": {
      "text/plain": [
       "<tf.Tensor: shape=(2, 2, 3, 1), dtype=float32, numpy=\n",
       "array([[[[0.85226274],\n",
       "         [0.84929955],\n",
       "         [0.13429987]],\n",
       "\n",
       "        [[0.5024353 ],\n",
       "         [0.81800985],\n",
       "         [0.41620457]]],\n",
       "\n",
       "\n",
       "       [[[0.7848079 ],\n",
       "         [0.45099068],\n",
       "         [0.9126837 ]],\n",
       "\n",
       "        [[0.618937  ],\n",
       "         [0.84996045],\n",
       "         [0.98594916]]]], dtype=float32)>"
      ]
     },
     "execution_count": 69,
     "metadata": {},
     "output_type": "execute_result"
    }
   ],
   "source": [
    "b[:,:,:,tf.newaxis]"
   ]
  },
  {
   "cell_type": "code",
   "execution_count": 68,
   "id": "2bd5463c-ac0f-47bd-b6cb-189782b08d89",
   "metadata": {},
   "outputs": [
    {
     "data": {
      "text/plain": [
       "<tf.Tensor: shape=(2, 2, 3, 1), dtype=float32, numpy=\n",
       "array([[[[0.85226274],\n",
       "         [0.84929955],\n",
       "         [0.13429987]],\n",
       "\n",
       "        [[0.5024353 ],\n",
       "         [0.81800985],\n",
       "         [0.41620457]]],\n",
       "\n",
       "\n",
       "       [[[0.7848079 ],\n",
       "         [0.45099068],\n",
       "         [0.9126837 ]],\n",
       "\n",
       "        [[0.618937  ],\n",
       "         [0.84996045],\n",
       "         [0.98594916]]]], dtype=float32)>"
      ]
     },
     "execution_count": 68,
     "metadata": {},
     "output_type": "execute_result"
    }
   ],
   "source": [
    "tf.expand_dims(b, axis=-1)"
   ]
  },
  {
   "cell_type": "code",
   "execution_count": 72,
   "id": "af5e1959-64f3-40bf-a5b8-7db447ce9742",
   "metadata": {},
   "outputs": [
    {
     "data": {
      "text/plain": [
       "<tf.Tensor: shape=(2, 2, 3, 1), dtype=float32, numpy=\n",
       "array([[[[0.85226274],\n",
       "         [0.84929955],\n",
       "         [0.13429987]],\n",
       "\n",
       "        [[0.5024353 ],\n",
       "         [0.81800985],\n",
       "         [0.41620457]]],\n",
       "\n",
       "\n",
       "       [[[0.7848079 ],\n",
       "         [0.45099068],\n",
       "         [0.9126837 ]],\n",
       "\n",
       "        [[0.618937  ],\n",
       "         [0.84996045],\n",
       "         [0.98594916]]]], dtype=float32)>"
      ]
     },
     "execution_count": 72,
     "metadata": {},
     "output_type": "execute_result"
    }
   ],
   "source": [
    "tf.reshape(b, shape=(2,2,3,1))"
   ]
  },
  {
   "cell_type": "markdown",
   "id": "51fb709c-d69a-4d6e-88a0-de20f1bc75a4",
   "metadata": {
    "jp-MarkdownHeadingCollapsed": true,
    "tags": []
   },
   "source": [
    "### Manipulating tensors (Tensor Operations)"
   ]
  },
  {
   "cell_type": "markdown",
   "id": "3e9c5252-b850-44ff-a339-6b9d3ab39d33",
   "metadata": {
    "jp-MarkdownHeadingCollapsed": true,
    "tags": []
   },
   "source": [
    "#### Element wise operations"
   ]
  },
  {
   "cell_type": "code",
   "execution_count": 74,
   "id": "152bb50c-4ea9-4ad7-b708-74a14ff6a8e6",
   "metadata": {},
   "outputs": [
    {
     "data": {
      "text/plain": [
       "<tf.Tensor: shape=(2, 2), dtype=float32, numpy=\n",
       "array([[0.2841221 , 0.63239515],\n",
       "       [0.7770313 , 0.7959813 ]], dtype=float32)>"
      ]
     },
     "execution_count": 74,
     "metadata": {},
     "output_type": "execute_result"
    }
   ],
   "source": [
    "a = tf.random.uniform(shape=(2,2))\n",
    "a"
   ]
  },
  {
   "cell_type": "code",
   "execution_count": 75,
   "id": "086930e2-d090-494d-934c-07ff022fdcfd",
   "metadata": {},
   "outputs": [
    {
     "data": {
      "text/plain": [
       "<tf.Tensor: shape=(2, 2), dtype=float32, numpy=\n",
       "array([[7.284122 , 7.6323953],\n",
       "       [7.7770314, 7.7959814]], dtype=float32)>"
      ]
     },
     "execution_count": 75,
     "metadata": {},
     "output_type": "execute_result"
    }
   ],
   "source": [
    "a+7"
   ]
  },
  {
   "cell_type": "code",
   "execution_count": 76,
   "id": "446a3f67-e1f1-423c-84c2-b0fd88f52994",
   "metadata": {},
   "outputs": [
    {
     "data": {
      "text/plain": [
       "<tf.Tensor: shape=(2, 2), dtype=float32, numpy=\n",
       "array([[1.9888548, 4.426766 ],\n",
       "       [5.439219 , 5.571869 ]], dtype=float32)>"
      ]
     },
     "execution_count": 76,
     "metadata": {},
     "output_type": "execute_result"
    }
   ],
   "source": [
    "a*7"
   ]
  },
  {
   "cell_type": "code",
   "execution_count": 77,
   "id": "b55f1e56-37d0-4ca5-aa7f-e7017d6c1485",
   "metadata": {},
   "outputs": [
    {
     "data": {
      "text/plain": [
       "<tf.Tensor: shape=(2, 2), dtype=float32, numpy=\n",
       "array([[-6.715878 , -6.3676047],\n",
       "       [-6.2229686, -6.2040186]], dtype=float32)>"
      ]
     },
     "execution_count": 77,
     "metadata": {},
     "output_type": "execute_result"
    }
   ],
   "source": [
    "a-7"
   ]
  },
  {
   "cell_type": "code",
   "execution_count": 79,
   "id": "45d232d3-2eb6-4d17-bff9-92560772774e",
   "metadata": {},
   "outputs": [
    {
     "data": {
      "text/plain": [
       "<tf.Tensor: shape=(2, 2), dtype=float32, numpy=\n",
       "array([[7.284122 , 7.6323953],\n",
       "       [7.7770314, 7.7959814]], dtype=float32)>"
      ]
     },
     "execution_count": 79,
     "metadata": {},
     "output_type": "execute_result"
    }
   ],
   "source": [
    "tf.add(a,7)"
   ]
  },
  {
   "cell_type": "code",
   "execution_count": 80,
   "id": "0cfe7c1b-8952-4836-abf4-841a46588cb2",
   "metadata": {},
   "outputs": [
    {
     "data": {
      "text/plain": [
       "<tf.Tensor: shape=(2, 2), dtype=float32, numpy=\n",
       "array([[1.9888548, 4.426766 ],\n",
       "       [5.439219 , 5.571869 ]], dtype=float32)>"
      ]
     },
     "execution_count": 80,
     "metadata": {},
     "output_type": "execute_result"
    }
   ],
   "source": [
    "tf.multiply(a,7)"
   ]
  },
  {
   "cell_type": "code",
   "execution_count": 81,
   "id": "d84729e6-454e-419c-92b5-c72ab6063769",
   "metadata": {},
   "outputs": [
    {
     "data": {
      "text/plain": [
       "<tf.Tensor: shape=(2, 2), dtype=float32, numpy=\n",
       "array([[-6.715878 , -6.3676047],\n",
       "       [-6.2229686, -6.2040186]], dtype=float32)>"
      ]
     },
     "execution_count": 81,
     "metadata": {},
     "output_type": "execute_result"
    }
   ],
   "source": [
    "tf.subtract(a,7)"
   ]
  },
  {
   "cell_type": "markdown",
   "id": "9960773c-e56b-496a-bc5b-258d7917467b",
   "metadata": {
    "jp-MarkdownHeadingCollapsed": true,
    "tags": []
   },
   "source": [
    "#### Matrix Multiplication"
   ]
  },
  {
   "cell_type": "code",
   "execution_count": 84,
   "id": "00a647fa-1fd5-4b5c-892a-54bf1daea120",
   "metadata": {},
   "outputs": [
    {
     "data": {
      "text/plain": [
       "<tf.Tensor: shape=(3, 3), dtype=int32, numpy=\n",
       "array([[1, 2, 5],\n",
       "       [7, 2, 1],\n",
       "       [3, 3, 3]], dtype=int32)>"
      ]
     },
     "execution_count": 84,
     "metadata": {},
     "output_type": "execute_result"
    }
   ],
   "source": [
    "a = tf.constant([[1,2,5],\n",
    "                 [7,2,1],\n",
    "                 [3,3,3]\n",
    "                ])\n",
    "a"
   ]
  },
  {
   "cell_type": "code",
   "execution_count": 85,
   "id": "464b3b7b-e2fd-4b4a-99a6-a184344b99b2",
   "metadata": {},
   "outputs": [
    {
     "data": {
      "text/plain": [
       "<tf.Tensor: shape=(3, 2), dtype=int32, numpy=\n",
       "array([[3, 5],\n",
       "       [6, 7],\n",
       "       [1, 8]], dtype=int32)>"
      ]
     },
     "execution_count": 85,
     "metadata": {},
     "output_type": "execute_result"
    }
   ],
   "source": [
    "b = tf.constant([[3,5],\n",
    "                 [6,7],\n",
    "                 [1,8]\n",
    "                ])\n",
    "b"
   ]
  },
  {
   "cell_type": "code",
   "execution_count": 86,
   "id": "5aa1336d-453c-4407-a645-adcd0f2b054b",
   "metadata": {},
   "outputs": [
    {
     "data": {
      "text/plain": [
       "<tf.Tensor: shape=(3, 2), dtype=int32, numpy=\n",
       "array([[20, 59],\n",
       "       [34, 57],\n",
       "       [30, 60]], dtype=int32)>"
      ]
     },
     "execution_count": 86,
     "metadata": {},
     "output_type": "execute_result"
    }
   ],
   "source": [
    "tf.matmul(a,b)"
   ]
  },
  {
   "cell_type": "code",
   "execution_count": 89,
   "id": "a5c0b0ca-869a-46df-b093-a3aedcb777b7",
   "metadata": {},
   "outputs": [
    {
     "data": {
      "text/plain": [
       "<tf.Tensor: shape=(3, 2), dtype=int32, numpy=\n",
       "array([[20, 59],\n",
       "       [34, 57],\n",
       "       [30, 60]], dtype=int32)>"
      ]
     },
     "execution_count": 89,
     "metadata": {},
     "output_type": "execute_result"
    }
   ],
   "source": [
    "a@b  # python way of matmul"
   ]
  },
  {
   "cell_type": "code",
   "execution_count": 90,
   "id": "704d8bfb-48dc-4a08-bf13-c8beb5b3482a",
   "metadata": {},
   "outputs": [
    {
     "data": {
      "text/plain": [
       "<tf.Tensor: shape=(3, 3), dtype=int32, numpy=\n",
       "array([[1, 7, 3],\n",
       "       [2, 2, 3],\n",
       "       [5, 1, 3]], dtype=int32)>"
      ]
     },
     "execution_count": 90,
     "metadata": {},
     "output_type": "execute_result"
    }
   ],
   "source": [
    "tf.transpose(a)"
   ]
  },
  {
   "cell_type": "code",
   "execution_count": 92,
   "id": "0cd70cee-dc58-4549-b817-b96537178155",
   "metadata": {},
   "outputs": [
    {
     "data": {
      "text/plain": [
       "<tf.Tensor: shape=(3, 3), dtype=int32, numpy=\n",
       "array([[1, 2, 5],\n",
       "       [7, 2, 1],\n",
       "       [3, 3, 3]], dtype=int32)>"
      ]
     },
     "execution_count": 92,
     "metadata": {},
     "output_type": "execute_result"
    }
   ],
   "source": [
    "tf.reshape(a, shape=(3,3))"
   ]
  },
  {
   "cell_type": "markdown",
   "id": "9c873b3b-c1df-4490-b8de-98ce9e73a8b8",
   "metadata": {},
   "source": [
    "Transpose and Reshape are entirely different. \n",
    "Reshape is very dangeorus, as it is just shuffling the numbers to get the new given shape values.\n",
    "\n",
    "While Transpose has systematic way of restructing the given matrix."
   ]
  },
  {
   "cell_type": "code",
   "execution_count": 95,
   "id": "c056c4e4-7e71-46dd-9c1a-c43ee74097a3",
   "metadata": {},
   "outputs": [
    {
     "data": {
      "text/plain": [
       "<tf.Tensor: shape=(3, 2), dtype=int32, numpy=\n",
       "array([[20, 59],\n",
       "       [34, 57],\n",
       "       [30, 60]], dtype=int32)>"
      ]
     },
     "execution_count": 95,
     "metadata": {},
     "output_type": "execute_result"
    }
   ],
   "source": [
    "# Not very clear for me\n",
    "tf.tensordot(a,b, axes=1)"
   ]
  },
  {
   "cell_type": "markdown",
   "id": "e471e2ab-c7d8-4140-a665-bdc0c9eb031c",
   "metadata": {
    "jp-MarkdownHeadingCollapsed": true,
    "tags": []
   },
   "source": [
    "### Changing Data Type of a Tensor"
   ]
  },
  {
   "cell_type": "code",
   "execution_count": 102,
   "id": "a0566a8f-9752-4b39-a89a-e618dd55bf8d",
   "metadata": {},
   "outputs": [
    {
     "name": "stdout",
     "output_type": "stream",
     "text": [
      "<dtype: 'float32'>\n"
     ]
    },
    {
     "data": {
      "text/plain": [
       "<tf.Tensor: shape=(2,), dtype=float32, numpy=array([1.7, 7.4], dtype=float32)>"
      ]
     },
     "execution_count": 102,
     "metadata": {},
     "output_type": "execute_result"
    }
   ],
   "source": [
    "a = tf.constant([1.7,7.4])\n",
    "print(a.dtype)\n",
    "a"
   ]
  },
  {
   "cell_type": "code",
   "execution_count": 103,
   "id": "42e8c94f-f097-4d09-b52c-d19fdc8326ec",
   "metadata": {},
   "outputs": [
    {
     "name": "stdout",
     "output_type": "stream",
     "text": [
      "<dtype: 'int32'>\n"
     ]
    },
    {
     "data": {
      "text/plain": [
       "<tf.Tensor: shape=(2,), dtype=int32, numpy=array([1, 7], dtype=int32)>"
      ]
     },
     "execution_count": 103,
     "metadata": {},
     "output_type": "execute_result"
    }
   ],
   "source": [
    "b = tf.constant([1,7])\n",
    "print(b.dtype)\n",
    "b"
   ]
  },
  {
   "cell_type": "markdown",
   "id": "6cc95e7f-36df-4fe8-8624-b66436eb268d",
   "metadata": {},
   "source": [
    "Based on the data which is inside the tensor, the data type will be decided. Default is `32 bit` of the given type."
   ]
  },
  {
   "cell_type": "code",
   "execution_count": 104,
   "id": "38fc68d7-5671-4e49-90ad-c42e58d6d961",
   "metadata": {},
   "outputs": [
    {
     "data": {
      "text/plain": [
       "<tf.Tensor: shape=(2,), dtype=float16, numpy=array([1.7, 7.4], dtype=float16)>"
      ]
     },
     "execution_count": 104,
     "metadata": {},
     "output_type": "execute_result"
    }
   ],
   "source": [
    "tf.cast(a,dtype=tf.float16)"
   ]
  },
  {
   "cell_type": "code",
   "execution_count": 105,
   "id": "a344087c-3239-4c0f-b031-7e68894ccbad",
   "metadata": {},
   "outputs": [
    {
     "data": {
      "text/plain": [
       "<tf.Tensor: shape=(2,), dtype=int16, numpy=array([1, 7], dtype=int16)>"
      ]
     },
     "execution_count": 105,
     "metadata": {},
     "output_type": "execute_result"
    }
   ],
   "source": [
    "tf.cast(a,dtype=tf.int16)"
   ]
  },
  {
   "cell_type": "markdown",
   "id": "394fd396-3a70-4468-8fc1-0363c0fa2013",
   "metadata": {},
   "source": [
    "We can change from `float32` to `int16` and wise versa as well"
   ]
  },
  {
   "cell_type": "code",
   "execution_count": 108,
   "id": "8a323ae5-588c-480a-8e18-51c0d6a12f7c",
   "metadata": {},
   "outputs": [
    {
     "data": {
      "text/plain": [
       "<tf.Tensor: shape=(2,), dtype=float32, numpy=array([1.7, 7.4], dtype=float32)>"
      ]
     },
     "execution_count": 108,
     "metadata": {},
     "output_type": "execute_result"
    }
   ],
   "source": [
    "tf.cast(a,dtype=tf.float32)"
   ]
  },
  {
   "cell_type": "markdown",
   "id": "ce766768-d77a-4816-a481-16dbafb7e28c",
   "metadata": {
    "jp-MarkdownHeadingCollapsed": true,
    "tags": []
   },
   "source": [
    "### Aggregating Tensors"
   ]
  },
  {
   "cell_type": "code",
   "execution_count": 112,
   "id": "3fc5715d-e6b1-47f4-bad4-ed8440e9e1ee",
   "metadata": {},
   "outputs": [
    {
     "data": {
      "text/plain": [
       "<tf.Tensor: shape=(3, 3), dtype=float32, numpy=\n",
       "array([[ 7.304224  ,  0.64422756, -4.1128983 ],\n",
       "       [-3.59131   ,  3.188889  , -1.1616077 ],\n",
       "       [ 4.190223  , -3.5656834 ,  7.2298436 ]], dtype=float32)>"
      ]
     },
     "execution_count": 112,
     "metadata": {},
     "output_type": "execute_result"
    }
   ],
   "source": [
    "a = tf.random.normal(shape=(3,3),\n",
    "                     mean=0,\n",
    "                     stddev=-5)\n",
    "a"
   ]
  },
  {
   "cell_type": "markdown",
   "id": "7bb53031-a62b-4491-829b-fb6224e7f9e5",
   "metadata": {},
   "source": [
    "* Absolute values\n",
    "* Minimum\n",
    "* Maximum\n",
    "* Mean\n",
    "* Sum\n",
    "* Positional Max (argmax)\n",
    "* Positional Min (argmin)"
   ]
  },
  {
   "cell_type": "code",
   "execution_count": 113,
   "id": "3ef99953-9798-435a-a437-40cfc714e869",
   "metadata": {},
   "outputs": [
    {
     "data": {
      "text/plain": [
       "<tf.Tensor: shape=(3, 3), dtype=float32, numpy=\n",
       "array([[7.304224  , 0.64422756, 4.1128983 ],\n",
       "       [3.59131   , 3.188889  , 1.1616077 ],\n",
       "       [4.190223  , 3.5656834 , 7.2298436 ]], dtype=float32)>"
      ]
     },
     "execution_count": 113,
     "metadata": {},
     "output_type": "execute_result"
    }
   ],
   "source": [
    "# Get absolute Values\n",
    "tf.abs(a)"
   ]
  },
  {
   "cell_type": "code",
   "execution_count": 231,
   "id": "d4fb49ba-5488-4886-ac2e-b7aa55ae96ab",
   "metadata": {},
   "outputs": [
    {
     "data": {
      "text/plain": [
       "<tf.Tensor: shape=(50,), dtype=int32, numpy=\n",
       "array([49, 47, 86, 72,  9, 89, 45, 99, 48, 86,  2, 76, 86, 61, 10, 55, 44,\n",
       "       86, 89, 17,  7, 58,  7, 98, 57, 63, 40, 24, 48, 21, 92, 56, 20, 94,\n",
       "       29, 40, 15,  4, 98, 28, 17, 50, 71, 29, 99, 58, 96, 38, 30, 34],\n",
       "      dtype=int32)>"
      ]
     },
     "execution_count": 231,
     "metadata": {},
     "output_type": "execute_result"
    }
   ],
   "source": [
    "import numpy as np\n",
    "tf.random.set_seed(42)\n",
    "a = tf.random.uniform(shape=(50,),\n",
    "                    minval=1,\n",
    "                      maxval=100,\n",
    "                      dtype=tf.int32,\n",
    "                      seed=42)\n",
    "\n",
    "a"
   ]
  },
  {
   "cell_type": "code",
   "execution_count": 232,
   "id": "53925022-dfd2-4722-986d-b48a6c5914ef",
   "metadata": {},
   "outputs": [
    {
     "name": "stdout",
     "output_type": "stream",
     "text": [
      "Shape of Given Tensor : (50,)\n",
      "Size of Given Tensor : 50\n",
      "Rank  of Given Tensor : 1\n",
      "Data type of Given Tensor Elements : <dtype: 'int32'>\n"
     ]
    }
   ],
   "source": [
    "print(\"Shape of Given Tensor :\" , a.shape)\n",
    "print(\"Size of Given Tensor :\" , tf.size(a).numpy())\n",
    "print(\"Rank  of Given Tensor :\" , a.ndim)\n",
    "print(\"Data type of Given Tensor Elements :\" , a.dtype)"
   ]
  },
  {
   "cell_type": "code",
   "execution_count": 233,
   "id": "7a3f29a5-0a59-460c-b17d-dee3b2282729",
   "metadata": {},
   "outputs": [
    {
     "data": {
      "text/plain": [
       "2"
      ]
     },
     "execution_count": 233,
     "metadata": {},
     "output_type": "execute_result"
    }
   ],
   "source": [
    "tf.reduce_min(a).numpy()"
   ]
  },
  {
   "cell_type": "code",
   "execution_count": 234,
   "id": "32ec9a54-d6e5-474c-9fa7-c41d1aa2d35c",
   "metadata": {},
   "outputs": [
    {
     "data": {
      "text/plain": [
       "99"
      ]
     },
     "execution_count": 234,
     "metadata": {},
     "output_type": "execute_result"
    }
   ],
   "source": [
    "tf.reduce_max(a).numpy()"
   ]
  },
  {
   "cell_type": "code",
   "execution_count": 235,
   "id": "9f3dc114-3267-4654-bafd-c486181ae741",
   "metadata": {},
   "outputs": [
    {
     "data": {
      "text/plain": [
       "51"
      ]
     },
     "execution_count": 235,
     "metadata": {},
     "output_type": "execute_result"
    }
   ],
   "source": [
    "tf.reduce_mean(a).numpy()"
   ]
  },
  {
   "cell_type": "code",
   "execution_count": 236,
   "id": "631c4628-7ba9-4251-a83a-4c078444333b",
   "metadata": {},
   "outputs": [
    {
     "data": {
      "text/plain": [
       "2577"
      ]
     },
     "execution_count": 236,
     "metadata": {},
     "output_type": "execute_result"
    }
   ],
   "source": [
    "tf.reduce_sum(a).numpy()"
   ]
  },
  {
   "cell_type": "code",
   "execution_count": 237,
   "id": "1c66eecf-c791-4d1c-bd2e-203adeecc157",
   "metadata": {},
   "outputs": [
    {
     "data": {
      "text/plain": [
       "902.5284"
      ]
     },
     "execution_count": 237,
     "metadata": {},
     "output_type": "execute_result"
    }
   ],
   "source": [
    "tf.math.reduce_variance(tf.cast(a,dtype=tf.float32)).numpy()"
   ]
  },
  {
   "cell_type": "code",
   "execution_count": 239,
   "id": "8afd132e-284a-434a-b0d2-7d714b723be4",
   "metadata": {},
   "outputs": [
    {
     "data": {
      "text/plain": [
       "30.04211"
      ]
     },
     "execution_count": 239,
     "metadata": {},
     "output_type": "execute_result"
    }
   ],
   "source": [
    "tf.math.reduce_std(tf.cast(a,dtype=tf.float32)).numpy()"
   ]
  },
  {
   "cell_type": "code",
   "execution_count": 241,
   "id": "697d08ee-6a0e-435f-a75a-87037a76441d",
   "metadata": {},
   "outputs": [
    {
     "data": {
      "text/plain": [
       "7"
      ]
     },
     "execution_count": 241,
     "metadata": {},
     "output_type": "execute_result"
    }
   ],
   "source": [
    "tf.argmax(a).numpy()"
   ]
  },
  {
   "cell_type": "code",
   "execution_count": 243,
   "id": "e42ef938-7141-4af6-a2b0-c1a19827989a",
   "metadata": {},
   "outputs": [
    {
     "data": {
      "text/plain": [
       "10"
      ]
     },
     "execution_count": 243,
     "metadata": {},
     "output_type": "execute_result"
    }
   ],
   "source": [
    "tf.argmin(a).numpy()"
   ]
  },
  {
   "cell_type": "markdown",
   "id": "a00cc0c0-aede-41a5-b301-0d1587df9bdd",
   "metadata": {
    "jp-MarkdownHeadingCollapsed": true,
    "tags": []
   },
   "source": [
    "### Squeeze a Tensor ( Remove 1 dimension from Tensor)"
   ]
  },
  {
   "cell_type": "code",
   "execution_count": 248,
   "id": "47c25890-5209-44ad-b3f9-1e641efe80ae",
   "metadata": {},
   "outputs": [
    {
     "name": "stdout",
     "output_type": "stream",
     "text": [
      "(1, 2, 3, 1, 1, 5, 1, 1)\n",
      "<dtype: 'float32'>\n"
     ]
    }
   ],
   "source": [
    "a = tf.random.uniform(shape=(1,2,3,1,1,5,1,1))\n",
    "print(a.shape)\n",
    "print(a.dtype)"
   ]
  },
  {
   "cell_type": "code",
   "execution_count": 249,
   "id": "f7fae0cf-a357-46ed-ac2a-01b38865e113",
   "metadata": {},
   "outputs": [
    {
     "data": {
      "text/plain": [
       "<tf.Tensor: shape=(2, 3, 5), dtype=float32, numpy=\n",
       "array([[[0.803156  , 0.49777734, 0.37054038, 0.9118674 , 0.637642  ],\n",
       "        [0.18209696, 0.63791955, 0.27701473, 0.04227114, 0.84219384],\n",
       "        [0.90637195, 0.222556  , 0.9198462 , 0.68789077, 0.42705178]],\n",
       "\n",
       "       [[0.878158  , 0.6943959 , 0.46567595, 0.52925766, 0.33019018],\n",
       "        [0.12754858, 0.16153514, 0.5085137 , 0.44301772, 0.35205877],\n",
       "        [0.8969147 , 0.24940813, 0.76328313, 0.85935795, 0.08480155]]],\n",
       "      dtype=float32)>"
      ]
     },
     "execution_count": 249,
     "metadata": {},
     "output_type": "execute_result"
    }
   ],
   "source": [
    "tf.squeeze(a)"
   ]
  },
  {
   "cell_type": "code",
   "execution_count": 251,
   "id": "cad5f2c2-6f6b-46a0-a35b-3603a4960b9e",
   "metadata": {},
   "outputs": [
    {
     "data": {
      "text/plain": [
       "TensorShape([2, 3, 5])"
      ]
     },
     "execution_count": 251,
     "metadata": {},
     "output_type": "execute_result"
    }
   ],
   "source": [
    "tf.squeeze(a).shape"
   ]
  },
  {
   "cell_type": "markdown",
   "id": "a698af1c-c7e2-4b5c-af82-24c67f9c35d6",
   "metadata": {
    "jp-MarkdownHeadingCollapsed": true,
    "tags": []
   },
   "source": [
    "### One-Hot Encoding"
   ]
  },
  {
   "cell_type": "code",
   "execution_count": 262,
   "id": "e3c0941c-4d36-4be0-b106-84dbdaa3433a",
   "metadata": {},
   "outputs": [
    {
     "data": {
      "text/plain": [
       "<tf.Tensor: shape=(6, 5), dtype=int32, numpy=\n",
       "array([[1, 0, 0, 0, 0],\n",
       "       [0, 1, 0, 0, 0],\n",
       "       [0, 0, 1, 0, 0],\n",
       "       [0, 0, 0, 1, 0],\n",
       "       [0, 0, 0, 0, 1],\n",
       "       [1, 0, 0, 0, 0]], dtype=int32)>"
      ]
     },
     "execution_count": 262,
     "metadata": {},
     "output_type": "execute_result"
    }
   ],
   "source": [
    "li = [\"red\", \"blue\", \"green\", \"purple\", \"red\"]\n",
    "li = [0,1,2,3,4,0]\n",
    "\n",
    "tf.one_hot(li,depth=5,dtype=tf.int32)"
   ]
  },
  {
   "cell_type": "code",
   "execution_count": 265,
   "id": "8de890a8-2e57-469a-bf47-14f36cf5d184",
   "metadata": {},
   "outputs": [
    {
     "data": {
      "text/plain": [
       "<tf.Tensor: shape=(6, 5), dtype=string, numpy=\n",
       "array([[b'Yes', b'No', b'No', b'No', b'No'],\n",
       "       [b'No', b'Yes', b'No', b'No', b'No'],\n",
       "       [b'No', b'No', b'Yes', b'No', b'No'],\n",
       "       [b'No', b'No', b'No', b'Yes', b'No'],\n",
       "       [b'No', b'No', b'No', b'No', b'Yes'],\n",
       "       [b'Yes', b'No', b'No', b'No', b'No']], dtype=object)>"
      ]
     },
     "execution_count": 265,
     "metadata": {},
     "output_type": "execute_result"
    }
   ],
   "source": [
    "tf.one_hot(li,depth=5,on_value=\"Yes\",off_value=\"No\")"
   ]
  },
  {
   "cell_type": "markdown",
   "id": "b1f4937b-6d0d-48b1-b2fe-557c8726a08e",
   "metadata": {
    "jp-MarkdownHeadingCollapsed": true,
    "tags": []
   },
   "source": [
    "### More Math operations"
   ]
  },
  {
   "cell_type": "code",
   "execution_count": 267,
   "id": "a60e61d3-9709-4822-8e3d-ba70fa81628c",
   "metadata": {},
   "outputs": [
    {
     "data": {
      "text/plain": [
       "<tf.Tensor: shape=(9,), dtype=int32, numpy=array([1, 2, 3, 4, 5, 6, 7, 8, 9], dtype=int32)>"
      ]
     },
     "execution_count": 267,
     "metadata": {},
     "output_type": "execute_result"
    }
   ],
   "source": [
    "a = tf.range(1,10)\n",
    "a"
   ]
  },
  {
   "cell_type": "markdown",
   "id": "4ad06824-f532-4924-a662-57e5f49417d1",
   "metadata": {},
   "source": [
    "    * Squaring\n",
    "    * Log\n",
    "    * Square Root"
   ]
  },
  {
   "cell_type": "code",
   "execution_count": 268,
   "id": "2d601303-7095-48f6-a617-8357b7ebb117",
   "metadata": {},
   "outputs": [
    {
     "data": {
      "text/plain": [
       "<tf.Tensor: shape=(9,), dtype=int32, numpy=array([ 1,  4,  9, 16, 25, 36, 49, 64, 81], dtype=int32)>"
      ]
     },
     "execution_count": 268,
     "metadata": {},
     "output_type": "execute_result"
    }
   ],
   "source": [
    "tf.square(a)"
   ]
  },
  {
   "cell_type": "code",
   "execution_count": 271,
   "id": "bd98a2ef-0b5b-4251-af9e-c58f5586c8ba",
   "metadata": {},
   "outputs": [
    {
     "data": {
      "text/plain": [
       "<tf.Tensor: shape=(9,), dtype=float32, numpy=\n",
       "array([0.99999994, 1.4142134 , 1.7320508 , 1.9999999 , 2.236068  ,\n",
       "       2.4494896 , 2.6457512 , 2.8284268 , 3.        ], dtype=float32)>"
      ]
     },
     "execution_count": 271,
     "metadata": {},
     "output_type": "execute_result"
    }
   ],
   "source": [
    "tf.sqrt(tf.cast(a,dtype=tf.float32))"
   ]
  },
  {
   "cell_type": "code",
   "execution_count": 274,
   "id": "2cde77b6-871d-47cc-a401-f75693a71448",
   "metadata": {},
   "outputs": [
    {
     "data": {
      "text/plain": [
       "<tf.Tensor: shape=(9,), dtype=float32, numpy=\n",
       "array([0.       , 0.6931472, 1.0986123, 1.3862944, 1.609438 , 1.7917595,\n",
       "       1.9459102, 2.0794415, 2.1972246], dtype=float32)>"
      ]
     },
     "execution_count": 274,
     "metadata": {},
     "output_type": "execute_result"
    }
   ],
   "source": [
    "tf.math.log(tf.cast(a,dtype=tf.float32))"
   ]
  },
  {
   "cell_type": "markdown",
   "id": "d6d65342-cabb-415d-a533-d49e0842338c",
   "metadata": {
    "jp-MarkdownHeadingCollapsed": true,
    "tags": []
   },
   "source": [
    "### Compatiblity in between NP and TF"
   ]
  },
  {
   "cell_type": "code",
   "execution_count": 281,
   "id": "ba6d08e4-7e06-44a9-9623-f0b10da2a31b",
   "metadata": {},
   "outputs": [
    {
     "name": "stdout",
     "output_type": "stream",
     "text": [
      "<class 'numpy.ndarray'>\n"
     ]
    },
    {
     "data": {
      "text/plain": [
       "array([ 3,  7, 10])"
      ]
     },
     "execution_count": 281,
     "metadata": {},
     "output_type": "execute_result"
    }
   ],
   "source": [
    "# They work together and have highest level of interactiosn\n",
    "a = np.array([3,7,10])\n",
    "print(type(a))\n",
    "a"
   ]
  },
  {
   "cell_type": "code",
   "execution_count": 279,
   "id": "7b9d28c3-55d4-4eea-b6f4-e6d6bd8093d0",
   "metadata": {},
   "outputs": [
    {
     "name": "stdout",
     "output_type": "stream",
     "text": [
      "<class 'tensorflow.python.framework.ops.EagerTensor'>\n"
     ]
    },
    {
     "data": {
      "text/plain": [
       "<tf.Tensor: shape=(3,), dtype=int64, numpy=array([ 3,  7, 10])>"
      ]
     },
     "execution_count": 279,
     "metadata": {},
     "output_type": "execute_result"
    }
   ],
   "source": [
    "a = tf.constant(a)\n",
    "print(type(a))\n",
    "a"
   ]
  },
  {
   "cell_type": "code",
   "execution_count": 282,
   "id": "8af30e9b-99e7-492a-9015-187966725979",
   "metadata": {},
   "outputs": [
    {
     "ename": "AttributeError",
     "evalue": "'numpy.ndarray' object has no attribute 'numpy'",
     "output_type": "error",
     "traceback": [
      "\u001b[0;31m---------------------------------------------------------------------------\u001b[0m",
      "\u001b[0;31mAttributeError\u001b[0m                            Traceback (most recent call last)",
      "\u001b[0;32m/var/folders/t7/j_q0l7w9757_gtsf3gjzsnpx8y5_w2/T/ipykernel_14417/835492457.py\u001b[0m in \u001b[0;36m<module>\u001b[0;34m\u001b[0m\n\u001b[0;32m----> 1\u001b[0;31m \u001b[0ma\u001b[0m \u001b[0;34m=\u001b[0m \u001b[0ma\u001b[0m\u001b[0;34m.\u001b[0m\u001b[0mnumpy\u001b[0m\u001b[0;34m(\u001b[0m\u001b[0;34m)\u001b[0m  \u001b[0;31m#np.array(a)\u001b[0m\u001b[0;34m\u001b[0m\u001b[0;34m\u001b[0m\u001b[0m\n\u001b[0m\u001b[1;32m      2\u001b[0m \u001b[0mprint\u001b[0m\u001b[0;34m(\u001b[0m\u001b[0mtype\u001b[0m\u001b[0;34m(\u001b[0m\u001b[0ma\u001b[0m\u001b[0;34m)\u001b[0m\u001b[0;34m)\u001b[0m\u001b[0;34m\u001b[0m\u001b[0;34m\u001b[0m\u001b[0m\n\u001b[1;32m      3\u001b[0m \u001b[0ma\u001b[0m\u001b[0;34m\u001b[0m\u001b[0;34m\u001b[0m\u001b[0m\n",
      "\u001b[0;31mAttributeError\u001b[0m: 'numpy.ndarray' object has no attribute 'numpy'"
     ]
    }
   ],
   "source": [
    "a = a.numpy()  #np.array(a)\n",
    "print(type(a))\n",
    "a"
   ]
  },
  {
   "cell_type": "markdown",
   "id": "309519be-51ac-4ee0-8ddf-0a41cf5b6b8e",
   "metadata": {},
   "source": [
    "Default data type can be different between np and tf.\n",
    "TF elements run on GPU but \n",
    "NP elements can only run in CPU."
   ]
  },
  {
   "cell_type": "markdown",
   "id": "35e64220-3d9a-48a4-a3ca-4492808c7d0b",
   "metadata": {
    "jp-MarkdownHeadingCollapsed": true,
    "tags": []
   },
   "source": [
    "### GPU usage"
   ]
  },
  {
   "cell_type": "code",
   "execution_count": 287,
   "id": "7536360f-4737-4a87-b3c7-6ff028049f4d",
   "metadata": {},
   "outputs": [
    {
     "data": {
      "text/plain": [
       "False"
      ]
     },
     "execution_count": 287,
     "metadata": {},
     "output_type": "execute_result"
    }
   ],
   "source": [
    "tf.test.is_built_with_gpu_support()"
   ]
  },
  {
   "cell_type": "code",
   "execution_count": 285,
   "id": "966ee306-c523-4e8d-9571-fb91078e15ce",
   "metadata": {},
   "outputs": [
    {
     "data": {
      "text/plain": [
       "[PhysicalDevice(name='/physical_device:CPU:0', device_type='CPU')]"
      ]
     },
     "execution_count": 285,
     "metadata": {},
     "output_type": "execute_result"
    }
   ],
   "source": [
    "tf.config.list_physical_devices()"
   ]
  },
  {
   "cell_type": "code",
   "execution_count": 288,
   "id": "1532036b-b032-42a9-89a1-b5b104e263ac",
   "metadata": {},
   "outputs": [
    {
     "data": {
      "text/plain": [
       "[]"
      ]
     },
     "execution_count": 288,
     "metadata": {},
     "output_type": "execute_result"
    }
   ],
   "source": [
    "tf.config.list_physical_devices(\"GPU\")"
   ]
  },
  {
   "cell_type": "code",
   "execution_count": 290,
   "id": "3e08c7f2-0315-4d8d-9a80-6510ae1db232",
   "metadata": {},
   "outputs": [
    {
     "data": {
      "text/plain": [
       "False"
      ]
     },
     "execution_count": 290,
     "metadata": {},
     "output_type": "execute_result"
    }
   ],
   "source": [
    "tf.test.is_built_with_cuda()"
   ]
  },
  {
   "cell_type": "code",
   "execution_count": null,
   "id": "4fa9d343-c9df-478a-8827-a1f21cdcbfc1",
   "metadata": {},
   "outputs": [],
   "source": [
    "!nvidia-smi"
   ]
  }
 ],
 "metadata": {
  "kernelspec": {
   "display_name": "Python 3 (ipykernel)",
   "language": "python",
   "name": "python3"
  },
  "language_info": {
   "codemirror_mode": {
    "name": "ipython",
    "version": 3
   },
   "file_extension": ".py",
   "mimetype": "text/x-python",
   "name": "python",
   "nbconvert_exporter": "python",
   "pygments_lexer": "ipython3",
   "version": "3.9.7"
  }
 },
 "nbformat": 4,
 "nbformat_minor": 5
}
